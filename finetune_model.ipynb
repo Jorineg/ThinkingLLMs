{
 "cells": [
  {
   "cell_type": "code",
   "execution_count": 1,
   "metadata": {},
   "outputs": [
    {
     "name": "stderr",
     "output_type": "stream",
     "text": [
      "c:\\Users\\jorin\\.conda\\envs\\AGI\\Lib\\site-packages\\tqdm\\auto.py:21: TqdmWarning: IProgress not found. Please update jupyter and ipywidgets. See https://ipywidgets.readthedocs.io/en/stable/user_install.html\n",
      "  from .autonotebook import tqdm as notebook_tqdm\n"
     ]
    }
   ],
   "source": [
    "# fine tune the model on the CoT dataset\n",
    "# train only for output tokens in the dataset\n",
    "\n",
    "from transformers import AutoTokenizer, AutoModelForCausalLM, Trainer, TrainingArguments, DataCollatorForLanguageModeling, TrainerCallback\n",
    "from datasets import load_dataset\n",
    "from peft import LoraConfig, TaskType, get_peft_model\n",
    "import wandb\n",
    "\n",
    "\n",
    "peft_config = LoraConfig(task_type=TaskType.CAUSAL_LM, inference_mode=False, r=8, lora_alpha=32, lora_dropout=0.1)\n",
    "\n",
    "\n",
    "batch_size = 8\n",
    "\n",
    "model_name = \"facebook/galactica-125m\"\n",
    "tokenizer_name = model_name\n",
    "\n",
    "dataset_name = \"jeggers/CoT-Collection-finetuning\"\n",
    "input_column = \"final_input\"\n",
    "output_column = \"final_target\""
   ]
  },
  {
   "cell_type": "code",
   "execution_count": 33,
   "metadata": {},
   "outputs": [
    {
     "name": "stdout",
     "output_type": "stream",
     "text": [
      "Error in callback <bound method _WandbInit._resume_backend of <wandb.sdk.wandb_init._WandbInit object at 0x000001FFFBA033D0>> (for pre_run_cell), with arguments args (<ExecutionInfo object at 20238f0f8d0, raw_cell=\"# load model, tokenizer and dataset\n",
      "tokenizer = Au..\" store_history=True silent=False shell_futures=True cell_id=vscode-notebook-cell:/d%3A/Google%20Drive/Other%20computers/My%20laptop/Daten/Hobbys/Informatik/Mashine%20leaning/ThinkingLLMs/finetune_model.ipynb#W1sZmlsZQ%3D%3D>,),kwargs {}:\n"
     ]
    },
    {
     "ename": "TypeError",
     "evalue": "_WandbInit._resume_backend() takes 1 positional argument but 2 were given",
     "output_type": "error",
     "traceback": [
      "\u001b[1;31m---------------------------------------------------------------------------\u001b[0m",
      "\u001b[1;31mTypeError\u001b[0m                                 Traceback (most recent call last)",
      "\u001b[1;31mTypeError\u001b[0m: _WandbInit._resume_backend() takes 1 positional argument but 2 were given"
     ]
    },
    {
     "name": "stderr",
     "output_type": "stream",
     "text": [
      "c:\\Users\\jorin\\.conda\\envs\\AGI\\Lib\\site-packages\\huggingface_hub\\file_download.py:1132: FutureWarning: `resume_download` is deprecated and will be removed in version 1.0.0. Downloads always resume when possible. If you want to force a new download, use `force_download=True`.\n",
      "  warnings.warn(\n",
      "Map: 100%|██████████| 1299/1299 [00:00<00:00, 30989.04 examples/s]\n",
      "Map: 100%|██████████| 145/145 [00:00<00:00, 5072.18 examples/s]"
     ]
    },
    {
     "name": "stdout",
     "output_type": "stream",
     "text": [
      "trainable params: 294,912 || all params: 125,325,312 || trainable%: 0.2353\n",
      "Error in callback <bound method _WandbInit._pause_backend of <wandb.sdk.wandb_init._WandbInit object at 0x000001FFFBA033D0>> (for post_run_cell), with arguments args (<ExecutionResult object at 2024436fb10, execution_count=33 error_before_exec=None error_in_exec=None info=<ExecutionInfo object at 20238f0f8d0, raw_cell=\"# load model, tokenizer and dataset\n",
      "tokenizer = Au..\" store_history=True silent=False shell_futures=True cell_id=vscode-notebook-cell:/d%3A/Google%20Drive/Other%20computers/My%20laptop/Daten/Hobbys/Informatik/Mashine%20leaning/ThinkingLLMs/finetune_model.ipynb#W1sZmlsZQ%3D%3D> result=None>,),kwargs {}:\n"
     ]
    },
    {
     "name": "stderr",
     "output_type": "stream",
     "text": [
      "\n"
     ]
    },
    {
     "ename": "TypeError",
     "evalue": "_WandbInit._pause_backend() takes 1 positional argument but 2 were given",
     "output_type": "error",
     "traceback": [
      "\u001b[1;31m---------------------------------------------------------------------------\u001b[0m",
      "\u001b[1;31mTypeError\u001b[0m                                 Traceback (most recent call last)",
      "\u001b[1;31mTypeError\u001b[0m: _WandbInit._pause_backend() takes 1 positional argument but 2 were given"
     ]
    }
   ],
   "source": [
    "# load model, tokenizer and dataset\n",
    "tokenizer = AutoTokenizer.from_pretrained(tokenizer_name)\n",
    "model = AutoModelForCausalLM.from_pretrained(model_name).to(\"cuda\")\n",
    "dataset = load_dataset(dataset_name)\n",
    "dataset = dataset[\"train\"].train_test_split(test_size=0.1)\n",
    "\n",
    "# create new 'all' column that contains both input and output tokens\n",
    "def combine_input_output(batch):\n",
    "    return {\"all\": [x + y + \"</s>\" for x, y in zip(batch[input_column], batch[output_column])]}\n",
    "dataset = dataset.map(combine_input_output, batched=True, batch_size=-1)\n",
    "\n",
    "# convert to peft model\n",
    "model = get_peft_model(model, peft_config)\n",
    "model.print_trainable_parameters()"
   ]
  },
  {
   "cell_type": "code",
   "execution_count": 34,
   "metadata": {},
   "outputs": [
    {
     "name": "stdout",
     "output_type": "stream",
     "text": [
      "Error in callback <bound method _WandbInit._resume_backend of <wandb.sdk.wandb_init._WandbInit object at 0x000001FFFBA033D0>> (for pre_run_cell), with arguments args (<ExecutionInfo object at 2024435fe50, raw_cell=\"# print first 5 examples\n",
      "from pprint import pprint..\" store_history=True silent=False shell_futures=True cell_id=vscode-notebook-cell:/d%3A/Google%20Drive/Other%20computers/My%20laptop/Daten/Hobbys/Informatik/Mashine%20leaning/ThinkingLLMs/finetune_model.ipynb#X11sZmlsZQ%3D%3D>,),kwargs {}:\n"
     ]
    },
    {
     "ename": "TypeError",
     "evalue": "_WandbInit._resume_backend() takes 1 positional argument but 2 were given",
     "output_type": "error",
     "traceback": [
      "\u001b[1;31m---------------------------------------------------------------------------\u001b[0m",
      "\u001b[1;31mTypeError\u001b[0m                                 Traceback (most recent call last)",
      "\u001b[1;31mTypeError\u001b[0m: _WandbInit._resume_backend() takes 1 positional argument but 2 were given"
     ]
    },
    {
     "name": "stdout",
     "output_type": "stream",
     "text": [
      "['Below are two sentences. Identify the word that appears in both and decide '\n",
      " \"if its meaning is consistent across the sentences. Answer 'True' or \"\n",
      " \"'False'.\\n\"\n",
      " '\\n'\n",
      " 'Sentence 1: Can you play on this old recorder?\\n'\n",
      " '\\n'\n",
      " 'Sentence 2: He plays the flute.\\n'\n",
      " 'BOT: ANSWER: True</s>',\n",
      " 'When the division was calculated by changing the tens and units digits of '\n",
      " 'the divisor, the quotient and remainder were 25 each. When the divisor is '\n",
      " '65, find the sum of the correctly calculated quotient and remainder.\\n'\n",
      " 'BOT: 1. The original divisor had its digits swapped, so it was 56.\\n'\n",
      " '2. With 56 as divisor, quotient and remainder were both 25.\\n'\n",
      " '3. This means the dividend was 56 * 25 + 25 = 1425.\\n'\n",
      " '4. Now, we need to divide 1425 by 65 (the correct divisor).\\n'\n",
      " '5. 1425 ÷ 65 = 21 remainder 60\\n'\n",
      " '6. Sum of correct quotient and remainder: 21 + 60 = 81\\n'\n",
      " '\\n'\n",
      " 'ANSWER: 81</s>',\n",
      " 'Yoongi got 4, and Yuna got 5, and Jungkook got the numbr that is 6 '\n",
      " 'multiplied by 3. Who got the smallest number?\\n'\n",
      " 'BOT: 1. Identify the numbers each person got:\\n'\n",
      " '   Yoongi: 4\\n'\n",
      " '   Yuna: 5\\n'\n",
      " '   Jungkook: 6 × 3 = 18\\n'\n",
      " '\\n'\n",
      " '2. Compare the numbers:\\n'\n",
      " '   4 < 5 < 18\\n'\n",
      " '\\n'\n",
      " '3. Determine the smallest number:\\n'\n",
      " '   4 is the smallest\\n'\n",
      " '\\n'\n",
      " 'ANSWER: Yoongi</s>',\n",
      " 'From the given options, answer the question by replying with the '\n",
      " 'corresponding letter.\\n'\n",
      " '\\n'\n",
      " 'Question:\\n'\n",
      " 'Estuaries are called \"the nurseries of the sea\" because many species lay '\n",
      " 'eggs and develop their young in estuaries. Which two features of estuaries '\n",
      " 'support this role most?\\n'\n",
      " '\\n'\n",
      " 'Options:\\n'\n",
      " 'A: concentrated nutrients and a steep salt gradient\\n'\n",
      " 'B: abundant shelter and concentrated nutrients\\n'\n",
      " 'C: a steep salt gradient and shallow water\\n'\n",
      " 'D: shallow water and abundant shelter\\n'\n",
      " 'BOT: ANSWER: B</s>',\n",
      " \"Transform 'broadway' by reversing it.\\nBOT: ANSWER: yawdaorb</s>\"]\n",
      "Error in callback <bound method _WandbInit._pause_backend of <wandb.sdk.wandb_init._WandbInit object at 0x000001FFFBA033D0>> (for post_run_cell), with arguments args (<ExecutionResult object at 2024435cf90, execution_count=34 error_before_exec=None error_in_exec=None info=<ExecutionInfo object at 2024435fe50, raw_cell=\"# print first 5 examples\n",
      "from pprint import pprint..\" store_history=True silent=False shell_futures=True cell_id=vscode-notebook-cell:/d%3A/Google%20Drive/Other%20computers/My%20laptop/Daten/Hobbys/Informatik/Mashine%20leaning/ThinkingLLMs/finetune_model.ipynb#X11sZmlsZQ%3D%3D> result=None>,),kwargs {}:\n"
     ]
    },
    {
     "ename": "TypeError",
     "evalue": "_WandbInit._pause_backend() takes 1 positional argument but 2 were given",
     "output_type": "error",
     "traceback": [
      "\u001b[1;31m---------------------------------------------------------------------------\u001b[0m",
      "\u001b[1;31mTypeError\u001b[0m                                 Traceback (most recent call last)",
      "\u001b[1;31mTypeError\u001b[0m: _WandbInit._pause_backend() takes 1 positional argument but 2 were given"
     ]
    }
   ],
   "source": [
    "# print first 5 examples\n",
    "from pprint import pprint\n",
    "pprint(dataset[\"train\"][\"all\"][:5])"
   ]
  },
  {
   "cell_type": "code",
   "execution_count": 35,
   "metadata": {},
   "outputs": [
    {
     "name": "stdout",
     "output_type": "stream",
     "text": [
      "Error in callback <bound method _WandbInit._resume_backend of <wandb.sdk.wandb_init._WandbInit object at 0x000001FFFBA033D0>> (for pre_run_cell), with arguments args (<ExecutionInfo object at 1fffba3d810, raw_cell=\"if tokenizer.pad_token_id is None:\n",
      "    tokenizer.p..\" store_history=True silent=False shell_futures=True cell_id=vscode-notebook-cell:/d%3A/Google%20Drive/Other%20computers/My%20laptop/Daten/Hobbys/Informatik/Mashine%20leaning/ThinkingLLMs/finetune_model.ipynb#W3sZmlsZQ%3D%3D>,),kwargs {}:\n"
     ]
    },
    {
     "ename": "TypeError",
     "evalue": "_WandbInit._resume_backend() takes 1 positional argument but 2 were given",
     "output_type": "error",
     "traceback": [
      "\u001b[1;31m---------------------------------------------------------------------------\u001b[0m",
      "\u001b[1;31mTypeError\u001b[0m                                 Traceback (most recent call last)",
      "\u001b[1;31mTypeError\u001b[0m: _WandbInit._resume_backend() takes 1 positional argument but 2 were given"
     ]
    },
    {
     "name": "stdout",
     "output_type": "stream",
     "text": [
      "Error in callback <bound method _WandbInit._pause_backend of <wandb.sdk.wandb_init._WandbInit object at 0x000001FFFBA033D0>> (for post_run_cell), with arguments args (<ExecutionResult object at 20238dee810, execution_count=35 error_before_exec=None error_in_exec=None info=<ExecutionInfo object at 1fffba3d810, raw_cell=\"if tokenizer.pad_token_id is None:\n",
      "    tokenizer.p..\" store_history=True silent=False shell_futures=True cell_id=vscode-notebook-cell:/d%3A/Google%20Drive/Other%20computers/My%20laptop/Daten/Hobbys/Informatik/Mashine%20leaning/ThinkingLLMs/finetune_model.ipynb#W3sZmlsZQ%3D%3D> result=None>,),kwargs {}:\n"
     ]
    },
    {
     "ename": "TypeError",
     "evalue": "_WandbInit._pause_backend() takes 1 positional argument but 2 were given",
     "output_type": "error",
     "traceback": [
      "\u001b[1;31m---------------------------------------------------------------------------\u001b[0m",
      "\u001b[1;31mTypeError\u001b[0m                                 Traceback (most recent call last)",
      "\u001b[1;31mTypeError\u001b[0m: _WandbInit._pause_backend() takes 1 positional argument but 2 were given"
     ]
    }
   ],
   "source": [
    "if tokenizer.pad_token_id is None:\n",
    "    tokenizer.pad_token_id = 1\n",
    "if tokenizer.eos_token_id is None:\n",
    "    tokenizer.eos_token_id = 2"
   ]
  },
  {
   "cell_type": "code",
   "execution_count": 37,
   "metadata": {},
   "outputs": [
    {
     "name": "stdout",
     "output_type": "stream",
     "text": [
      "Error in callback <bound method _WandbInit._resume_backend of <wandb.sdk.wandb_init._WandbInit object at 0x000001FFFBA033D0>> (for pre_run_cell), with arguments args (<ExecutionInfo object at 20244367d90, raw_cell=\"# tokenize the dataset\n",
      "def tokenize_function(examp..\" store_history=True silent=False shell_futures=True cell_id=vscode-notebook-cell:/d%3A/Google%20Drive/Other%20computers/My%20laptop/Daten/Hobbys/Informatik/Mashine%20leaning/ThinkingLLMs/finetune_model.ipynb#W6sZmlsZQ%3D%3D>,),kwargs {}:\n"
     ]
    },
    {
     "ename": "TypeError",
     "evalue": "_WandbInit._resume_backend() takes 1 positional argument but 2 were given",
     "output_type": "error",
     "traceback": [
      "\u001b[1;31m---------------------------------------------------------------------------\u001b[0m",
      "\u001b[1;31mTypeError\u001b[0m                                 Traceback (most recent call last)",
      "\u001b[1;31mTypeError\u001b[0m: _WandbInit._resume_backend() takes 1 positional argument but 2 were given"
     ]
    },
    {
     "name": "stderr",
     "output_type": "stream",
     "text": [
      "Map: 100%|██████████| 1296/1296 [00:00<00:00, 1451.56 examples/s]\n",
      "Map: 100%|██████████| 144/144 [00:00<00:00, 957.56 examples/s] \n"
     ]
    },
    {
     "data": {
      "text/plain": [
       "DatasetDict({\n",
       "    train: Dataset({\n",
       "        features: ['final_input', 'final_target', 'all', 'input_ids', 'token_type_ids', 'attention_mask', 'labels'],\n",
       "        num_rows: 1296\n",
       "    })\n",
       "    test: Dataset({\n",
       "        features: ['final_input', 'final_target', 'all', 'input_ids', 'token_type_ids', 'attention_mask', 'labels'],\n",
       "        num_rows: 144\n",
       "    })\n",
       "})"
      ]
     },
     "execution_count": 37,
     "metadata": {},
     "output_type": "execute_result"
    },
    {
     "name": "stdout",
     "output_type": "stream",
     "text": [
      "Error in callback <bound method _WandbInit._pause_backend of <wandb.sdk.wandb_init._WandbInit object at 0x000001FFFBA033D0>> (for post_run_cell), with arguments args (<ExecutionResult object at 20245910f90, execution_count=37 error_before_exec=None error_in_exec=None info=<ExecutionInfo object at 20244367d90, raw_cell=\"# tokenize the dataset\n",
      "def tokenize_function(examp..\" store_history=True silent=False shell_futures=True cell_id=vscode-notebook-cell:/d%3A/Google%20Drive/Other%20computers/My%20laptop/Daten/Hobbys/Informatik/Mashine%20leaning/ThinkingLLMs/finetune_model.ipynb#W6sZmlsZQ%3D%3D> result=DatasetDict({\n",
      "    train: Dataset({\n",
      "        features: ['final_input', 'final_target', 'all', 'input_ids', 'token_type_ids', 'attention_mask', 'labels'],\n",
      "        num_rows: 1296\n",
      "    })\n",
      "    test: Dataset({\n",
      "        features: ['final_input', 'final_target', 'all', 'input_ids', 'token_type_ids', 'attention_mask', 'labels'],\n",
      "        num_rows: 144\n",
      "    })\n",
      "})>,),kwargs {}:\n"
     ]
    },
    {
     "ename": "TypeError",
     "evalue": "_WandbInit._pause_backend() takes 1 positional argument but 2 were given",
     "output_type": "error",
     "traceback": [
      "\u001b[1;31m---------------------------------------------------------------------------\u001b[0m",
      "\u001b[1;31mTypeError\u001b[0m                                 Traceback (most recent call last)",
      "\u001b[1;31mTypeError\u001b[0m: _WandbInit._pause_backend() takes 1 positional argument but 2 were given"
     ]
    }
   ],
   "source": [
    "# tokenize the dataset\n",
    "def tokenize_function(examples):\n",
    "    examples = tokenizer(examples['all'], padding=\"max_length\", max_length=512, return_tensors=\"pt\")\n",
    "    examples[\"labels\"] = examples[\"input_ids\"].clone()\n",
    "    return examples\n",
    "\n",
    "tokenized_datasets = dataset.map(tokenize_function, batched=True, batch_size=batch_size, drop_last_batch=True)\n",
    "\n",
    "tokenized_datasets\n"
   ]
  },
  {
   "cell_type": "code",
   "execution_count": 38,
   "metadata": {},
   "outputs": [
    {
     "name": "stdout",
     "output_type": "stream",
     "text": [
      "Error in callback <bound method _WandbInit._resume_backend of <wandb.sdk.wandb_init._WandbInit object at 0x000001FFFBA033D0>> (for pre_run_cell), with arguments args (<ExecutionInfo object at 202443679d0, raw_cell=\"# print tensor of first sample\n",
      "print(tokenized_dat..\" store_history=True silent=False shell_futures=True cell_id=vscode-notebook-cell:/d%3A/Google%20Drive/Other%20computers/My%20laptop/Daten/Hobbys/Informatik/Mashine%20leaning/ThinkingLLMs/finetune_model.ipynb#X21sZmlsZQ%3D%3D>,),kwargs {}:\n"
     ]
    },
    {
     "ename": "TypeError",
     "evalue": "_WandbInit._resume_backend() takes 1 positional argument but 2 were given",
     "output_type": "error",
     "traceback": [
      "\u001b[1;31m---------------------------------------------------------------------------\u001b[0m",
      "\u001b[1;31mTypeError\u001b[0m                                 Traceback (most recent call last)",
      "\u001b[1;31mTypeError\u001b[0m: _WandbInit._resume_backend() takes 1 positional argument but 2 were given"
     ]
    },
    {
     "name": "stdout",
     "output_type": "stream",
     "text": [
      "[5492, 286, 1179, 7378, 34, 6692, 286, 2882, 404, 897, 2224, 363, 286, 1806, 11905, 36, 221, 221, 9357, 48, 221, 40593, 107, 2947, 417, 2801, 243, 24, 831, 39116, 8598, 299, 286, 6222, 24, 1543, 1652, 1574, 3086, 11262, 312, 1024, 817, 4972, 301, 41681, 36, 22381, 682, 1997, 299, 41681, 2095, 495, 1673, 1101, 53, 221, 221, 22126, 48, 221, 55, 48, 10281, 13689, 312, 281, 14043, 7291, 4310, 221, 56, 48, 9366, 34508, 312, 10281, 13689, 221, 57, 48, 281, 14043, 7291, 4310, 312, 10311, 1484, 221, 58, 48, 10311, 1484, 312, 9366, 34508, 221, 56, 4675, 48, 2844, 11677, 1409, 48, 410, 2, 1, 1, 1, 1, 1, 1, 1, 1, 1, 1, 1, 1, 1, 1, 1, 1, 1, 1, 1, 1, 1, 1, 1, 1, 1, 1, 1, 1, 1, 1, 1, 1, 1, 1, 1, 1, 1, 1, 1, 1, 1, 1, 1, 1, 1, 1, 1, 1, 1, 1, 1, 1, 1, 1, 1, 1, 1, 1, 1, 1, 1, 1, 1, 1, 1, 1, 1, 1, 1, 1, 1, 1, 1, 1, 1, 1, 1, 1, 1, 1, 1, 1, 1, 1, 1, 1, 1, 1, 1, 1, 1, 1, 1, 1, 1, 1, 1, 1, 1, 1, 1, 1, 1, 1, 1, 1, 1, 1, 1, 1, 1, 1, 1, 1, 1, 1, 1, 1, 1, 1, 1, 1, 1, 1, 1, 1, 1, 1, 1, 1, 1, 1, 1, 1, 1, 1, 1, 1, 1, 1, 1, 1, 1, 1, 1, 1, 1, 1, 1, 1, 1, 1, 1, 1, 1, 1, 1, 1, 1, 1, 1, 1, 1, 1, 1, 1, 1, 1, 1, 1, 1, 1, 1, 1, 1, 1, 1, 1, 1, 1, 1, 1, 1, 1, 1, 1, 1, 1, 1, 1, 1, 1, 1, 1, 1, 1, 1, 1, 1, 1, 1, 1, 1, 1, 1, 1, 1, 1, 1, 1, 1, 1, 1, 1, 1, 1, 1, 1, 1, 1, 1, 1, 1, 1, 1, 1, 1, 1, 1, 1, 1, 1, 1, 1, 1, 1, 1, 1, 1, 1, 1, 1, 1, 1, 1, 1, 1, 1, 1, 1, 1, 1, 1, 1, 1, 1, 1, 1, 1, 1, 1, 1, 1, 1, 1, 1, 1, 1, 1, 1, 1, 1, 1, 1, 1, 1, 1, 1, 1, 1, 1, 1, 1, 1, 1, 1, 1, 1, 1, 1, 1, 1, 1, 1, 1, 1, 1, 1, 1, 1, 1, 1, 1, 1, 1, 1, 1, 1, 1, 1, 1, 1, 1, 1, 1, 1, 1, 1, 1, 1, 1, 1, 1, 1, 1, 1, 1, 1, 1, 1, 1, 1, 1, 1, 1, 1, 1, 1, 1, 1, 1, 1, 1, 1, 1, 1, 1, 1, 1, 1, 1, 1, 1, 1, 1, 1, 1, 1, 1, 1, 1, 1, 1, 1, 1, 1, 1, 1, 1, 1, 1, 1, 1, 1, 1, 1, 1, 1, 1, 1, 1, 1, 1, 1, 1, 1, 1, 1, 1, 1, 1, 1, 1, 1, 1, 1, 1, 1, 1, 1, 1, 1, 1, 1, 1]\n",
      "Error in callback <bound method _WandbInit._pause_backend of <wandb.sdk.wandb_init._WandbInit object at 0x000001FFFBA033D0>> (for post_run_cell), with arguments args (<ExecutionResult object at 20245910490, execution_count=38 error_before_exec=None error_in_exec=None info=<ExecutionInfo object at 202443679d0, raw_cell=\"# print tensor of first sample\n",
      "print(tokenized_dat..\" store_history=True silent=False shell_futures=True cell_id=vscode-notebook-cell:/d%3A/Google%20Drive/Other%20computers/My%20laptop/Daten/Hobbys/Informatik/Mashine%20leaning/ThinkingLLMs/finetune_model.ipynb#X21sZmlsZQ%3D%3D> result=None>,),kwargs {}:\n"
     ]
    },
    {
     "ename": "TypeError",
     "evalue": "_WandbInit._pause_backend() takes 1 positional argument but 2 were given",
     "output_type": "error",
     "traceback": [
      "\u001b[1;31m---------------------------------------------------------------------------\u001b[0m",
      "\u001b[1;31mTypeError\u001b[0m                                 Traceback (most recent call last)",
      "\u001b[1;31mTypeError\u001b[0m: _WandbInit._pause_backend() takes 1 positional argument but 2 were given"
     ]
    }
   ],
   "source": [
    "# print tensor of first sample\n",
    "print(tokenized_datasets[\"train\"][\"input_ids\"][3])"
   ]
  },
  {
   "cell_type": "code",
   "execution_count": 6,
   "metadata": {},
   "outputs": [
    {
     "name": "stdout",
     "output_type": "stream",
     "text": [
      "tensor(8.3033, device='cuda:0', grad_fn=<NllLossBackward0>)\n"
     ]
    }
   ],
   "source": [
    "inputs = tokenizer(\"Hello, how are you?\", return_tensors=\"pt\").to(\"cuda\")\n",
    "labels = inputs[\"input_ids\"].clone()\n",
    "del inputs[\"token_type_ids\"]\n",
    "\n",
    "outputs = model(**inputs, labels=labels)\n",
    "print(outputs.loss)"
   ]
  },
  {
   "cell_type": "code",
   "execution_count": 7,
   "metadata": {},
   "outputs": [],
   "source": [
    "# collator = DataCollatorForLanguageModeling(tokenizer=tokenizer, mlm=False)\n",
    "\n",
    "class LoggingCallback(TrainerCallback):\n",
    "    def on_log(self, args, state, control, logs=None, **kwargs):\n",
    "        if \"loss\" in logs:\n",
    "            wandb.log({\"training_loss\": logs[\"loss\"]})\n",
    "        if \"eval_loss\" in logs:\n",
    "            wandb.log({\"eval_loss\": logs[\"eval_loss\"]})\n",
    "\n",
    "training_args = TrainingArguments(\n",
    "    output_dir=\"your-name/bigscience/mt0-large-lora\",\n",
    "    learning_rate=1e-3,\n",
    "    per_device_train_batch_size=batch_size,\n",
    "    per_device_eval_batch_size=batch_size,\n",
    "    num_train_epochs=2,\n",
    "    weight_decay=0.01,\n",
    "    evaluation_strategy=\"steps\",\n",
    "    eval_steps=100,\n",
    "    save_strategy=\"steps\",\n",
    "    logging_strategy=\"steps\",\n",
    "    logging_steps=1,\n",
    "    load_best_model_at_end=True,\n",
    "    report_to=\"wandb\",\n",
    ")\n",
    "\n",
    "trainer = Trainer(\n",
    "    model=model,\n",
    "    args=training_args,\n",
    "    train_dataset=tokenized_datasets[\"train\"],\n",
    "    eval_dataset=tokenized_datasets[\"test\"],\n",
    "    tokenizer=tokenizer,\n",
    "    callbacks=[LoggingCallback()],\n",
    "    # data_collator=collator,\n",
    "    # compute_metrics=compute_metrics,\n",
    ")\n"
   ]
  },
  {
   "cell_type": "code",
   "execution_count": 8,
   "metadata": {},
   "outputs": [
    {
     "name": "stderr",
     "output_type": "stream",
     "text": [
      "Failed to detect the name of this notebook, you can set it manually with the WANDB_NOTEBOOK_NAME environment variable to enable code saving.\n",
      "\u001b[34m\u001b[1mwandb\u001b[0m: Currently logged in as: \u001b[33mjorineggers\u001b[0m. Use \u001b[1m`wandb login --relogin`\u001b[0m to force relogin\n"
     ]
    },
    {
     "data": {
      "text/html": [
       "wandb version 0.17.3 is available!  To upgrade, please run:\n",
       " $ pip install wandb --upgrade"
      ],
      "text/plain": [
       "<IPython.core.display.HTML object>"
      ]
     },
     "metadata": {},
     "output_type": "display_data"
    },
    {
     "data": {
      "text/html": [
       "Tracking run with wandb version 0.15.12"
      ],
      "text/plain": [
       "<IPython.core.display.HTML object>"
      ]
     },
     "metadata": {},
     "output_type": "display_data"
    },
    {
     "data": {
      "text/html": [
       "Run data is saved locally in <code>d:\\Google Drive\\Other computers\\My laptop\\Daten\\Hobbys\\Informatik\\Mashine leaning\\ThinkingLLMs\\wandb\\run-20240628_155008-erxdc67u</code>"
      ],
      "text/plain": [
       "<IPython.core.display.HTML object>"
      ]
     },
     "metadata": {},
     "output_type": "display_data"
    },
    {
     "data": {
      "text/html": [
       "Syncing run <strong><a href='https://wandb.ai/jorineggers/huggingface/runs/erxdc67u' target=\"_blank\">flowing-leaf-9</a></strong> to <a href='https://wandb.ai/jorineggers/huggingface' target=\"_blank\">Weights & Biases</a> (<a href='https://wandb.me/run' target=\"_blank\">docs</a>)<br/>"
      ],
      "text/plain": [
       "<IPython.core.display.HTML object>"
      ]
     },
     "metadata": {},
     "output_type": "display_data"
    },
    {
     "data": {
      "text/html": [
       " View project at <a href='https://wandb.ai/jorineggers/huggingface' target=\"_blank\">https://wandb.ai/jorineggers/huggingface</a>"
      ],
      "text/plain": [
       "<IPython.core.display.HTML object>"
      ]
     },
     "metadata": {},
     "output_type": "display_data"
    },
    {
     "data": {
      "text/html": [
       " View run at <a href='https://wandb.ai/jorineggers/huggingface/runs/erxdc67u' target=\"_blank\">https://wandb.ai/jorineggers/huggingface/runs/erxdc67u</a>"
      ],
      "text/plain": [
       "<IPython.core.display.HTML object>"
      ]
     },
     "metadata": {},
     "output_type": "display_data"
    },
    {
     "name": "stderr",
     "output_type": "stream",
     "text": [
      "  0%|          | 1/324 [00:10<54:12, 10.07s/it]"
     ]
    },
    {
     "name": "stdout",
     "output_type": "stream",
     "text": [
      "{'loss': 15.385, 'grad_norm': 14.416722297668457, 'learning_rate': 0.0009969135802469135, 'epoch': 0.01}\n"
     ]
    },
    {
     "name": "stderr",
     "output_type": "stream",
     "text": [
      "  1%|          | 2/324 [00:14<35:31,  6.62s/it]"
     ]
    },
    {
     "name": "stdout",
     "output_type": "stream",
     "text": [
      "{'loss': 12.0557, 'grad_norm': 16.250343322753906, 'learning_rate': 0.000993827160493827, 'epoch': 0.01}\n"
     ]
    },
    {
     "name": "stderr",
     "output_type": "stream",
     "text": [
      "  1%|          | 3/324 [00:18<29:29,  5.51s/it]"
     ]
    },
    {
     "name": "stdout",
     "output_type": "stream",
     "text": [
      "{'loss': 10.8731, 'grad_norm': 37.003170013427734, 'learning_rate': 0.0009907407407407408, 'epoch': 0.02}\n"
     ]
    },
    {
     "name": "stderr",
     "output_type": "stream",
     "text": [
      "  1%|          | 4/324 [00:22<26:28,  4.97s/it]"
     ]
    },
    {
     "name": "stdout",
     "output_type": "stream",
     "text": [
      "{'loss': 7.7312, 'grad_norm': 38.335025787353516, 'learning_rate': 0.0009876543209876543, 'epoch': 0.02}\n"
     ]
    },
    {
     "name": "stderr",
     "output_type": "stream",
     "text": [
      "  2%|▏         | 5/324 [00:26<24:57,  4.69s/it]"
     ]
    },
    {
     "name": "stdout",
     "output_type": "stream",
     "text": [
      "{'loss': 5.3518, 'grad_norm': 24.00585174560547, 'learning_rate': 0.0009845679012345679, 'epoch': 0.03}\n"
     ]
    },
    {
     "name": "stderr",
     "output_type": "stream",
     "text": [
      "  2%|▏         | 6/324 [00:31<24:04,  4.54s/it]"
     ]
    },
    {
     "name": "stdout",
     "output_type": "stream",
     "text": [
      "{'loss': 4.3104, 'grad_norm': 5.686882972717285, 'learning_rate': 0.0009814814814814816, 'epoch': 0.04}\n"
     ]
    },
    {
     "name": "stderr",
     "output_type": "stream",
     "text": [
      "  2%|▏         | 7/324 [00:35<23:23,  4.43s/it]"
     ]
    },
    {
     "name": "stdout",
     "output_type": "stream",
     "text": [
      "{'loss': 4.3036, 'grad_norm': 4.491904258728027, 'learning_rate': 0.0009783950617283951, 'epoch': 0.04}\n"
     ]
    },
    {
     "name": "stderr",
     "output_type": "stream",
     "text": [
      "  2%|▏         | 8/324 [00:39<22:53,  4.35s/it]"
     ]
    },
    {
     "name": "stdout",
     "output_type": "stream",
     "text": [
      "{'loss': 4.2832, 'grad_norm': 4.4315185546875, 'learning_rate': 0.0009753086419753087, 'epoch': 0.05}\n"
     ]
    },
    {
     "name": "stderr",
     "output_type": "stream",
     "text": [
      "  3%|▎         | 9/324 [00:43<22:49,  4.35s/it]"
     ]
    },
    {
     "name": "stdout",
     "output_type": "stream",
     "text": [
      "{'loss': 4.0525, 'grad_norm': 2.550560474395752, 'learning_rate': 0.0009722222222222222, 'epoch': 0.06}\n"
     ]
    },
    {
     "name": "stderr",
     "output_type": "stream",
     "text": [
      "  3%|▎         | 10/324 [00:48<22:47,  4.36s/it]"
     ]
    },
    {
     "name": "stdout",
     "output_type": "stream",
     "text": [
      "{'loss': 3.9533, 'grad_norm': 1.6786034107208252, 'learning_rate': 0.0009691358024691358, 'epoch': 0.06}\n"
     ]
    },
    {
     "name": "stderr",
     "output_type": "stream",
     "text": [
      "  3%|▎         | 11/324 [00:52<22:26,  4.30s/it]"
     ]
    },
    {
     "name": "stdout",
     "output_type": "stream",
     "text": [
      "{'loss': 3.8274, 'grad_norm': 1.0687525272369385, 'learning_rate': 0.0009660493827160494, 'epoch': 0.07}\n"
     ]
    },
    {
     "name": "stderr",
     "output_type": "stream",
     "text": [
      "  4%|▎         | 12/324 [00:56<22:16,  4.28s/it]"
     ]
    },
    {
     "name": "stdout",
     "output_type": "stream",
     "text": [
      "{'loss': 3.8052, 'grad_norm': 0.7965480089187622, 'learning_rate': 0.0009629629629629629, 'epoch': 0.07}\n"
     ]
    },
    {
     "name": "stderr",
     "output_type": "stream",
     "text": [
      "  4%|▍         | 13/324 [01:00<22:02,  4.25s/it]"
     ]
    },
    {
     "name": "stdout",
     "output_type": "stream",
     "text": [
      "{'loss': 3.6811, 'grad_norm': 0.7194448113441467, 'learning_rate': 0.0009598765432098766, 'epoch': 0.08}\n"
     ]
    },
    {
     "name": "stderr",
     "output_type": "stream",
     "text": [
      "  4%|▍         | 14/324 [01:05<21:58,  4.25s/it]"
     ]
    },
    {
     "name": "stdout",
     "output_type": "stream",
     "text": [
      "{'loss': 3.8366, 'grad_norm': 0.6409325003623962, 'learning_rate': 0.0009567901234567902, 'epoch': 0.09}\n"
     ]
    },
    {
     "name": "stderr",
     "output_type": "stream",
     "text": [
      "  5%|▍         | 15/324 [01:09<21:51,  4.24s/it]"
     ]
    },
    {
     "name": "stdout",
     "output_type": "stream",
     "text": [
      "{'loss': 3.5929, 'grad_norm': 0.5605576038360596, 'learning_rate': 0.0009537037037037038, 'epoch': 0.09}\n"
     ]
    },
    {
     "name": "stderr",
     "output_type": "stream",
     "text": [
      "  5%|▍         | 16/324 [01:13<21:57,  4.28s/it]"
     ]
    },
    {
     "name": "stdout",
     "output_type": "stream",
     "text": [
      "{'loss': 3.605, 'grad_norm': 0.4434114396572113, 'learning_rate': 0.0009506172839506173, 'epoch': 0.1}\n"
     ]
    },
    {
     "name": "stderr",
     "output_type": "stream",
     "text": [
      "  5%|▌         | 17/324 [01:17<21:55,  4.29s/it]"
     ]
    },
    {
     "name": "stdout",
     "output_type": "stream",
     "text": [
      "{'loss': 3.5485, 'grad_norm': 0.5012537837028503, 'learning_rate': 0.0009475308641975308, 'epoch': 0.1}\n"
     ]
    },
    {
     "name": "stderr",
     "output_type": "stream",
     "text": [
      "  6%|▌         | 18/324 [01:22<21:45,  4.27s/it]"
     ]
    },
    {
     "name": "stdout",
     "output_type": "stream",
     "text": [
      "{'loss': 3.4468, 'grad_norm': 0.5803015828132629, 'learning_rate': 0.0009444444444444445, 'epoch': 0.11}\n"
     ]
    },
    {
     "name": "stderr",
     "output_type": "stream",
     "text": [
      "  6%|▌         | 19/324 [01:26<21:41,  4.27s/it]"
     ]
    },
    {
     "name": "stdout",
     "output_type": "stream",
     "text": [
      "{'loss': 3.6574, 'grad_norm': 0.4517345428466797, 'learning_rate': 0.000941358024691358, 'epoch': 0.12}\n"
     ]
    },
    {
     "name": "stderr",
     "output_type": "stream",
     "text": [
      "  6%|▌         | 20/324 [01:30<21:44,  4.29s/it]"
     ]
    },
    {
     "name": "stdout",
     "output_type": "stream",
     "text": [
      "{'loss': 3.5669, 'grad_norm': 0.7222917079925537, 'learning_rate': 0.0009382716049382715, 'epoch': 0.12}\n"
     ]
    },
    {
     "name": "stderr",
     "output_type": "stream",
     "text": [
      "  6%|▋         | 21/324 [01:35<21:48,  4.32s/it]"
     ]
    },
    {
     "name": "stdout",
     "output_type": "stream",
     "text": [
      "{'loss': 3.6874, 'grad_norm': 0.5206025242805481, 'learning_rate': 0.0009351851851851853, 'epoch': 0.13}\n"
     ]
    },
    {
     "name": "stderr",
     "output_type": "stream",
     "text": [
      "  7%|▋         | 22/324 [01:39<21:26,  4.26s/it]"
     ]
    },
    {
     "name": "stdout",
     "output_type": "stream",
     "text": [
      "{'loss': 3.5441, 'grad_norm': 0.5254306197166443, 'learning_rate': 0.0009320987654320988, 'epoch': 0.14}\n"
     ]
    },
    {
     "name": "stderr",
     "output_type": "stream",
     "text": [
      "  7%|▋         | 23/324 [01:43<21:24,  4.27s/it]"
     ]
    },
    {
     "name": "stdout",
     "output_type": "stream",
     "text": [
      "{'loss': 3.611, 'grad_norm': 0.49757158756256104, 'learning_rate': 0.0009290123456790124, 'epoch': 0.14}\n"
     ]
    },
    {
     "name": "stderr",
     "output_type": "stream",
     "text": [
      "  7%|▋         | 24/324 [01:47<21:13,  4.24s/it]"
     ]
    },
    {
     "name": "stdout",
     "output_type": "stream",
     "text": [
      "{'loss': 3.5253, 'grad_norm': 0.45860055088996887, 'learning_rate': 0.000925925925925926, 'epoch': 0.15}\n"
     ]
    },
    {
     "name": "stderr",
     "output_type": "stream",
     "text": [
      "  8%|▊         | 25/324 [01:52<21:12,  4.26s/it]"
     ]
    },
    {
     "name": "stdout",
     "output_type": "stream",
     "text": [
      "{'loss': 3.2931, 'grad_norm': 0.4088537395000458, 'learning_rate': 0.0009228395061728395, 'epoch': 0.15}\n"
     ]
    },
    {
     "name": "stderr",
     "output_type": "stream",
     "text": [
      "  8%|▊         | 26/324 [01:56<21:03,  4.24s/it]"
     ]
    },
    {
     "name": "stdout",
     "output_type": "stream",
     "text": [
      "{'loss': 3.5233, 'grad_norm': 0.4076288640499115, 'learning_rate': 0.0009197530864197531, 'epoch': 0.16}\n"
     ]
    },
    {
     "name": "stderr",
     "output_type": "stream",
     "text": [
      "  8%|▊         | 27/324 [02:00<21:04,  4.26s/it]"
     ]
    },
    {
     "name": "stdout",
     "output_type": "stream",
     "text": [
      "{'loss': 3.5372, 'grad_norm': 0.5259681940078735, 'learning_rate': 0.0009166666666666666, 'epoch': 0.17}\n"
     ]
    },
    {
     "name": "stderr",
     "output_type": "stream",
     "text": [
      "  9%|▊         | 28/324 [02:04<20:59,  4.25s/it]"
     ]
    },
    {
     "name": "stdout",
     "output_type": "stream",
     "text": [
      "{'loss': 3.4493, 'grad_norm': 0.40601515769958496, 'learning_rate': 0.0009135802469135802, 'epoch': 0.17}\n"
     ]
    },
    {
     "name": "stderr",
     "output_type": "stream",
     "text": [
      "  9%|▉         | 29/324 [02:09<21:00,  4.27s/it]"
     ]
    },
    {
     "name": "stdout",
     "output_type": "stream",
     "text": [
      "{'loss': 3.6677, 'grad_norm': 0.44345131516456604, 'learning_rate': 0.0009104938271604939, 'epoch': 0.18}\n"
     ]
    },
    {
     "name": "stderr",
     "output_type": "stream",
     "text": [
      "  9%|▉         | 30/324 [02:13<21:04,  4.30s/it]"
     ]
    },
    {
     "name": "stdout",
     "output_type": "stream",
     "text": [
      "{'loss': 3.562, 'grad_norm': 0.4374655485153198, 'learning_rate': 0.0009074074074074074, 'epoch': 0.19}\n"
     ]
    },
    {
     "name": "stderr",
     "output_type": "stream",
     "text": [
      " 10%|▉         | 31/324 [02:17<21:04,  4.32s/it]"
     ]
    },
    {
     "name": "stdout",
     "output_type": "stream",
     "text": [
      "{'loss': 3.4463, 'grad_norm': 0.44894811511039734, 'learning_rate': 0.000904320987654321, 'epoch': 0.19}\n"
     ]
    },
    {
     "name": "stderr",
     "output_type": "stream",
     "text": [
      " 10%|▉         | 32/324 [02:22<20:59,  4.31s/it]"
     ]
    },
    {
     "name": "stdout",
     "output_type": "stream",
     "text": [
      "{'loss': 3.555, 'grad_norm': 0.3500150740146637, 'learning_rate': 0.0009012345679012346, 'epoch': 0.2}\n"
     ]
    },
    {
     "name": "stderr",
     "output_type": "stream",
     "text": [
      " 10%|█         | 33/324 [02:26<20:44,  4.28s/it]"
     ]
    },
    {
     "name": "stdout",
     "output_type": "stream",
     "text": [
      "{'loss': 3.4249, 'grad_norm': 0.4789406955242157, 'learning_rate': 0.0008981481481481481, 'epoch': 0.2}\n"
     ]
    },
    {
     "name": "stderr",
     "output_type": "stream",
     "text": [
      " 10%|█         | 34/324 [02:30<20:40,  4.28s/it]"
     ]
    },
    {
     "name": "stdout",
     "output_type": "stream",
     "text": [
      "{'loss': 3.263, 'grad_norm': 0.43918105959892273, 'learning_rate': 0.0008950617283950618, 'epoch': 0.21}\n"
     ]
    },
    {
     "name": "stderr",
     "output_type": "stream",
     "text": [
      " 11%|█         | 35/324 [02:34<20:31,  4.26s/it]"
     ]
    },
    {
     "name": "stdout",
     "output_type": "stream",
     "text": [
      "{'loss': 3.291, 'grad_norm': 0.4662686884403229, 'learning_rate': 0.0008919753086419753, 'epoch': 0.22}\n"
     ]
    },
    {
     "name": "stderr",
     "output_type": "stream",
     "text": [
      " 11%|█         | 36/324 [02:39<20:40,  4.31s/it]"
     ]
    },
    {
     "name": "stdout",
     "output_type": "stream",
     "text": [
      "{'loss': 3.4022, 'grad_norm': 0.4337082803249359, 'learning_rate': 0.0008888888888888888, 'epoch': 0.22}\n"
     ]
    },
    {
     "name": "stderr",
     "output_type": "stream",
     "text": [
      " 11%|█▏        | 37/324 [02:43<20:31,  4.29s/it]"
     ]
    },
    {
     "name": "stdout",
     "output_type": "stream",
     "text": [
      "{'loss': 3.2332, 'grad_norm': 0.45057424902915955, 'learning_rate': 0.0008858024691358026, 'epoch': 0.23}\n"
     ]
    },
    {
     "name": "stderr",
     "output_type": "stream",
     "text": [
      " 12%|█▏        | 38/324 [02:47<20:21,  4.27s/it]"
     ]
    },
    {
     "name": "stdout",
     "output_type": "stream",
     "text": [
      "{'loss': 3.5197, 'grad_norm': 0.41805967688560486, 'learning_rate': 0.0008827160493827161, 'epoch': 0.23}\n"
     ]
    },
    {
     "name": "stderr",
     "output_type": "stream",
     "text": [
      " 12%|█▏        | 39/324 [02:51<20:11,  4.25s/it]"
     ]
    },
    {
     "name": "stdout",
     "output_type": "stream",
     "text": [
      "{'loss': 3.1167, 'grad_norm': 0.49941250681877136, 'learning_rate': 0.0008796296296296296, 'epoch': 0.24}\n"
     ]
    },
    {
     "name": "stderr",
     "output_type": "stream",
     "text": [
      " 12%|█▏        | 40/324 [02:56<20:17,  4.29s/it]"
     ]
    },
    {
     "name": "stdout",
     "output_type": "stream",
     "text": [
      "{'loss': 3.3724, 'grad_norm': 0.5020378828048706, 'learning_rate': 0.0008765432098765433, 'epoch': 0.25}\n"
     ]
    },
    {
     "name": "stderr",
     "output_type": "stream",
     "text": [
      " 13%|█▎        | 41/324 [03:00<20:07,  4.27s/it]"
     ]
    },
    {
     "name": "stdout",
     "output_type": "stream",
     "text": [
      "{'loss': 3.4076, 'grad_norm': 0.3862804174423218, 'learning_rate': 0.0008734567901234568, 'epoch': 0.25}\n"
     ]
    },
    {
     "name": "stderr",
     "output_type": "stream",
     "text": [
      " 13%|█▎        | 42/324 [03:04<20:00,  4.26s/it]"
     ]
    },
    {
     "name": "stdout",
     "output_type": "stream",
     "text": [
      "{'loss': 3.3776, 'grad_norm': 0.39243319630622864, 'learning_rate': 0.0008703703703703704, 'epoch': 0.26}\n"
     ]
    },
    {
     "name": "stderr",
     "output_type": "stream",
     "text": [
      " 13%|█▎        | 43/324 [03:09<20:01,  4.28s/it]"
     ]
    },
    {
     "name": "stdout",
     "output_type": "stream",
     "text": [
      "{'loss': 3.2899, 'grad_norm': 0.4659423828125, 'learning_rate': 0.0008672839506172839, 'epoch': 0.27}\n"
     ]
    },
    {
     "name": "stderr",
     "output_type": "stream",
     "text": [
      " 14%|█▎        | 44/324 [03:13<19:52,  4.26s/it]"
     ]
    },
    {
     "name": "stdout",
     "output_type": "stream",
     "text": [
      "{'loss': 3.4007, 'grad_norm': 0.40599167346954346, 'learning_rate': 0.0008641975308641975, 'epoch': 0.27}\n"
     ]
    },
    {
     "name": "stderr",
     "output_type": "stream",
     "text": [
      " 14%|█▍        | 45/324 [03:17<19:50,  4.27s/it]"
     ]
    },
    {
     "name": "stdout",
     "output_type": "stream",
     "text": [
      "{'loss': 3.528, 'grad_norm': 0.42603179812431335, 'learning_rate': 0.0008611111111111112, 'epoch': 0.28}\n"
     ]
    },
    {
     "name": "stderr",
     "output_type": "stream",
     "text": [
      " 14%|█▍        | 46/324 [03:21<19:41,  4.25s/it]"
     ]
    },
    {
     "name": "stdout",
     "output_type": "stream",
     "text": [
      "{'loss': 3.4461, 'grad_norm': 0.4013208746910095, 'learning_rate': 0.0008580246913580247, 'epoch': 0.28}\n"
     ]
    },
    {
     "name": "stderr",
     "output_type": "stream",
     "text": [
      " 15%|█▍        | 47/324 [03:26<19:39,  4.26s/it]"
     ]
    },
    {
     "name": "stdout",
     "output_type": "stream",
     "text": [
      "{'loss': 3.4962, 'grad_norm': 0.45375338196754456, 'learning_rate': 0.0008549382716049383, 'epoch': 0.29}\n"
     ]
    },
    {
     "name": "stderr",
     "output_type": "stream",
     "text": [
      " 15%|█▍        | 48/324 [03:30<19:45,  4.30s/it]"
     ]
    },
    {
     "name": "stdout",
     "output_type": "stream",
     "text": [
      "{'loss': 3.43, 'grad_norm': 0.43058210611343384, 'learning_rate': 0.0008518518518518519, 'epoch': 0.3}\n"
     ]
    },
    {
     "name": "stderr",
     "output_type": "stream",
     "text": [
      " 15%|█▌        | 49/324 [03:34<19:43,  4.30s/it]"
     ]
    },
    {
     "name": "stdout",
     "output_type": "stream",
     "text": [
      "{'loss': 3.2284, 'grad_norm': 0.512447714805603, 'learning_rate': 0.0008487654320987654, 'epoch': 0.3}\n"
     ]
    },
    {
     "name": "stderr",
     "output_type": "stream",
     "text": [
      " 15%|█▌        | 50/324 [03:38<19:34,  4.29s/it]"
     ]
    },
    {
     "name": "stdout",
     "output_type": "stream",
     "text": [
      "{'loss': 3.4625, 'grad_norm': 0.40088850259780884, 'learning_rate': 0.0008456790123456791, 'epoch': 0.31}\n"
     ]
    },
    {
     "name": "stderr",
     "output_type": "stream",
     "text": [
      " 16%|█▌        | 51/324 [03:43<19:38,  4.32s/it]"
     ]
    },
    {
     "name": "stdout",
     "output_type": "stream",
     "text": [
      "{'loss': 3.25, 'grad_norm': 0.452036052942276, 'learning_rate': 0.0008425925925925926, 'epoch': 0.31}\n"
     ]
    },
    {
     "name": "stderr",
     "output_type": "stream",
     "text": [
      " 16%|█▌        | 52/324 [03:47<19:23,  4.28s/it]"
     ]
    },
    {
     "name": "stdout",
     "output_type": "stream",
     "text": [
      "{'loss': 3.1655, 'grad_norm': 0.6861826181411743, 'learning_rate': 0.0008395061728395061, 'epoch': 0.32}\n"
     ]
    },
    {
     "name": "stderr",
     "output_type": "stream",
     "text": [
      " 16%|█▋        | 53/324 [03:51<19:22,  4.29s/it]"
     ]
    },
    {
     "name": "stdout",
     "output_type": "stream",
     "text": [
      "{'loss': 3.2735, 'grad_norm': 0.40117916464805603, 'learning_rate': 0.0008364197530864199, 'epoch': 0.33}\n"
     ]
    },
    {
     "name": "stderr",
     "output_type": "stream",
     "text": [
      " 17%|█▋        | 54/324 [03:56<19:22,  4.30s/it]"
     ]
    },
    {
     "name": "stdout",
     "output_type": "stream",
     "text": [
      "{'loss': 3.5573, 'grad_norm': 0.39018943905830383, 'learning_rate': 0.0008333333333333334, 'epoch': 0.33}\n"
     ]
    },
    {
     "name": "stderr",
     "output_type": "stream",
     "text": [
      " 17%|█▋        | 55/324 [04:00<19:19,  4.31s/it]"
     ]
    },
    {
     "name": "stdout",
     "output_type": "stream",
     "text": [
      "{'loss': 3.5694, 'grad_norm': 0.50450199842453, 'learning_rate': 0.0008302469135802469, 'epoch': 0.34}\n"
     ]
    },
    {
     "name": "stderr",
     "output_type": "stream",
     "text": [
      " 17%|█▋        | 56/324 [04:04<19:17,  4.32s/it]"
     ]
    },
    {
     "name": "stdout",
     "output_type": "stream",
     "text": [
      "{'loss': 3.291, 'grad_norm': 0.4143039882183075, 'learning_rate': 0.0008271604938271605, 'epoch': 0.35}\n"
     ]
    },
    {
     "name": "stderr",
     "output_type": "stream",
     "text": [
      " 18%|█▊        | 57/324 [04:09<19:32,  4.39s/it]"
     ]
    },
    {
     "name": "stdout",
     "output_type": "stream",
     "text": [
      "{'loss': 3.459, 'grad_norm': 0.49102187156677246, 'learning_rate': 0.0008240740740740741, 'epoch': 0.35}\n"
     ]
    },
    {
     "name": "stderr",
     "output_type": "stream",
     "text": [
      " 18%|█▊        | 58/324 [04:13<19:16,  4.35s/it]"
     ]
    },
    {
     "name": "stdout",
     "output_type": "stream",
     "text": [
      "{'loss': 3.245, 'grad_norm': 0.4132786989212036, 'learning_rate': 0.0008209876543209876, 'epoch': 0.36}\n"
     ]
    },
    {
     "name": "stderr",
     "output_type": "stream",
     "text": [
      " 18%|█▊        | 59/324 [04:17<19:02,  4.31s/it]"
     ]
    },
    {
     "name": "stdout",
     "output_type": "stream",
     "text": [
      "{'loss': 3.3192, 'grad_norm': 0.4123225510120392, 'learning_rate': 0.0008179012345679012, 'epoch': 0.36}\n"
     ]
    },
    {
     "name": "stderr",
     "output_type": "stream",
     "text": [
      " 19%|█▊        | 60/324 [04:22<18:42,  4.25s/it]"
     ]
    },
    {
     "name": "stdout",
     "output_type": "stream",
     "text": [
      "{'loss': 3.5595, 'grad_norm': 0.38042205572128296, 'learning_rate': 0.0008148148148148148, 'epoch': 0.37}\n"
     ]
    },
    {
     "name": "stderr",
     "output_type": "stream",
     "text": [
      " 19%|█▉        | 61/324 [04:26<18:41,  4.26s/it]"
     ]
    },
    {
     "name": "stdout",
     "output_type": "stream",
     "text": [
      "{'loss': 3.3815, 'grad_norm': 0.5128734111785889, 'learning_rate': 0.0008117283950617285, 'epoch': 0.38}\n"
     ]
    },
    {
     "name": "stderr",
     "output_type": "stream",
     "text": [
      " 19%|█▉        | 62/324 [04:30<18:34,  4.25s/it]"
     ]
    },
    {
     "name": "stdout",
     "output_type": "stream",
     "text": [
      "{'loss': 3.1802, 'grad_norm': 0.6955609917640686, 'learning_rate': 0.000808641975308642, 'epoch': 0.38}\n"
     ]
    },
    {
     "name": "stderr",
     "output_type": "stream",
     "text": [
      " 19%|█▉        | 63/324 [04:35<18:55,  4.35s/it]"
     ]
    },
    {
     "name": "stdout",
     "output_type": "stream",
     "text": [
      "{'loss': 3.2755, 'grad_norm': 0.5086602568626404, 'learning_rate': 0.0008055555555555556, 'epoch': 0.39}\n"
     ]
    },
    {
     "name": "stderr",
     "output_type": "stream",
     "text": [
      " 20%|█▉        | 64/324 [04:39<19:13,  4.44s/it]"
     ]
    },
    {
     "name": "stdout",
     "output_type": "stream",
     "text": [
      "{'loss': 3.5688, 'grad_norm': 0.35601747035980225, 'learning_rate': 0.0008024691358024692, 'epoch': 0.4}\n"
     ]
    },
    {
     "name": "stderr",
     "output_type": "stream",
     "text": [
      " 20%|██        | 65/324 [04:44<19:27,  4.51s/it]"
     ]
    },
    {
     "name": "stdout",
     "output_type": "stream",
     "text": [
      "{'loss': 3.2803, 'grad_norm': 0.40034645795822144, 'learning_rate': 0.0007993827160493827, 'epoch': 0.4}\n"
     ]
    },
    {
     "name": "stderr",
     "output_type": "stream",
     "text": [
      " 20%|██        | 66/324 [04:48<19:14,  4.47s/it]"
     ]
    },
    {
     "name": "stdout",
     "output_type": "stream",
     "text": [
      "{'loss': 3.4261, 'grad_norm': 0.3564114570617676, 'learning_rate': 0.0007962962962962962, 'epoch': 0.41}\n"
     ]
    },
    {
     "name": "stderr",
     "output_type": "stream",
     "text": [
      " 21%|██        | 67/324 [04:53<19:08,  4.47s/it]"
     ]
    },
    {
     "name": "stdout",
     "output_type": "stream",
     "text": [
      "{'loss': 3.3804, 'grad_norm': 0.42129963636398315, 'learning_rate': 0.0007932098765432099, 'epoch': 0.41}\n"
     ]
    },
    {
     "name": "stderr",
     "output_type": "stream",
     "text": [
      " 21%|██        | 68/324 [04:57<18:52,  4.42s/it]"
     ]
    },
    {
     "name": "stdout",
     "output_type": "stream",
     "text": [
      "{'loss': 3.2838, 'grad_norm': 0.3963053524494171, 'learning_rate': 0.0007901234567901234, 'epoch': 0.42}\n"
     ]
    },
    {
     "name": "stderr",
     "output_type": "stream",
     "text": [
      " 21%|██▏       | 69/324 [05:01<18:38,  4.38s/it]"
     ]
    },
    {
     "name": "stdout",
     "output_type": "stream",
     "text": [
      "{'loss': 3.4184, 'grad_norm': 0.34412533044815063, 'learning_rate': 0.0007870370370370372, 'epoch': 0.43}\n"
     ]
    },
    {
     "name": "stderr",
     "output_type": "stream",
     "text": [
      " 22%|██▏       | 70/324 [05:06<18:28,  4.37s/it]"
     ]
    },
    {
     "name": "stdout",
     "output_type": "stream",
     "text": [
      "{'loss': 3.2166, 'grad_norm': 0.39177635312080383, 'learning_rate': 0.0007839506172839507, 'epoch': 0.43}\n"
     ]
    },
    {
     "name": "stderr",
     "output_type": "stream",
     "text": [
      " 22%|██▏       | 71/324 [05:10<18:12,  4.32s/it]"
     ]
    },
    {
     "name": "stdout",
     "output_type": "stream",
     "text": [
      "{'loss': 3.3239, 'grad_norm': 0.39163509011268616, 'learning_rate': 0.0007808641975308642, 'epoch': 0.44}\n"
     ]
    },
    {
     "name": "stderr",
     "output_type": "stream",
     "text": [
      " 22%|██▏       | 72/324 [05:14<18:13,  4.34s/it]"
     ]
    },
    {
     "name": "stdout",
     "output_type": "stream",
     "text": [
      "{'loss': 3.4823, 'grad_norm': 0.4172152876853943, 'learning_rate': 0.0007777777777777778, 'epoch': 0.44}\n"
     ]
    },
    {
     "name": "stderr",
     "output_type": "stream",
     "text": [
      " 23%|██▎       | 73/324 [05:19<18:07,  4.33s/it]"
     ]
    },
    {
     "name": "stdout",
     "output_type": "stream",
     "text": [
      "{'loss': 3.2307, 'grad_norm': 0.37339338660240173, 'learning_rate': 0.0007746913580246914, 'epoch': 0.45}\n"
     ]
    },
    {
     "name": "stderr",
     "output_type": "stream",
     "text": [
      " 23%|██▎       | 74/324 [05:23<17:57,  4.31s/it]"
     ]
    },
    {
     "name": "stdout",
     "output_type": "stream",
     "text": [
      "{'loss': 3.301, 'grad_norm': 0.5049506425857544, 'learning_rate': 0.0007716049382716049, 'epoch': 0.46}\n"
     ]
    },
    {
     "name": "stderr",
     "output_type": "stream",
     "text": [
      " 23%|██▎       | 75/324 [05:27<17:50,  4.30s/it]"
     ]
    },
    {
     "name": "stdout",
     "output_type": "stream",
     "text": [
      "{'loss': 3.2912, 'grad_norm': 0.4361269176006317, 'learning_rate': 0.0007685185185185185, 'epoch': 0.46}\n"
     ]
    },
    {
     "name": "stderr",
     "output_type": "stream",
     "text": [
      " 23%|██▎       | 76/324 [05:31<17:39,  4.27s/it]"
     ]
    },
    {
     "name": "stdout",
     "output_type": "stream",
     "text": [
      "{'loss': 3.2627, 'grad_norm': 0.3740973472595215, 'learning_rate': 0.0007654320987654321, 'epoch': 0.47}\n"
     ]
    },
    {
     "name": "stderr",
     "output_type": "stream",
     "text": [
      " 24%|██▍       | 77/324 [05:36<17:39,  4.29s/it]"
     ]
    },
    {
     "name": "stdout",
     "output_type": "stream",
     "text": [
      "{'loss': 3.2476, 'grad_norm': 0.3729557394981384, 'learning_rate': 0.0007623456790123458, 'epoch': 0.48}\n"
     ]
    },
    {
     "name": "stderr",
     "output_type": "stream",
     "text": [
      " 24%|██▍       | 78/324 [05:40<17:31,  4.27s/it]"
     ]
    },
    {
     "name": "stdout",
     "output_type": "stream",
     "text": [
      "{'loss': 3.3122, 'grad_norm': 0.4298766851425171, 'learning_rate': 0.0007592592592592593, 'epoch': 0.48}\n"
     ]
    },
    {
     "name": "stderr",
     "output_type": "stream",
     "text": [
      " 24%|██▍       | 79/324 [05:44<17:29,  4.28s/it]"
     ]
    },
    {
     "name": "stdout",
     "output_type": "stream",
     "text": [
      "{'loss': 3.1992, 'grad_norm': 0.43347305059432983, 'learning_rate': 0.0007561728395061729, 'epoch': 0.49}\n"
     ]
    },
    {
     "name": "stderr",
     "output_type": "stream",
     "text": [
      " 25%|██▍       | 80/324 [05:49<17:28,  4.30s/it]"
     ]
    },
    {
     "name": "stdout",
     "output_type": "stream",
     "text": [
      "{'loss': 3.4306, 'grad_norm': 0.3592182397842407, 'learning_rate': 0.0007530864197530865, 'epoch': 0.49}\n"
     ]
    },
    {
     "name": "stderr",
     "output_type": "stream",
     "text": [
      " 25%|██▌       | 81/324 [05:53<17:23,  4.29s/it]"
     ]
    },
    {
     "name": "stdout",
     "output_type": "stream",
     "text": [
      "{'loss': 3.2422, 'grad_norm': 0.4178747534751892, 'learning_rate': 0.00075, 'epoch': 0.5}\n"
     ]
    },
    {
     "name": "stderr",
     "output_type": "stream",
     "text": [
      " 25%|██▌       | 82/324 [05:57<17:17,  4.29s/it]"
     ]
    },
    {
     "name": "stdout",
     "output_type": "stream",
     "text": [
      "{'loss': 3.4621, 'grad_norm': 0.4018016457557678, 'learning_rate': 0.0007469135802469135, 'epoch': 0.51}\n"
     ]
    },
    {
     "name": "stderr",
     "output_type": "stream",
     "text": [
      " 26%|██▌       | 83/324 [06:02<17:24,  4.33s/it]"
     ]
    },
    {
     "name": "stdout",
     "output_type": "stream",
     "text": [
      "{'loss': 3.4092, 'grad_norm': 0.3472383916378021, 'learning_rate': 0.0007438271604938272, 'epoch': 0.51}\n"
     ]
    },
    {
     "name": "stderr",
     "output_type": "stream",
     "text": [
      " 26%|██▌       | 84/324 [06:06<17:29,  4.37s/it]"
     ]
    },
    {
     "name": "stdout",
     "output_type": "stream",
     "text": [
      "{'loss': 3.4289, 'grad_norm': 0.43067818880081177, 'learning_rate': 0.0007407407407407407, 'epoch': 0.52}\n"
     ]
    },
    {
     "name": "stderr",
     "output_type": "stream",
     "text": [
      " 26%|██▌       | 85/324 [06:10<17:22,  4.36s/it]"
     ]
    },
    {
     "name": "stdout",
     "output_type": "stream",
     "text": [
      "{'loss': 3.351, 'grad_norm': 0.45292526483535767, 'learning_rate': 0.0007376543209876542, 'epoch': 0.52}\n"
     ]
    },
    {
     "name": "stderr",
     "output_type": "stream",
     "text": [
      " 27%|██▋       | 86/324 [06:15<17:18,  4.37s/it]"
     ]
    },
    {
     "name": "stdout",
     "output_type": "stream",
     "text": [
      "{'loss': 3.3893, 'grad_norm': 0.4556806683540344, 'learning_rate': 0.000734567901234568, 'epoch': 0.53}\n"
     ]
    },
    {
     "name": "stderr",
     "output_type": "stream",
     "text": [
      " 27%|██▋       | 87/324 [06:19<17:15,  4.37s/it]"
     ]
    },
    {
     "name": "stdout",
     "output_type": "stream",
     "text": [
      "{'loss': 3.2394, 'grad_norm': 0.44699564576148987, 'learning_rate': 0.0007314814814814815, 'epoch': 0.54}\n"
     ]
    },
    {
     "name": "stderr",
     "output_type": "stream",
     "text": [
      " 27%|██▋       | 88/324 [06:23<17:10,  4.36s/it]"
     ]
    },
    {
     "name": "stdout",
     "output_type": "stream",
     "text": [
      "{'loss': 3.3239, 'grad_norm': 0.36978983879089355, 'learning_rate': 0.0007283950617283951, 'epoch': 0.54}\n"
     ]
    },
    {
     "name": "stderr",
     "output_type": "stream",
     "text": [
      " 27%|██▋       | 89/324 [06:28<17:08,  4.38s/it]"
     ]
    },
    {
     "name": "stdout",
     "output_type": "stream",
     "text": [
      "{'loss': 3.2246, 'grad_norm': 0.39839231967926025, 'learning_rate': 0.0007253086419753087, 'epoch': 0.55}\n"
     ]
    },
    {
     "name": "stderr",
     "output_type": "stream",
     "text": [
      " 28%|██▊       | 90/324 [06:32<17:11,  4.41s/it]"
     ]
    },
    {
     "name": "stdout",
     "output_type": "stream",
     "text": [
      "{'loss': 3.4114, 'grad_norm': 0.43756890296936035, 'learning_rate': 0.0007222222222222222, 'epoch': 0.56}\n"
     ]
    },
    {
     "name": "stderr",
     "output_type": "stream",
     "text": [
      " 28%|██▊       | 91/324 [06:37<17:10,  4.42s/it]"
     ]
    },
    {
     "name": "stdout",
     "output_type": "stream",
     "text": [
      "{'loss': 3.4279, 'grad_norm': 0.4031527042388916, 'learning_rate': 0.0007191358024691358, 'epoch': 0.56}\n"
     ]
    },
    {
     "name": "stderr",
     "output_type": "stream",
     "text": [
      " 28%|██▊       | 92/324 [06:41<17:06,  4.43s/it]"
     ]
    },
    {
     "name": "stdout",
     "output_type": "stream",
     "text": [
      "{'loss': 3.269, 'grad_norm': 0.4168110489845276, 'learning_rate': 0.0007160493827160494, 'epoch': 0.57}\n"
     ]
    },
    {
     "name": "stderr",
     "output_type": "stream",
     "text": [
      " 29%|██▊       | 93/324 [06:46<17:00,  4.42s/it]"
     ]
    },
    {
     "name": "stdout",
     "output_type": "stream",
     "text": [
      "{'loss': 3.1089, 'grad_norm': 0.3797547221183777, 'learning_rate': 0.0007129629629629629, 'epoch': 0.57}\n"
     ]
    },
    {
     "name": "stderr",
     "output_type": "stream",
     "text": [
      " 29%|██▉       | 94/324 [06:50<16:43,  4.36s/it]"
     ]
    },
    {
     "name": "stdout",
     "output_type": "stream",
     "text": [
      "{'loss': 3.2566, 'grad_norm': 0.37781617045402527, 'learning_rate': 0.0007098765432098766, 'epoch': 0.58}\n"
     ]
    },
    {
     "name": "stderr",
     "output_type": "stream",
     "text": [
      " 29%|██▉       | 95/324 [06:54<16:28,  4.32s/it]"
     ]
    },
    {
     "name": "stdout",
     "output_type": "stream",
     "text": [
      "{'loss': 3.2859, 'grad_norm': 0.4643951654434204, 'learning_rate': 0.0007067901234567901, 'epoch': 0.59}\n"
     ]
    },
    {
     "name": "stderr",
     "output_type": "stream",
     "text": [
      " 30%|██▉       | 96/324 [06:58<16:17,  4.29s/it]"
     ]
    },
    {
     "name": "stdout",
     "output_type": "stream",
     "text": [
      "{'loss': 3.2646, 'grad_norm': 0.39588505029678345, 'learning_rate': 0.0007037037037037038, 'epoch': 0.59}\n"
     ]
    },
    {
     "name": "stderr",
     "output_type": "stream",
     "text": [
      " 30%|██▉       | 97/324 [07:03<16:18,  4.31s/it]"
     ]
    },
    {
     "name": "stdout",
     "output_type": "stream",
     "text": [
      "{'loss': 3.3303, 'grad_norm': 0.39080187678337097, 'learning_rate': 0.0007006172839506173, 'epoch': 0.6}\n"
     ]
    },
    {
     "name": "stderr",
     "output_type": "stream",
     "text": [
      " 30%|███       | 98/324 [07:07<16:13,  4.31s/it]"
     ]
    },
    {
     "name": "stdout",
     "output_type": "stream",
     "text": [
      "{'loss': 3.3954, 'grad_norm': 0.365276962518692, 'learning_rate': 0.0006975308641975308, 'epoch': 0.6}\n"
     ]
    },
    {
     "name": "stderr",
     "output_type": "stream",
     "text": [
      " 31%|███       | 99/324 [07:11<16:13,  4.32s/it]"
     ]
    },
    {
     "name": "stdout",
     "output_type": "stream",
     "text": [
      "{'loss': 3.2786, 'grad_norm': 0.46889036893844604, 'learning_rate': 0.0006944444444444445, 'epoch': 0.61}\n"
     ]
    },
    {
     "name": "stderr",
     "output_type": "stream",
     "text": [
      " 31%|███       | 100/324 [07:16<16:04,  4.31s/it]"
     ]
    },
    {
     "name": "stdout",
     "output_type": "stream",
     "text": [
      "{'loss': 3.2061, 'grad_norm': 0.3960762023925781, 'learning_rate': 0.000691358024691358, 'epoch': 0.62}\n"
     ]
    },
    {
     "name": "stderr",
     "output_type": "stream",
     "text": [
      "                                                 \n",
      " 31%|███       | 100/324 [07:36<16:04,  4.31s/it]"
     ]
    },
    {
     "name": "stdout",
     "output_type": "stream",
     "text": [
      "{'eval_loss': 3.2000765800476074, 'eval_runtime': 20.3467, 'eval_samples_per_second': 7.077, 'eval_steps_per_second': 0.885, 'epoch': 0.62}\n"
     ]
    },
    {
     "name": "stderr",
     "output_type": "stream",
     "text": [
      " 31%|███       | 101/324 [07:40<38:44, 10.42s/it]"
     ]
    },
    {
     "name": "stdout",
     "output_type": "stream",
     "text": [
      "{'loss': 3.207, 'grad_norm': 0.35819488763809204, 'learning_rate': 0.0006882716049382715, 'epoch': 0.62}\n"
     ]
    },
    {
     "name": "stderr",
     "output_type": "stream",
     "text": [
      " 31%|███▏      | 102/324 [07:44<31:37,  8.55s/it]"
     ]
    },
    {
     "name": "stdout",
     "output_type": "stream",
     "text": [
      "{'loss': 3.3317, 'grad_norm': 0.42462077736854553, 'learning_rate': 0.0006851851851851853, 'epoch': 0.63}\n"
     ]
    },
    {
     "name": "stderr",
     "output_type": "stream",
     "text": [
      " 32%|███▏      | 103/324 [07:49<26:45,  7.27s/it]"
     ]
    },
    {
     "name": "stdout",
     "output_type": "stream",
     "text": [
      "{'loss': 3.3566, 'grad_norm': 0.3956786096096039, 'learning_rate': 0.0006820987654320988, 'epoch': 0.64}\n"
     ]
    },
    {
     "name": "stderr",
     "output_type": "stream",
     "text": [
      " 32%|███▏      | 104/324 [07:53<23:25,  6.39s/it]"
     ]
    },
    {
     "name": "stdout",
     "output_type": "stream",
     "text": [
      "{'loss': 3.2379, 'grad_norm': 0.4230024814605713, 'learning_rate': 0.0006790123456790124, 'epoch': 0.64}\n"
     ]
    },
    {
     "name": "stderr",
     "output_type": "stream",
     "text": [
      " 32%|███▏      | 105/324 [07:57<20:49,  5.71s/it]"
     ]
    },
    {
     "name": "stdout",
     "output_type": "stream",
     "text": [
      "{'loss': 3.1779, 'grad_norm': 0.45582666993141174, 'learning_rate': 0.000675925925925926, 'epoch': 0.65}\n"
     ]
    },
    {
     "name": "stderr",
     "output_type": "stream",
     "text": [
      " 33%|███▎      | 106/324 [08:01<19:06,  5.26s/it]"
     ]
    },
    {
     "name": "stdout",
     "output_type": "stream",
     "text": [
      "{'loss': 3.4134, 'grad_norm': 0.37328433990478516, 'learning_rate': 0.0006728395061728395, 'epoch': 0.65}\n"
     ]
    },
    {
     "name": "stderr",
     "output_type": "stream",
     "text": [
      " 33%|███▎      | 107/324 [08:06<17:54,  4.95s/it]"
     ]
    },
    {
     "name": "stdout",
     "output_type": "stream",
     "text": [
      "{'loss': 3.2489, 'grad_norm': 0.42772969603538513, 'learning_rate': 0.0006697530864197531, 'epoch': 0.66}\n"
     ]
    },
    {
     "name": "stderr",
     "output_type": "stream",
     "text": [
      " 33%|███▎      | 108/324 [08:10<17:06,  4.75s/it]"
     ]
    },
    {
     "name": "stdout",
     "output_type": "stream",
     "text": [
      "{'loss': 3.333, 'grad_norm': 0.41854968667030334, 'learning_rate': 0.0006666666666666666, 'epoch': 0.67}\n"
     ]
    },
    {
     "name": "stderr",
     "output_type": "stream",
     "text": [
      " 34%|███▎      | 109/324 [08:14<16:43,  4.67s/it]"
     ]
    },
    {
     "name": "stdout",
     "output_type": "stream",
     "text": [
      "{'loss': 3.2896, 'grad_norm': 0.4707745313644409, 'learning_rate': 0.0006635802469135802, 'epoch': 0.67}\n"
     ]
    },
    {
     "name": "stderr",
     "output_type": "stream",
     "text": [
      " 34%|███▍      | 110/324 [08:19<16:14,  4.55s/it]"
     ]
    },
    {
     "name": "stdout",
     "output_type": "stream",
     "text": [
      "{'loss': 3.2615, 'grad_norm': 0.45706668496131897, 'learning_rate': 0.0006604938271604939, 'epoch': 0.68}\n"
     ]
    },
    {
     "name": "stderr",
     "output_type": "stream",
     "text": [
      " 34%|███▍      | 111/324 [08:23<15:57,  4.49s/it]"
     ]
    },
    {
     "name": "stdout",
     "output_type": "stream",
     "text": [
      "{'loss': 3.3037, 'grad_norm': 0.3817608654499054, 'learning_rate': 0.0006574074074074074, 'epoch': 0.69}\n"
     ]
    },
    {
     "name": "stderr",
     "output_type": "stream",
     "text": [
      " 35%|███▍      | 112/324 [08:27<15:37,  4.42s/it]"
     ]
    },
    {
     "name": "stdout",
     "output_type": "stream",
     "text": [
      "{'loss': 3.3727, 'grad_norm': 0.3834652602672577, 'learning_rate': 0.000654320987654321, 'epoch': 0.69}\n"
     ]
    },
    {
     "name": "stderr",
     "output_type": "stream",
     "text": [
      " 35%|███▍      | 113/324 [08:32<15:25,  4.39s/it]"
     ]
    },
    {
     "name": "stdout",
     "output_type": "stream",
     "text": [
      "{'loss': 3.363, 'grad_norm': 0.41119256615638733, 'learning_rate': 0.0006512345679012346, 'epoch': 0.7}\n"
     ]
    },
    {
     "name": "stderr",
     "output_type": "stream",
     "text": [
      " 35%|███▌      | 114/324 [08:36<15:23,  4.40s/it]"
     ]
    },
    {
     "name": "stdout",
     "output_type": "stream",
     "text": [
      "{'loss': 3.4391, 'grad_norm': 0.3957182765007019, 'learning_rate': 0.0006481481481481481, 'epoch': 0.7}\n"
     ]
    },
    {
     "name": "stderr",
     "output_type": "stream",
     "text": [
      " 35%|███▌      | 115/324 [08:40<15:15,  4.38s/it]"
     ]
    },
    {
     "name": "stdout",
     "output_type": "stream",
     "text": [
      "{'loss': 3.2587, 'grad_norm': 0.45014330744743347, 'learning_rate': 0.0006450617283950618, 'epoch': 0.71}\n"
     ]
    },
    {
     "name": "stderr",
     "output_type": "stream",
     "text": [
      " 36%|███▌      | 116/324 [08:45<15:08,  4.37s/it]"
     ]
    },
    {
     "name": "stdout",
     "output_type": "stream",
     "text": [
      "{'loss': 3.2632, 'grad_norm': 0.4165455996990204, 'learning_rate': 0.0006419753086419753, 'epoch': 0.72}\n"
     ]
    },
    {
     "name": "stderr",
     "output_type": "stream",
     "text": [
      " 36%|███▌      | 117/324 [08:49<15:09,  4.39s/it]"
     ]
    },
    {
     "name": "stdout",
     "output_type": "stream",
     "text": [
      "{'loss': 3.4167, 'grad_norm': 0.40505310893058777, 'learning_rate': 0.0006388888888888888, 'epoch': 0.72}\n"
     ]
    },
    {
     "name": "stderr",
     "output_type": "stream",
     "text": [
      " 36%|███▋      | 118/324 [08:54<15:08,  4.41s/it]"
     ]
    },
    {
     "name": "stdout",
     "output_type": "stream",
     "text": [
      "{'loss': 3.1031, 'grad_norm': 0.4668121635913849, 'learning_rate': 0.0006358024691358026, 'epoch': 0.73}\n"
     ]
    },
    {
     "name": "stderr",
     "output_type": "stream",
     "text": [
      " 37%|███▋      | 119/324 [08:58<15:06,  4.42s/it]"
     ]
    },
    {
     "name": "stdout",
     "output_type": "stream",
     "text": [
      "{'loss': 3.329, 'grad_norm': 0.43906888365745544, 'learning_rate': 0.0006327160493827161, 'epoch': 0.73}\n"
     ]
    },
    {
     "name": "stderr",
     "output_type": "stream",
     "text": [
      " 37%|███▋      | 120/324 [09:02<15:01,  4.42s/it]"
     ]
    },
    {
     "name": "stdout",
     "output_type": "stream",
     "text": [
      "{'loss': 3.2945, 'grad_norm': 0.4170647859573364, 'learning_rate': 0.0006296296296296296, 'epoch': 0.74}\n"
     ]
    },
    {
     "name": "stderr",
     "output_type": "stream",
     "text": [
      " 37%|███▋      | 121/324 [09:07<14:47,  4.37s/it]"
     ]
    },
    {
     "name": "stdout",
     "output_type": "stream",
     "text": [
      "{'loss': 3.3414, 'grad_norm': 0.45813268423080444, 'learning_rate': 0.0006265432098765432, 'epoch': 0.75}\n"
     ]
    },
    {
     "name": "stderr",
     "output_type": "stream",
     "text": [
      " 38%|███▊      | 122/324 [09:11<14:42,  4.37s/it]"
     ]
    },
    {
     "name": "stdout",
     "output_type": "stream",
     "text": [
      "{'loss': 3.1403, 'grad_norm': 0.39593714475631714, 'learning_rate': 0.0006234567901234568, 'epoch': 0.75}\n"
     ]
    },
    {
     "name": "stderr",
     "output_type": "stream",
     "text": [
      " 38%|███▊      | 123/324 [09:16<14:48,  4.42s/it]"
     ]
    },
    {
     "name": "stdout",
     "output_type": "stream",
     "text": [
      "{'loss': 3.2681, 'grad_norm': 0.4182901382446289, 'learning_rate': 0.0006203703703703704, 'epoch': 0.76}\n"
     ]
    },
    {
     "name": "stderr",
     "output_type": "stream",
     "text": [
      " 38%|███▊      | 124/324 [09:20<14:44,  4.42s/it]"
     ]
    },
    {
     "name": "stdout",
     "output_type": "stream",
     "text": [
      "{'loss': 3.2148, 'grad_norm': 0.4422193169593811, 'learning_rate': 0.0006172839506172839, 'epoch': 0.77}\n"
     ]
    },
    {
     "name": "stderr",
     "output_type": "stream",
     "text": [
      " 39%|███▊      | 125/324 [09:24<14:36,  4.40s/it]"
     ]
    },
    {
     "name": "stdout",
     "output_type": "stream",
     "text": [
      "{'loss': 3.1044, 'grad_norm': 0.4070618748664856, 'learning_rate': 0.0006141975308641975, 'epoch': 0.77}\n"
     ]
    },
    {
     "name": "stderr",
     "output_type": "stream",
     "text": [
      " 39%|███▉      | 126/324 [09:29<14:33,  4.41s/it]"
     ]
    },
    {
     "name": "stdout",
     "output_type": "stream",
     "text": [
      "{'loss': 3.1303, 'grad_norm': 0.4318765103816986, 'learning_rate': 0.0006111111111111112, 'epoch': 0.78}\n"
     ]
    },
    {
     "name": "stderr",
     "output_type": "stream",
     "text": [
      " 39%|███▉      | 127/324 [09:33<14:18,  4.36s/it]"
     ]
    },
    {
     "name": "stdout",
     "output_type": "stream",
     "text": [
      "{'loss': 3.2942, 'grad_norm': 0.3748543858528137, 'learning_rate': 0.0006080246913580247, 'epoch': 0.78}\n"
     ]
    },
    {
     "name": "stderr",
     "output_type": "stream",
     "text": [
      " 40%|███▉      | 128/324 [09:38<14:18,  4.38s/it]"
     ]
    },
    {
     "name": "stdout",
     "output_type": "stream",
     "text": [
      "{'loss': 3.2564, 'grad_norm': 0.45757803320884705, 'learning_rate': 0.0006049382716049383, 'epoch': 0.79}\n"
     ]
    },
    {
     "name": "stderr",
     "output_type": "stream",
     "text": [
      " 40%|███▉      | 129/324 [09:42<14:04,  4.33s/it]"
     ]
    },
    {
     "name": "stdout",
     "output_type": "stream",
     "text": [
      "{'loss': 3.2107, 'grad_norm': 0.44500866532325745, 'learning_rate': 0.0006018518518518519, 'epoch': 0.8}\n"
     ]
    },
    {
     "name": "stderr",
     "output_type": "stream",
     "text": [
      " 40%|████      | 130/324 [09:46<14:02,  4.34s/it]"
     ]
    },
    {
     "name": "stdout",
     "output_type": "stream",
     "text": [
      "{'loss': 3.368, 'grad_norm': 0.38382214307785034, 'learning_rate': 0.0005987654320987654, 'epoch': 0.8}\n"
     ]
    },
    {
     "name": "stderr",
     "output_type": "stream",
     "text": [
      " 40%|████      | 131/324 [09:50<13:55,  4.33s/it]"
     ]
    },
    {
     "name": "stdout",
     "output_type": "stream",
     "text": [
      "{'loss': 3.3037, 'grad_norm': 0.36622583866119385, 'learning_rate': 0.0005956790123456791, 'epoch': 0.81}\n"
     ]
    },
    {
     "name": "stderr",
     "output_type": "stream",
     "text": [
      " 41%|████      | 132/324 [09:55<13:51,  4.33s/it]"
     ]
    },
    {
     "name": "stdout",
     "output_type": "stream",
     "text": [
      "{'loss': 3.4336, 'grad_norm': 0.3649744689464569, 'learning_rate': 0.0005925925925925926, 'epoch': 0.81}\n"
     ]
    },
    {
     "name": "stderr",
     "output_type": "stream",
     "text": [
      " 41%|████      | 133/324 [09:59<13:56,  4.38s/it]"
     ]
    },
    {
     "name": "stdout",
     "output_type": "stream",
     "text": [
      "{'loss': 3.2483, 'grad_norm': 0.3770112693309784, 'learning_rate': 0.0005895061728395061, 'epoch': 0.82}\n"
     ]
    },
    {
     "name": "stderr",
     "output_type": "stream",
     "text": [
      " 41%|████▏     | 134/324 [10:04<13:46,  4.35s/it]"
     ]
    },
    {
     "name": "stdout",
     "output_type": "stream",
     "text": [
      "{'loss': 3.279, 'grad_norm': 0.41240212321281433, 'learning_rate': 0.0005864197530864199, 'epoch': 0.83}\n"
     ]
    },
    {
     "name": "stderr",
     "output_type": "stream",
     "text": [
      " 42%|████▏     | 135/324 [10:08<13:38,  4.33s/it]"
     ]
    },
    {
     "name": "stdout",
     "output_type": "stream",
     "text": [
      "{'loss': 3.1595, 'grad_norm': 0.5567824244499207, 'learning_rate': 0.0005833333333333334, 'epoch': 0.83}\n"
     ]
    },
    {
     "name": "stderr",
     "output_type": "stream",
     "text": [
      " 42%|████▏     | 136/324 [10:12<13:35,  4.34s/it]"
     ]
    },
    {
     "name": "stdout",
     "output_type": "stream",
     "text": [
      "{'loss': 2.9657, 'grad_norm': 0.4778001010417938, 'learning_rate': 0.0005802469135802469, 'epoch': 0.84}\n"
     ]
    },
    {
     "name": "stderr",
     "output_type": "stream",
     "text": [
      " 42%|████▏     | 137/324 [10:16<13:29,  4.33s/it]"
     ]
    },
    {
     "name": "stdout",
     "output_type": "stream",
     "text": [
      "{'loss': 3.306, 'grad_norm': 0.38415053486824036, 'learning_rate': 0.0005771604938271605, 'epoch': 0.85}\n"
     ]
    },
    {
     "name": "stderr",
     "output_type": "stream",
     "text": [
      " 43%|████▎     | 138/324 [10:21<13:22,  4.32s/it]"
     ]
    },
    {
     "name": "stdout",
     "output_type": "stream",
     "text": [
      "{'loss': 3.2891, 'grad_norm': 0.39732715487480164, 'learning_rate': 0.0005740740740740741, 'epoch': 0.85}\n"
     ]
    },
    {
     "name": "stderr",
     "output_type": "stream",
     "text": [
      " 43%|████▎     | 139/324 [10:25<13:12,  4.28s/it]"
     ]
    },
    {
     "name": "stdout",
     "output_type": "stream",
     "text": [
      "{'loss': 3.1664, 'grad_norm': 0.51267409324646, 'learning_rate': 0.0005709876543209876, 'epoch': 0.86}\n"
     ]
    },
    {
     "name": "stderr",
     "output_type": "stream",
     "text": [
      " 43%|████▎     | 140/324 [10:29<13:03,  4.26s/it]"
     ]
    },
    {
     "name": "stdout",
     "output_type": "stream",
     "text": [
      "{'loss': 3.3897, 'grad_norm': 0.3737185299396515, 'learning_rate': 0.0005679012345679012, 'epoch': 0.86}\n"
     ]
    },
    {
     "name": "stderr",
     "output_type": "stream",
     "text": [
      " 44%|████▎     | 141/324 [10:33<12:59,  4.26s/it]"
     ]
    },
    {
     "name": "stdout",
     "output_type": "stream",
     "text": [
      "{'loss': 3.4069, 'grad_norm': 0.3999272286891937, 'learning_rate': 0.0005648148148148148, 'epoch': 0.87}\n"
     ]
    },
    {
     "name": "stderr",
     "output_type": "stream",
     "text": [
      " 44%|████▍     | 142/324 [10:38<12:52,  4.25s/it]"
     ]
    },
    {
     "name": "stdout",
     "output_type": "stream",
     "text": [
      "{'loss': 3.161, 'grad_norm': 0.4325175881385803, 'learning_rate': 0.0005617283950617285, 'epoch': 0.88}\n"
     ]
    },
    {
     "name": "stderr",
     "output_type": "stream",
     "text": [
      " 44%|████▍     | 143/324 [10:42<12:53,  4.27s/it]"
     ]
    },
    {
     "name": "stdout",
     "output_type": "stream",
     "text": [
      "{'loss': 2.9883, 'grad_norm': 0.45415112376213074, 'learning_rate': 0.000558641975308642, 'epoch': 0.88}\n"
     ]
    },
    {
     "name": "stderr",
     "output_type": "stream",
     "text": [
      " 44%|████▍     | 144/324 [10:46<12:45,  4.25s/it]"
     ]
    },
    {
     "name": "stdout",
     "output_type": "stream",
     "text": [
      "{'loss': 2.992, 'grad_norm': 0.4556169807910919, 'learning_rate': 0.0005555555555555556, 'epoch': 0.89}\n"
     ]
    },
    {
     "name": "stderr",
     "output_type": "stream",
     "text": [
      " 45%|████▍     | 145/324 [10:51<12:48,  4.29s/it]"
     ]
    },
    {
     "name": "stdout",
     "output_type": "stream",
     "text": [
      "{'loss': 3.0836, 'grad_norm': 0.4012414515018463, 'learning_rate': 0.0005524691358024692, 'epoch': 0.9}\n"
     ]
    },
    {
     "name": "stderr",
     "output_type": "stream",
     "text": [
      " 45%|████▌     | 146/324 [10:55<12:41,  4.28s/it]"
     ]
    },
    {
     "name": "stdout",
     "output_type": "stream",
     "text": [
      "{'loss': 3.3799, 'grad_norm': 0.42774486541748047, 'learning_rate': 0.0005493827160493827, 'epoch': 0.9}\n"
     ]
    },
    {
     "name": "stderr",
     "output_type": "stream",
     "text": [
      " 45%|████▌     | 147/324 [10:59<12:41,  4.30s/it]"
     ]
    },
    {
     "name": "stdout",
     "output_type": "stream",
     "text": [
      "{'loss': 3.4407, 'grad_norm': 0.3738853335380554, 'learning_rate': 0.0005462962962962962, 'epoch': 0.91}\n"
     ]
    },
    {
     "name": "stderr",
     "output_type": "stream",
     "text": [
      " 46%|████▌     | 148/324 [11:03<12:37,  4.30s/it]"
     ]
    },
    {
     "name": "stdout",
     "output_type": "stream",
     "text": [
      "{'loss': 3.177, 'grad_norm': 0.4666432738304138, 'learning_rate': 0.0005432098765432099, 'epoch': 0.91}\n"
     ]
    },
    {
     "name": "stderr",
     "output_type": "stream",
     "text": [
      " 46%|████▌     | 149/324 [11:08<12:27,  4.27s/it]"
     ]
    },
    {
     "name": "stdout",
     "output_type": "stream",
     "text": [
      "{'loss': 3.0253, 'grad_norm': 0.5475768446922302, 'learning_rate': 0.0005401234567901234, 'epoch': 0.92}\n"
     ]
    },
    {
     "name": "stderr",
     "output_type": "stream",
     "text": [
      " 46%|████▋     | 150/324 [11:12<12:20,  4.26s/it]"
     ]
    },
    {
     "name": "stdout",
     "output_type": "stream",
     "text": [
      "{'loss': 3.3323, 'grad_norm': 0.543930172920227, 'learning_rate': 0.0005370370370370371, 'epoch': 0.93}\n"
     ]
    },
    {
     "name": "stderr",
     "output_type": "stream",
     "text": [
      " 47%|████▋     | 151/324 [11:16<12:08,  4.21s/it]"
     ]
    },
    {
     "name": "stdout",
     "output_type": "stream",
     "text": [
      "{'loss': 3.3242, 'grad_norm': 0.48140379786491394, 'learning_rate': 0.0005339506172839507, 'epoch': 0.93}\n"
     ]
    },
    {
     "name": "stderr",
     "output_type": "stream",
     "text": [
      " 47%|████▋     | 152/324 [11:20<12:07,  4.23s/it]"
     ]
    },
    {
     "name": "stdout",
     "output_type": "stream",
     "text": [
      "{'loss': 3.2859, 'grad_norm': 0.35804468393325806, 'learning_rate': 0.0005308641975308642, 'epoch': 0.94}\n"
     ]
    },
    {
     "name": "stderr",
     "output_type": "stream",
     "text": [
      " 47%|████▋     | 153/324 [11:24<11:57,  4.20s/it]"
     ]
    },
    {
     "name": "stdout",
     "output_type": "stream",
     "text": [
      "{'loss': 3.3668, 'grad_norm': 0.36226987838745117, 'learning_rate': 0.0005277777777777778, 'epoch': 0.94}\n"
     ]
    },
    {
     "name": "stderr",
     "output_type": "stream",
     "text": [
      " 48%|████▊     | 154/324 [11:29<11:52,  4.19s/it]"
     ]
    },
    {
     "name": "stdout",
     "output_type": "stream",
     "text": [
      "{'loss': 3.3149, 'grad_norm': 0.375883013010025, 'learning_rate': 0.0005246913580246914, 'epoch': 0.95}\n"
     ]
    },
    {
     "name": "stderr",
     "output_type": "stream",
     "text": [
      " 48%|████▊     | 155/324 [11:33<11:49,  4.20s/it]"
     ]
    },
    {
     "name": "stdout",
     "output_type": "stream",
     "text": [
      "{'loss': 3.0796, 'grad_norm': 0.4223792254924774, 'learning_rate': 0.0005216049382716049, 'epoch': 0.96}\n"
     ]
    },
    {
     "name": "stderr",
     "output_type": "stream",
     "text": [
      " 48%|████▊     | 156/324 [11:37<11:46,  4.21s/it]"
     ]
    },
    {
     "name": "stdout",
     "output_type": "stream",
     "text": [
      "{'loss': 3.2169, 'grad_norm': 0.38405537605285645, 'learning_rate': 0.0005185185185185185, 'epoch': 0.96}\n"
     ]
    },
    {
     "name": "stderr",
     "output_type": "stream",
     "text": [
      " 48%|████▊     | 157/324 [11:41<11:48,  4.24s/it]"
     ]
    },
    {
     "name": "stdout",
     "output_type": "stream",
     "text": [
      "{'loss': 3.1616, 'grad_norm': 0.4046715497970581, 'learning_rate': 0.000515432098765432, 'epoch': 0.97}\n"
     ]
    },
    {
     "name": "stderr",
     "output_type": "stream",
     "text": [
      " 49%|████▉     | 158/324 [11:46<11:48,  4.27s/it]"
     ]
    },
    {
     "name": "stdout",
     "output_type": "stream",
     "text": [
      "{'loss': 3.3136, 'grad_norm': 0.35906079411506653, 'learning_rate': 0.0005123456790123458, 'epoch': 0.98}\n"
     ]
    },
    {
     "name": "stderr",
     "output_type": "stream",
     "text": [
      " 49%|████▉     | 159/324 [11:50<11:45,  4.27s/it]"
     ]
    },
    {
     "name": "stdout",
     "output_type": "stream",
     "text": [
      "{'loss': 3.3156, 'grad_norm': 0.44184064865112305, 'learning_rate': 0.0005092592592592593, 'epoch': 0.98}\n"
     ]
    },
    {
     "name": "stderr",
     "output_type": "stream",
     "text": [
      " 49%|████▉     | 160/324 [11:54<11:37,  4.25s/it]"
     ]
    },
    {
     "name": "stdout",
     "output_type": "stream",
     "text": [
      "{'loss': 3.2834, 'grad_norm': 0.3555103540420532, 'learning_rate': 0.0005061728395061728, 'epoch': 0.99}\n"
     ]
    },
    {
     "name": "stderr",
     "output_type": "stream",
     "text": [
      " 50%|████▉     | 161/324 [11:58<11:27,  4.22s/it]"
     ]
    },
    {
     "name": "stdout",
     "output_type": "stream",
     "text": [
      "{'loss': 3.1688, 'grad_norm': 0.4038175940513611, 'learning_rate': 0.0005030864197530865, 'epoch': 0.99}\n"
     ]
    },
    {
     "name": "stderr",
     "output_type": "stream",
     "text": [
      " 50%|█████     | 162/324 [12:03<11:25,  4.23s/it]"
     ]
    },
    {
     "name": "stdout",
     "output_type": "stream",
     "text": [
      "{'loss': 3.3396, 'grad_norm': 0.46462544798851013, 'learning_rate': 0.0005, 'epoch': 1.0}\n"
     ]
    },
    {
     "name": "stderr",
     "output_type": "stream",
     "text": [
      " 50%|█████     | 163/324 [12:07<11:18,  4.21s/it]"
     ]
    },
    {
     "name": "stdout",
     "output_type": "stream",
     "text": [
      "{'loss': 3.2032, 'grad_norm': 0.36955368518829346, 'learning_rate': 0.0004969135802469135, 'epoch': 1.01}\n"
     ]
    },
    {
     "name": "stderr",
     "output_type": "stream",
     "text": [
      " 51%|█████     | 164/324 [12:11<11:17,  4.23s/it]"
     ]
    },
    {
     "name": "stdout",
     "output_type": "stream",
     "text": [
      "{'loss': 3.1765, 'grad_norm': 0.4179440438747406, 'learning_rate': 0.0004938271604938272, 'epoch': 1.01}\n"
     ]
    },
    {
     "name": "stderr",
     "output_type": "stream",
     "text": [
      " 51%|█████     | 165/324 [12:15<11:09,  4.21s/it]"
     ]
    },
    {
     "name": "stdout",
     "output_type": "stream",
     "text": [
      "{'loss': 3.333, 'grad_norm': 0.4392094910144806, 'learning_rate': 0.0004907407407407408, 'epoch': 1.02}\n"
     ]
    },
    {
     "name": "stderr",
     "output_type": "stream",
     "text": [
      " 51%|█████     | 166/324 [12:19<11:03,  4.20s/it]"
     ]
    },
    {
     "name": "stdout",
     "output_type": "stream",
     "text": [
      "{'loss': 3.3063, 'grad_norm': 0.37651118636131287, 'learning_rate': 0.00048765432098765433, 'epoch': 1.02}\n"
     ]
    },
    {
     "name": "stderr",
     "output_type": "stream",
     "text": [
      " 52%|█████▏    | 167/324 [12:24<11:04,  4.23s/it]"
     ]
    },
    {
     "name": "stdout",
     "output_type": "stream",
     "text": [
      "{'loss': 3.1426, 'grad_norm': 0.37745675444602966, 'learning_rate': 0.0004845679012345679, 'epoch': 1.03}\n"
     ]
    },
    {
     "name": "stderr",
     "output_type": "stream",
     "text": [
      " 52%|█████▏    | 168/324 [12:28<10:59,  4.23s/it]"
     ]
    },
    {
     "name": "stdout",
     "output_type": "stream",
     "text": [
      "{'loss': 3.202, 'grad_norm': 0.5654391050338745, 'learning_rate': 0.00048148148148148144, 'epoch': 1.04}\n"
     ]
    },
    {
     "name": "stderr",
     "output_type": "stream",
     "text": [
      " 52%|█████▏    | 169/324 [12:32<11:04,  4.29s/it]"
     ]
    },
    {
     "name": "stdout",
     "output_type": "stream",
     "text": [
      "{'loss': 3.2367, 'grad_norm': 0.34171047806739807, 'learning_rate': 0.0004783950617283951, 'epoch': 1.04}\n"
     ]
    },
    {
     "name": "stderr",
     "output_type": "stream",
     "text": [
      " 52%|█████▏    | 170/324 [12:37<11:01,  4.30s/it]"
     ]
    },
    {
     "name": "stdout",
     "output_type": "stream",
     "text": [
      "{'loss': 3.2833, 'grad_norm': 0.4471414089202881, 'learning_rate': 0.00047530864197530866, 'epoch': 1.05}\n"
     ]
    },
    {
     "name": "stderr",
     "output_type": "stream",
     "text": [
      " 53%|█████▎    | 171/324 [12:41<11:05,  4.35s/it]"
     ]
    },
    {
     "name": "stdout",
     "output_type": "stream",
     "text": [
      "{'loss': 3.3449, 'grad_norm': 0.38479459285736084, 'learning_rate': 0.00047222222222222224, 'epoch': 1.06}\n"
     ]
    },
    {
     "name": "stderr",
     "output_type": "stream",
     "text": [
      " 53%|█████▎    | 172/324 [12:45<10:56,  4.32s/it]"
     ]
    },
    {
     "name": "stdout",
     "output_type": "stream",
     "text": [
      "{'loss': 3.4244, 'grad_norm': 0.37117883563041687, 'learning_rate': 0.00046913580246913576, 'epoch': 1.06}\n"
     ]
    },
    {
     "name": "stderr",
     "output_type": "stream",
     "text": [
      " 53%|█████▎    | 173/324 [12:50<10:49,  4.30s/it]"
     ]
    },
    {
     "name": "stdout",
     "output_type": "stream",
     "text": [
      "{'loss': 3.0838, 'grad_norm': 0.463746577501297, 'learning_rate': 0.0004660493827160494, 'epoch': 1.07}\n"
     ]
    },
    {
     "name": "stderr",
     "output_type": "stream",
     "text": [
      " 54%|█████▎    | 174/324 [12:54<10:39,  4.26s/it]"
     ]
    },
    {
     "name": "stdout",
     "output_type": "stream",
     "text": [
      "{'loss': 3.3022, 'grad_norm': 0.3729074001312256, 'learning_rate': 0.000462962962962963, 'epoch': 1.07}\n"
     ]
    },
    {
     "name": "stderr",
     "output_type": "stream",
     "text": [
      " 54%|█████▍    | 175/324 [12:58<10:30,  4.23s/it]"
     ]
    },
    {
     "name": "stdout",
     "output_type": "stream",
     "text": [
      "{'loss': 3.4521, 'grad_norm': 0.34526702761650085, 'learning_rate': 0.00045987654320987656, 'epoch': 1.08}\n"
     ]
    },
    {
     "name": "stderr",
     "output_type": "stream",
     "text": [
      " 54%|█████▍    | 176/324 [13:02<10:21,  4.20s/it]"
     ]
    },
    {
     "name": "stdout",
     "output_type": "stream",
     "text": [
      "{'loss': 3.1476, 'grad_norm': 0.5055150985717773, 'learning_rate': 0.0004567901234567901, 'epoch': 1.09}\n"
     ]
    },
    {
     "name": "stderr",
     "output_type": "stream",
     "text": [
      " 55%|█████▍    | 177/324 [13:06<10:13,  4.17s/it]"
     ]
    },
    {
     "name": "stdout",
     "output_type": "stream",
     "text": [
      "{'loss': 3.2743, 'grad_norm': 0.4123713970184326, 'learning_rate': 0.0004537037037037037, 'epoch': 1.09}\n"
     ]
    },
    {
     "name": "stderr",
     "output_type": "stream",
     "text": [
      " 55%|█████▍    | 178/324 [13:10<10:12,  4.20s/it]"
     ]
    },
    {
     "name": "stdout",
     "output_type": "stream",
     "text": [
      "{'loss': 3.3556, 'grad_norm': 0.3475359380245209, 'learning_rate': 0.0004506172839506173, 'epoch': 1.1}\n"
     ]
    },
    {
     "name": "stderr",
     "output_type": "stream",
     "text": [
      " 55%|█████▌    | 179/324 [13:15<10:09,  4.21s/it]"
     ]
    },
    {
     "name": "stdout",
     "output_type": "stream",
     "text": [
      "{'loss': 3.2054, 'grad_norm': 0.4505918622016907, 'learning_rate': 0.0004475308641975309, 'epoch': 1.1}\n"
     ]
    },
    {
     "name": "stderr",
     "output_type": "stream",
     "text": [
      " 56%|█████▌    | 180/324 [13:19<09:59,  4.16s/it]"
     ]
    },
    {
     "name": "stdout",
     "output_type": "stream",
     "text": [
      "{'loss': 3.0921, 'grad_norm': 0.47621339559555054, 'learning_rate': 0.0004444444444444444, 'epoch': 1.11}\n"
     ]
    },
    {
     "name": "stderr",
     "output_type": "stream",
     "text": [
      " 56%|█████▌    | 181/324 [13:23<10:01,  4.21s/it]"
     ]
    },
    {
     "name": "stdout",
     "output_type": "stream",
     "text": [
      "{'loss': 3.2455, 'grad_norm': 0.5280145406723022, 'learning_rate': 0.00044135802469135805, 'epoch': 1.12}\n"
     ]
    },
    {
     "name": "stderr",
     "output_type": "stream",
     "text": [
      " 56%|█████▌    | 182/324 [13:27<09:53,  4.18s/it]"
     ]
    },
    {
     "name": "stdout",
     "output_type": "stream",
     "text": [
      "{'loss': 3.1939, 'grad_norm': 0.4596261978149414, 'learning_rate': 0.00043827160493827163, 'epoch': 1.12}\n"
     ]
    },
    {
     "name": "stderr",
     "output_type": "stream",
     "text": [
      " 56%|█████▋    | 183/324 [13:31<09:51,  4.19s/it]"
     ]
    },
    {
     "name": "stdout",
     "output_type": "stream",
     "text": [
      "{'loss': 3.1899, 'grad_norm': 0.3899417519569397, 'learning_rate': 0.0004351851851851852, 'epoch': 1.13}\n"
     ]
    },
    {
     "name": "stderr",
     "output_type": "stream",
     "text": [
      " 57%|█████▋    | 184/324 [13:35<09:44,  4.17s/it]"
     ]
    },
    {
     "name": "stdout",
     "output_type": "stream",
     "text": [
      "{'loss': 3.3151, 'grad_norm': 0.423717737197876, 'learning_rate': 0.00043209876543209873, 'epoch': 1.14}\n"
     ]
    },
    {
     "name": "stderr",
     "output_type": "stream",
     "text": [
      " 57%|█████▋    | 185/324 [13:40<09:44,  4.20s/it]"
     ]
    },
    {
     "name": "stdout",
     "output_type": "stream",
     "text": [
      "{'loss': 2.9689, 'grad_norm': 0.4289659559726715, 'learning_rate': 0.00042901234567901237, 'epoch': 1.14}\n"
     ]
    },
    {
     "name": "stderr",
     "output_type": "stream",
     "text": [
      " 57%|█████▋    | 186/324 [13:44<09:43,  4.23s/it]"
     ]
    },
    {
     "name": "stdout",
     "output_type": "stream",
     "text": [
      "{'loss': 3.2452, 'grad_norm': 0.41272300481796265, 'learning_rate': 0.00042592592592592595, 'epoch': 1.15}\n"
     ]
    },
    {
     "name": "stderr",
     "output_type": "stream",
     "text": [
      " 58%|█████▊    | 187/324 [13:48<09:43,  4.26s/it]"
     ]
    },
    {
     "name": "stdout",
     "output_type": "stream",
     "text": [
      "{'loss': 3.1221, 'grad_norm': 0.43586885929107666, 'learning_rate': 0.00042283950617283953, 'epoch': 1.15}\n"
     ]
    },
    {
     "name": "stderr",
     "output_type": "stream",
     "text": [
      " 58%|█████▊    | 188/324 [13:53<09:39,  4.26s/it]"
     ]
    },
    {
     "name": "stdout",
     "output_type": "stream",
     "text": [
      "{'loss': 3.2073, 'grad_norm': 0.41712766885757446, 'learning_rate': 0.00041975308641975306, 'epoch': 1.16}\n"
     ]
    },
    {
     "name": "stderr",
     "output_type": "stream",
     "text": [
      " 58%|█████▊    | 189/324 [13:57<09:31,  4.23s/it]"
     ]
    },
    {
     "name": "stdout",
     "output_type": "stream",
     "text": [
      "{'loss': 3.3436, 'grad_norm': 0.36885371804237366, 'learning_rate': 0.0004166666666666667, 'epoch': 1.17}\n"
     ]
    },
    {
     "name": "stderr",
     "output_type": "stream",
     "text": [
      " 59%|█████▊    | 190/324 [14:01<09:26,  4.23s/it]"
     ]
    },
    {
     "name": "stdout",
     "output_type": "stream",
     "text": [
      "{'loss': 3.2272, 'grad_norm': 0.44012364745140076, 'learning_rate': 0.0004135802469135803, 'epoch': 1.17}\n"
     ]
    },
    {
     "name": "stderr",
     "output_type": "stream",
     "text": [
      " 59%|█████▉    | 191/324 [14:05<09:24,  4.25s/it]"
     ]
    },
    {
     "name": "stdout",
     "output_type": "stream",
     "text": [
      "{'loss': 3.2037, 'grad_norm': 0.46127089858055115, 'learning_rate': 0.0004104938271604938, 'epoch': 1.18}\n"
     ]
    },
    {
     "name": "stderr",
     "output_type": "stream",
     "text": [
      " 59%|█████▉    | 192/324 [14:09<09:19,  4.24s/it]"
     ]
    },
    {
     "name": "stdout",
     "output_type": "stream",
     "text": [
      "{'loss': 3.1009, 'grad_norm': 0.4576221704483032, 'learning_rate': 0.0004074074074074074, 'epoch': 1.19}\n"
     ]
    },
    {
     "name": "stderr",
     "output_type": "stream",
     "text": [
      " 60%|█████▉    | 193/324 [14:14<09:19,  4.27s/it]"
     ]
    },
    {
     "name": "stdout",
     "output_type": "stream",
     "text": [
      "{'loss': 3.2053, 'grad_norm': 0.4023903012275696, 'learning_rate': 0.000404320987654321, 'epoch': 1.19}\n"
     ]
    },
    {
     "name": "stderr",
     "output_type": "stream",
     "text": [
      " 60%|█████▉    | 194/324 [14:18<09:11,  4.24s/it]"
     ]
    },
    {
     "name": "stdout",
     "output_type": "stream",
     "text": [
      "{'loss': 3.3715, 'grad_norm': 0.3493761420249939, 'learning_rate': 0.0004012345679012346, 'epoch': 1.2}\n"
     ]
    },
    {
     "name": "stderr",
     "output_type": "stream",
     "text": [
      " 60%|██████    | 195/324 [14:22<09:03,  4.22s/it]"
     ]
    },
    {
     "name": "stdout",
     "output_type": "stream",
     "text": [
      "{'loss': 3.277, 'grad_norm': 0.3919614851474762, 'learning_rate': 0.0003981481481481481, 'epoch': 1.2}\n"
     ]
    },
    {
     "name": "stderr",
     "output_type": "stream",
     "text": [
      " 60%|██████    | 196/324 [14:26<09:02,  4.24s/it]"
     ]
    },
    {
     "name": "stdout",
     "output_type": "stream",
     "text": [
      "{'loss': 3.4048, 'grad_norm': 0.37921634316444397, 'learning_rate': 0.0003950617283950617, 'epoch': 1.21}\n"
     ]
    },
    {
     "name": "stderr",
     "output_type": "stream",
     "text": [
      " 61%|██████    | 197/324 [14:31<08:53,  4.20s/it]"
     ]
    },
    {
     "name": "stdout",
     "output_type": "stream",
     "text": [
      "{'loss': 3.2569, 'grad_norm': 0.3846209943294525, 'learning_rate': 0.00039197530864197534, 'epoch': 1.22}\n"
     ]
    },
    {
     "name": "stderr",
     "output_type": "stream",
     "text": [
      " 61%|██████    | 198/324 [14:35<08:48,  4.20s/it]"
     ]
    },
    {
     "name": "stdout",
     "output_type": "stream",
     "text": [
      "{'loss': 3.1551, 'grad_norm': 0.4931853413581848, 'learning_rate': 0.0003888888888888889, 'epoch': 1.22}\n"
     ]
    },
    {
     "name": "stderr",
     "output_type": "stream",
     "text": [
      " 61%|██████▏   | 199/324 [14:39<08:44,  4.19s/it]"
     ]
    },
    {
     "name": "stdout",
     "output_type": "stream",
     "text": [
      "{'loss': 3.2854, 'grad_norm': 0.4376892149448395, 'learning_rate': 0.00038580246913580245, 'epoch': 1.23}\n"
     ]
    },
    {
     "name": "stderr",
     "output_type": "stream",
     "text": [
      " 62%|██████▏   | 200/324 [14:43<08:43,  4.22s/it]"
     ]
    },
    {
     "name": "stdout",
     "output_type": "stream",
     "text": [
      "{'loss': 3.1611, 'grad_norm': 0.4017917811870575, 'learning_rate': 0.00038271604938271603, 'epoch': 1.23}\n"
     ]
    },
    {
     "name": "stderr",
     "output_type": "stream",
     "text": [
      "                                                 \n",
      " 62%|██████▏   | 200/324 [15:03<08:43,  4.22s/it]"
     ]
    },
    {
     "name": "stdout",
     "output_type": "stream",
     "text": [
      "{'eval_loss': 3.1611409187316895, 'eval_runtime': 19.7307, 'eval_samples_per_second': 7.298, 'eval_steps_per_second': 0.912, 'epoch': 1.23}\n"
     ]
    },
    {
     "name": "stderr",
     "output_type": "stream",
     "text": [
      " 62%|██████▏   | 201/324 [15:07<20:44, 10.12s/it]"
     ]
    },
    {
     "name": "stdout",
     "output_type": "stream",
     "text": [
      "{'loss': 3.2261, 'grad_norm': 0.43966537714004517, 'learning_rate': 0.00037962962962962966, 'epoch': 1.24}\n"
     ]
    },
    {
     "name": "stderr",
     "output_type": "stream",
     "text": [
      " 62%|██████▏   | 202/324 [15:11<16:56,  8.33s/it]"
     ]
    },
    {
     "name": "stdout",
     "output_type": "stream",
     "text": [
      "{'loss': 3.2654, 'grad_norm': 0.4213808476924896, 'learning_rate': 0.00037654320987654324, 'epoch': 1.25}\n"
     ]
    },
    {
     "name": "stderr",
     "output_type": "stream",
     "text": [
      " 63%|██████▎   | 203/324 [15:15<14:19,  7.11s/it]"
     ]
    },
    {
     "name": "stdout",
     "output_type": "stream",
     "text": [
      "{'loss': 3.1708, 'grad_norm': 0.42578381299972534, 'learning_rate': 0.00037345679012345677, 'epoch': 1.25}\n"
     ]
    },
    {
     "name": "stderr",
     "output_type": "stream",
     "text": [
      " 63%|██████▎   | 204/324 [15:20<12:24,  6.20s/it]"
     ]
    },
    {
     "name": "stdout",
     "output_type": "stream",
     "text": [
      "{'loss': 3.1325, 'grad_norm': 0.47253546118736267, 'learning_rate': 0.00037037037037037035, 'epoch': 1.26}\n"
     ]
    },
    {
     "name": "stderr",
     "output_type": "stream",
     "text": [
      " 63%|██████▎   | 205/324 [15:24<11:06,  5.60s/it]"
     ]
    },
    {
     "name": "stdout",
     "output_type": "stream",
     "text": [
      "{'loss': 3.2088, 'grad_norm': 0.3853497803211212, 'learning_rate': 0.000367283950617284, 'epoch': 1.27}\n"
     ]
    },
    {
     "name": "stderr",
     "output_type": "stream",
     "text": [
      " 64%|██████▎   | 206/324 [15:28<10:11,  5.18s/it]"
     ]
    },
    {
     "name": "stdout",
     "output_type": "stream",
     "text": [
      "{'loss': 3.3316, 'grad_norm': 0.40078020095825195, 'learning_rate': 0.00036419753086419757, 'epoch': 1.27}\n"
     ]
    },
    {
     "name": "stderr",
     "output_type": "stream",
     "text": [
      " 64%|██████▍   | 207/324 [15:32<09:30,  4.88s/it]"
     ]
    },
    {
     "name": "stdout",
     "output_type": "stream",
     "text": [
      "{'loss': 3.118, 'grad_norm': 0.39811810851097107, 'learning_rate': 0.0003611111111111111, 'epoch': 1.28}\n"
     ]
    },
    {
     "name": "stderr",
     "output_type": "stream",
     "text": [
      " 64%|██████▍   | 208/324 [15:36<09:01,  4.66s/it]"
     ]
    },
    {
     "name": "stdout",
     "output_type": "stream",
     "text": [
      "{'loss': 3.2175, 'grad_norm': 0.3737486004829407, 'learning_rate': 0.0003580246913580247, 'epoch': 1.28}\n"
     ]
    },
    {
     "name": "stderr",
     "output_type": "stream",
     "text": [
      " 65%|██████▍   | 209/324 [15:40<08:39,  4.51s/it]"
     ]
    },
    {
     "name": "stdout",
     "output_type": "stream",
     "text": [
      "{'loss': 3.3082, 'grad_norm': 0.49015486240386963, 'learning_rate': 0.0003549382716049383, 'epoch': 1.29}\n"
     ]
    },
    {
     "name": "stderr",
     "output_type": "stream",
     "text": [
      " 65%|██████▍   | 210/324 [15:45<08:26,  4.44s/it]"
     ]
    },
    {
     "name": "stdout",
     "output_type": "stream",
     "text": [
      "{'loss': 3.3345, 'grad_norm': 0.4203200936317444, 'learning_rate': 0.0003518518518518519, 'epoch': 1.3}\n"
     ]
    },
    {
     "name": "stderr",
     "output_type": "stream",
     "text": [
      " 65%|██████▌   | 211/324 [15:49<08:15,  4.38s/it]"
     ]
    },
    {
     "name": "stdout",
     "output_type": "stream",
     "text": [
      "{'loss': 3.1929, 'grad_norm': 0.3871366083621979, 'learning_rate': 0.0003487654320987654, 'epoch': 1.3}\n"
     ]
    },
    {
     "name": "stderr",
     "output_type": "stream",
     "text": [
      " 65%|██████▌   | 212/324 [15:53<08:04,  4.33s/it]"
     ]
    },
    {
     "name": "stdout",
     "output_type": "stream",
     "text": [
      "{'loss': 3.4074, 'grad_norm': 0.40129947662353516, 'learning_rate': 0.000345679012345679, 'epoch': 1.31}\n"
     ]
    },
    {
     "name": "stderr",
     "output_type": "stream",
     "text": [
      " 66%|██████▌   | 213/324 [15:57<07:55,  4.28s/it]"
     ]
    },
    {
     "name": "stdout",
     "output_type": "stream",
     "text": [
      "{'loss': 3.1909, 'grad_norm': 0.4666263163089752, 'learning_rate': 0.00034259259259259263, 'epoch': 1.31}\n"
     ]
    },
    {
     "name": "stderr",
     "output_type": "stream",
     "text": [
      " 66%|██████▌   | 214/324 [16:02<07:48,  4.26s/it]"
     ]
    },
    {
     "name": "stdout",
     "output_type": "stream",
     "text": [
      "{'loss': 3.3469, 'grad_norm': 0.3769031763076782, 'learning_rate': 0.0003395061728395062, 'epoch': 1.32}\n"
     ]
    },
    {
     "name": "stderr",
     "output_type": "stream",
     "text": [
      " 66%|██████▋   | 215/324 [16:06<07:39,  4.22s/it]"
     ]
    },
    {
     "name": "stdout",
     "output_type": "stream",
     "text": [
      "{'loss': 3.2538, 'grad_norm': 0.3730787932872772, 'learning_rate': 0.00033641975308641974, 'epoch': 1.33}\n"
     ]
    },
    {
     "name": "stderr",
     "output_type": "stream",
     "text": [
      " 67%|██████▋   | 216/324 [16:10<07:34,  4.20s/it]"
     ]
    },
    {
     "name": "stdout",
     "output_type": "stream",
     "text": [
      "{'loss': 3.2534, 'grad_norm': 0.36455780267715454, 'learning_rate': 0.0003333333333333333, 'epoch': 1.33}\n"
     ]
    },
    {
     "name": "stderr",
     "output_type": "stream",
     "text": [
      " 67%|██████▋   | 217/324 [16:14<07:30,  4.21s/it]"
     ]
    },
    {
     "name": "stdout",
     "output_type": "stream",
     "text": [
      "{'loss': 3.1053, 'grad_norm': 0.42996373772621155, 'learning_rate': 0.00033024691358024696, 'epoch': 1.34}\n"
     ]
    },
    {
     "name": "stderr",
     "output_type": "stream",
     "text": [
      " 67%|██████▋   | 218/324 [16:18<07:26,  4.21s/it]"
     ]
    },
    {
     "name": "stdout",
     "output_type": "stream",
     "text": [
      "{'loss': 3.3281, 'grad_norm': 0.38862112164497375, 'learning_rate': 0.0003271604938271605, 'epoch': 1.35}\n"
     ]
    },
    {
     "name": "stderr",
     "output_type": "stream",
     "text": [
      " 68%|██████▊   | 219/324 [16:23<07:22,  4.22s/it]"
     ]
    },
    {
     "name": "stdout",
     "output_type": "stream",
     "text": [
      "{'loss': 3.0943, 'grad_norm': 0.43378177285194397, 'learning_rate': 0.00032407407407407406, 'epoch': 1.35}\n"
     ]
    },
    {
     "name": "stderr",
     "output_type": "stream",
     "text": [
      " 68%|██████▊   | 220/324 [16:27<07:12,  4.16s/it]"
     ]
    },
    {
     "name": "stdout",
     "output_type": "stream",
     "text": [
      "{'loss': 2.9657, 'grad_norm': 0.4454129636287689, 'learning_rate': 0.00032098765432098765, 'epoch': 1.36}\n"
     ]
    },
    {
     "name": "stderr",
     "output_type": "stream",
     "text": [
      " 68%|██████▊   | 221/324 [16:31<07:04,  4.13s/it]"
     ]
    },
    {
     "name": "stdout",
     "output_type": "stream",
     "text": [
      "{'loss': 3.3681, 'grad_norm': 0.40045806765556335, 'learning_rate': 0.0003179012345679013, 'epoch': 1.36}\n"
     ]
    },
    {
     "name": "stderr",
     "output_type": "stream",
     "text": [
      " 69%|██████▊   | 222/324 [16:35<07:02,  4.14s/it]"
     ]
    },
    {
     "name": "stdout",
     "output_type": "stream",
     "text": [
      "{'loss': 3.1998, 'grad_norm': 0.46353334188461304, 'learning_rate': 0.0003148148148148148, 'epoch': 1.37}\n"
     ]
    },
    {
     "name": "stderr",
     "output_type": "stream",
     "text": [
      " 69%|██████▉   | 223/324 [16:39<06:56,  4.12s/it]"
     ]
    },
    {
     "name": "stdout",
     "output_type": "stream",
     "text": [
      "{'loss': 3.1716, 'grad_norm': 0.44657567143440247, 'learning_rate': 0.0003117283950617284, 'epoch': 1.38}\n"
     ]
    },
    {
     "name": "stderr",
     "output_type": "stream",
     "text": [
      " 69%|██████▉   | 224/324 [16:43<06:51,  4.12s/it]"
     ]
    },
    {
     "name": "stdout",
     "output_type": "stream",
     "text": [
      "{'loss': 3.1564, 'grad_norm': 0.4200560748577118, 'learning_rate': 0.00030864197530864197, 'epoch': 1.38}\n"
     ]
    },
    {
     "name": "stderr",
     "output_type": "stream",
     "text": [
      " 69%|██████▉   | 225/324 [16:47<06:50,  4.15s/it]"
     ]
    },
    {
     "name": "stdout",
     "output_type": "stream",
     "text": [
      "{'loss': 3.1711, 'grad_norm': 0.46737170219421387, 'learning_rate': 0.0003055555555555556, 'epoch': 1.39}\n"
     ]
    },
    {
     "name": "stderr",
     "output_type": "stream",
     "text": [
      " 70%|██████▉   | 226/324 [16:51<06:46,  4.15s/it]"
     ]
    },
    {
     "name": "stdout",
     "output_type": "stream",
     "text": [
      "{'loss': 3.3025, 'grad_norm': 0.3666197955608368, 'learning_rate': 0.00030246913580246913, 'epoch': 1.4}\n"
     ]
    },
    {
     "name": "stderr",
     "output_type": "stream",
     "text": [
      " 70%|███████   | 227/324 [16:56<06:42,  4.15s/it]"
     ]
    },
    {
     "name": "stdout",
     "output_type": "stream",
     "text": [
      "{'loss': 3.33, 'grad_norm': 0.338133841753006, 'learning_rate': 0.0002993827160493827, 'epoch': 1.4}\n"
     ]
    },
    {
     "name": "stderr",
     "output_type": "stream",
     "text": [
      " 70%|███████   | 228/324 [17:00<06:38,  4.15s/it]"
     ]
    },
    {
     "name": "stdout",
     "output_type": "stream",
     "text": [
      "{'loss': 3.2031, 'grad_norm': 0.40892714262008667, 'learning_rate': 0.0002962962962962963, 'epoch': 1.41}\n"
     ]
    },
    {
     "name": "stderr",
     "output_type": "stream",
     "text": [
      " 71%|███████   | 229/324 [17:04<06:34,  4.15s/it]"
     ]
    },
    {
     "name": "stdout",
     "output_type": "stream",
     "text": [
      "{'loss': 3.2435, 'grad_norm': 0.45360368490219116, 'learning_rate': 0.00029320987654320993, 'epoch': 1.41}\n"
     ]
    },
    {
     "name": "stderr",
     "output_type": "stream",
     "text": [
      " 71%|███████   | 230/324 [17:08<06:31,  4.17s/it]"
     ]
    },
    {
     "name": "stdout",
     "output_type": "stream",
     "text": [
      "{'loss': 3.1432, 'grad_norm': 0.3764391839504242, 'learning_rate': 0.00029012345679012345, 'epoch': 1.42}\n"
     ]
    },
    {
     "name": "stderr",
     "output_type": "stream",
     "text": [
      " 71%|███████▏  | 231/324 [17:12<06:27,  4.17s/it]"
     ]
    },
    {
     "name": "stdout",
     "output_type": "stream",
     "text": [
      "{'loss': 3.1297, 'grad_norm': 0.4531385898590088, 'learning_rate': 0.00028703703703703703, 'epoch': 1.43}\n"
     ]
    },
    {
     "name": "stderr",
     "output_type": "stream",
     "text": [
      " 72%|███████▏  | 232/324 [17:16<06:22,  4.16s/it]"
     ]
    },
    {
     "name": "stdout",
     "output_type": "stream",
     "text": [
      "{'loss': 3.236, 'grad_norm': 0.47049468755722046, 'learning_rate': 0.0002839506172839506, 'epoch': 1.43}\n"
     ]
    },
    {
     "name": "stderr",
     "output_type": "stream",
     "text": [
      " 72%|███████▏  | 233/324 [17:21<06:21,  4.19s/it]"
     ]
    },
    {
     "name": "stdout",
     "output_type": "stream",
     "text": [
      "{'loss': 3.138, 'grad_norm': 0.46671363711357117, 'learning_rate': 0.00028086419753086425, 'epoch': 1.44}\n"
     ]
    },
    {
     "name": "stderr",
     "output_type": "stream",
     "text": [
      " 72%|███████▏  | 234/324 [17:25<06:13,  4.15s/it]"
     ]
    },
    {
     "name": "stdout",
     "output_type": "stream",
     "text": [
      "{'loss': 3.1619, 'grad_norm': 0.40330949425697327, 'learning_rate': 0.0002777777777777778, 'epoch': 1.44}\n"
     ]
    },
    {
     "name": "stderr",
     "output_type": "stream",
     "text": [
      " 73%|███████▎  | 235/324 [17:29<06:08,  4.14s/it]"
     ]
    },
    {
     "name": "stdout",
     "output_type": "stream",
     "text": [
      "{'loss': 3.2878, 'grad_norm': 0.38738948106765747, 'learning_rate': 0.00027469135802469136, 'epoch': 1.45}\n"
     ]
    },
    {
     "name": "stderr",
     "output_type": "stream",
     "text": [
      " 73%|███████▎  | 236/324 [17:33<06:04,  4.14s/it]"
     ]
    },
    {
     "name": "stdout",
     "output_type": "stream",
     "text": [
      "{'loss': 3.3282, 'grad_norm': 0.41300129890441895, 'learning_rate': 0.00027160493827160494, 'epoch': 1.46}\n"
     ]
    },
    {
     "name": "stderr",
     "output_type": "stream",
     "text": [
      " 73%|███████▎  | 237/324 [17:37<06:01,  4.15s/it]"
     ]
    },
    {
     "name": "stdout",
     "output_type": "stream",
     "text": [
      "{'loss': 3.0065, 'grad_norm': 0.4954451024532318, 'learning_rate': 0.0002685185185185186, 'epoch': 1.46}\n"
     ]
    },
    {
     "name": "stderr",
     "output_type": "stream",
     "text": [
      " 73%|███████▎  | 238/324 [17:41<05:58,  4.17s/it]"
     ]
    },
    {
     "name": "stdout",
     "output_type": "stream",
     "text": [
      "{'loss': 3.0607, 'grad_norm': 0.44060689210891724, 'learning_rate': 0.0002654320987654321, 'epoch': 1.47}\n"
     ]
    },
    {
     "name": "stderr",
     "output_type": "stream",
     "text": [
      " 74%|███████▍  | 239/324 [17:45<05:53,  4.16s/it]"
     ]
    },
    {
     "name": "stdout",
     "output_type": "stream",
     "text": [
      "{'loss': 3.3132, 'grad_norm': 0.39648446440696716, 'learning_rate': 0.0002623456790123457, 'epoch': 1.48}\n"
     ]
    },
    {
     "name": "stderr",
     "output_type": "stream",
     "text": [
      " 74%|███████▍  | 240/324 [17:50<05:50,  4.18s/it]"
     ]
    },
    {
     "name": "stdout",
     "output_type": "stream",
     "text": [
      "{'loss': 3.249, 'grad_norm': 0.4586576521396637, 'learning_rate': 0.00025925925925925926, 'epoch': 1.48}\n"
     ]
    },
    {
     "name": "stderr",
     "output_type": "stream",
     "text": [
      " 74%|███████▍  | 241/324 [17:54<05:47,  4.18s/it]"
     ]
    },
    {
     "name": "stdout",
     "output_type": "stream",
     "text": [
      "{'loss': 3.1148, 'grad_norm': 0.4136187732219696, 'learning_rate': 0.0002561728395061729, 'epoch': 1.49}\n"
     ]
    },
    {
     "name": "stderr",
     "output_type": "stream",
     "text": [
      " 75%|███████▍  | 242/324 [17:58<05:43,  4.19s/it]"
     ]
    },
    {
     "name": "stdout",
     "output_type": "stream",
     "text": [
      "{'loss': 3.0887, 'grad_norm': 0.43646949529647827, 'learning_rate': 0.0002530864197530864, 'epoch': 1.49}\n"
     ]
    },
    {
     "name": "stderr",
     "output_type": "stream",
     "text": [
      " 75%|███████▌  | 243/324 [18:02<05:41,  4.22s/it]"
     ]
    },
    {
     "name": "stdout",
     "output_type": "stream",
     "text": [
      "{'loss': 3.2364, 'grad_norm': 0.37383565306663513, 'learning_rate': 0.00025, 'epoch': 1.5}\n"
     ]
    },
    {
     "name": "stderr",
     "output_type": "stream",
     "text": [
      " 75%|███████▌  | 244/324 [18:07<05:38,  4.23s/it]"
     ]
    },
    {
     "name": "stdout",
     "output_type": "stream",
     "text": [
      "{'loss': 3.2479, 'grad_norm': 0.42555680871009827, 'learning_rate': 0.0002469135802469136, 'epoch': 1.51}\n"
     ]
    },
    {
     "name": "stderr",
     "output_type": "stream",
     "text": [
      " 76%|███████▌  | 245/324 [18:11<05:31,  4.19s/it]"
     ]
    },
    {
     "name": "stdout",
     "output_type": "stream",
     "text": [
      "{'loss': 3.4045, 'grad_norm': 0.44413527846336365, 'learning_rate': 0.00024382716049382717, 'epoch': 1.51}\n"
     ]
    },
    {
     "name": "stderr",
     "output_type": "stream",
     "text": [
      " 76%|███████▌  | 246/324 [18:15<05:25,  4.18s/it]"
     ]
    },
    {
     "name": "stdout",
     "output_type": "stream",
     "text": [
      "{'loss': 3.2277, 'grad_norm': 0.4120495319366455, 'learning_rate': 0.00024074074074074072, 'epoch': 1.52}\n"
     ]
    },
    {
     "name": "stderr",
     "output_type": "stream",
     "text": [
      " 76%|███████▌  | 247/324 [18:19<05:23,  4.20s/it]"
     ]
    },
    {
     "name": "stdout",
     "output_type": "stream",
     "text": [
      "{'loss': 3.3507, 'grad_norm': 0.3330984115600586, 'learning_rate': 0.00023765432098765433, 'epoch': 1.52}\n"
     ]
    },
    {
     "name": "stderr",
     "output_type": "stream",
     "text": [
      " 77%|███████▋  | 248/324 [18:23<05:16,  4.16s/it]"
     ]
    },
    {
     "name": "stdout",
     "output_type": "stream",
     "text": [
      "{'loss': 3.0795, 'grad_norm': 0.4402976632118225, 'learning_rate': 0.00023456790123456788, 'epoch': 1.53}\n"
     ]
    },
    {
     "name": "stderr",
     "output_type": "stream",
     "text": [
      " 77%|███████▋  | 249/324 [18:27<05:11,  4.15s/it]"
     ]
    },
    {
     "name": "stdout",
     "output_type": "stream",
     "text": [
      "{'loss': 2.9818, 'grad_norm': 0.4598151445388794, 'learning_rate': 0.0002314814814814815, 'epoch': 1.54}\n"
     ]
    },
    {
     "name": "stderr",
     "output_type": "stream",
     "text": [
      " 77%|███████▋  | 250/324 [18:31<05:06,  4.15s/it]"
     ]
    },
    {
     "name": "stdout",
     "output_type": "stream",
     "text": [
      "{'loss': 3.3145, 'grad_norm': 0.48036128282546997, 'learning_rate': 0.00022839506172839504, 'epoch': 1.54}\n"
     ]
    },
    {
     "name": "stderr",
     "output_type": "stream",
     "text": [
      " 77%|███████▋  | 251/324 [18:36<05:05,  4.18s/it]"
     ]
    },
    {
     "name": "stdout",
     "output_type": "stream",
     "text": [
      "{'loss': 3.1372, 'grad_norm': 0.40770283341407776, 'learning_rate': 0.00022530864197530865, 'epoch': 1.55}\n"
     ]
    },
    {
     "name": "stderr",
     "output_type": "stream",
     "text": [
      " 78%|███████▊  | 252/324 [18:40<05:06,  4.26s/it]"
     ]
    },
    {
     "name": "stdout",
     "output_type": "stream",
     "text": [
      "{'loss': 3.1217, 'grad_norm': 0.46725600957870483, 'learning_rate': 0.0002222222222222222, 'epoch': 1.56}\n"
     ]
    },
    {
     "name": "stderr",
     "output_type": "stream",
     "text": [
      " 78%|███████▊  | 253/324 [18:44<05:04,  4.28s/it]"
     ]
    },
    {
     "name": "stdout",
     "output_type": "stream",
     "text": [
      "{'loss': 3.3444, 'grad_norm': 0.41593530774116516, 'learning_rate': 0.00021913580246913581, 'epoch': 1.56}\n"
     ]
    },
    {
     "name": "stderr",
     "output_type": "stream",
     "text": [
      " 78%|███████▊  | 254/324 [18:49<04:59,  4.28s/it]"
     ]
    },
    {
     "name": "stdout",
     "output_type": "stream",
     "text": [
      "{'loss': 3.2661, 'grad_norm': 0.4229304790496826, 'learning_rate': 0.00021604938271604937, 'epoch': 1.57}\n"
     ]
    },
    {
     "name": "stderr",
     "output_type": "stream",
     "text": [
      " 79%|███████▊  | 255/324 [18:53<04:53,  4.25s/it]"
     ]
    },
    {
     "name": "stdout",
     "output_type": "stream",
     "text": [
      "{'loss': 3.2507, 'grad_norm': 0.42799296975135803, 'learning_rate': 0.00021296296296296298, 'epoch': 1.57}\n"
     ]
    },
    {
     "name": "stderr",
     "output_type": "stream",
     "text": [
      " 79%|███████▉  | 256/324 [18:57<04:52,  4.30s/it]"
     ]
    },
    {
     "name": "stdout",
     "output_type": "stream",
     "text": [
      "{'loss': 3.1512, 'grad_norm': 0.4447210431098938, 'learning_rate': 0.00020987654320987653, 'epoch': 1.58}\n"
     ]
    },
    {
     "name": "stderr",
     "output_type": "stream",
     "text": [
      " 79%|███████▉  | 257/324 [19:02<04:48,  4.30s/it]"
     ]
    },
    {
     "name": "stdout",
     "output_type": "stream",
     "text": [
      "{'loss': 3.3642, 'grad_norm': 0.40134140849113464, 'learning_rate': 0.00020679012345679014, 'epoch': 1.59}\n"
     ]
    },
    {
     "name": "stderr",
     "output_type": "stream",
     "text": [
      " 80%|███████▉  | 258/324 [19:06<04:43,  4.30s/it]"
     ]
    },
    {
     "name": "stdout",
     "output_type": "stream",
     "text": [
      "{'loss': 3.2605, 'grad_norm': 0.40457776188850403, 'learning_rate': 0.0002037037037037037, 'epoch': 1.59}\n"
     ]
    },
    {
     "name": "stderr",
     "output_type": "stream",
     "text": [
      " 80%|███████▉  | 259/324 [19:10<04:39,  4.30s/it]"
     ]
    },
    {
     "name": "stdout",
     "output_type": "stream",
     "text": [
      "{'loss': 3.0552, 'grad_norm': 0.47302335500717163, 'learning_rate': 0.0002006172839506173, 'epoch': 1.6}\n"
     ]
    },
    {
     "name": "stderr",
     "output_type": "stream",
     "text": [
      " 80%|████████  | 260/324 [19:15<04:36,  4.32s/it]"
     ]
    },
    {
     "name": "stdout",
     "output_type": "stream",
     "text": [
      "{'loss': 3.265, 'grad_norm': 0.4839499294757843, 'learning_rate': 0.00019753086419753085, 'epoch': 1.6}\n"
     ]
    },
    {
     "name": "stderr",
     "output_type": "stream",
     "text": [
      " 81%|████████  | 261/324 [19:19<04:31,  4.31s/it]"
     ]
    },
    {
     "name": "stdout",
     "output_type": "stream",
     "text": [
      "{'loss': 3.1617, 'grad_norm': 0.38773125410079956, 'learning_rate': 0.00019444444444444446, 'epoch': 1.61}\n"
     ]
    },
    {
     "name": "stderr",
     "output_type": "stream",
     "text": [
      " 81%|████████  | 262/324 [19:23<04:25,  4.28s/it]"
     ]
    },
    {
     "name": "stdout",
     "output_type": "stream",
     "text": [
      "{'loss': 3.1899, 'grad_norm': 0.4353850483894348, 'learning_rate': 0.00019135802469135801, 'epoch': 1.62}\n"
     ]
    },
    {
     "name": "stderr",
     "output_type": "stream",
     "text": [
      " 81%|████████  | 263/324 [19:27<04:19,  4.26s/it]"
     ]
    },
    {
     "name": "stdout",
     "output_type": "stream",
     "text": [
      "{'loss': 3.2164, 'grad_norm': 0.44364482164382935, 'learning_rate': 0.00018827160493827162, 'epoch': 1.62}\n"
     ]
    },
    {
     "name": "stderr",
     "output_type": "stream",
     "text": [
      " 81%|████████▏ | 264/324 [19:32<04:17,  4.30s/it]"
     ]
    },
    {
     "name": "stdout",
     "output_type": "stream",
     "text": [
      "{'loss': 3.2638, 'grad_norm': 0.4249889850616455, 'learning_rate': 0.00018518518518518518, 'epoch': 1.63}\n"
     ]
    },
    {
     "name": "stderr",
     "output_type": "stream",
     "text": [
      " 82%|████████▏ | 265/324 [19:36<04:12,  4.29s/it]"
     ]
    },
    {
     "name": "stdout",
     "output_type": "stream",
     "text": [
      "{'loss': 3.099, 'grad_norm': 0.48867639899253845, 'learning_rate': 0.00018209876543209878, 'epoch': 1.64}\n"
     ]
    },
    {
     "name": "stderr",
     "output_type": "stream",
     "text": [
      " 82%|████████▏ | 266/324 [19:40<04:07,  4.26s/it]"
     ]
    },
    {
     "name": "stdout",
     "output_type": "stream",
     "text": [
      "{'loss': 3.2434, 'grad_norm': 0.4306628406047821, 'learning_rate': 0.00017901234567901234, 'epoch': 1.64}\n"
     ]
    },
    {
     "name": "stderr",
     "output_type": "stream",
     "text": [
      " 82%|████████▏ | 267/324 [19:45<04:05,  4.31s/it]"
     ]
    },
    {
     "name": "stdout",
     "output_type": "stream",
     "text": [
      "{'loss': 3.3414, 'grad_norm': 0.4584505259990692, 'learning_rate': 0.00017592592592592595, 'epoch': 1.65}\n"
     ]
    },
    {
     "name": "stderr",
     "output_type": "stream",
     "text": [
      " 83%|████████▎ | 268/324 [19:49<04:03,  4.34s/it]"
     ]
    },
    {
     "name": "stdout",
     "output_type": "stream",
     "text": [
      "{'loss': 3.3793, 'grad_norm': 0.38543710112571716, 'learning_rate': 0.0001728395061728395, 'epoch': 1.65}\n"
     ]
    },
    {
     "name": "stderr",
     "output_type": "stream",
     "text": [
      " 83%|████████▎ | 269/324 [19:53<03:55,  4.29s/it]"
     ]
    },
    {
     "name": "stdout",
     "output_type": "stream",
     "text": [
      "{'loss': 3.3033, 'grad_norm': 0.4121362864971161, 'learning_rate': 0.0001697530864197531, 'epoch': 1.66}\n"
     ]
    },
    {
     "name": "stderr",
     "output_type": "stream",
     "text": [
      " 83%|████████▎ | 270/324 [19:57<03:51,  4.29s/it]"
     ]
    },
    {
     "name": "stdout",
     "output_type": "stream",
     "text": [
      "{'loss': 3.294, 'grad_norm': 0.4227460026741028, 'learning_rate': 0.00016666666666666666, 'epoch': 1.67}\n"
     ]
    },
    {
     "name": "stderr",
     "output_type": "stream",
     "text": [
      " 84%|████████▎ | 271/324 [20:02<03:46,  4.27s/it]"
     ]
    },
    {
     "name": "stdout",
     "output_type": "stream",
     "text": [
      "{'loss': 3.1315, 'grad_norm': 0.4455510973930359, 'learning_rate': 0.00016358024691358024, 'epoch': 1.67}\n"
     ]
    },
    {
     "name": "stderr",
     "output_type": "stream",
     "text": [
      " 84%|████████▍ | 272/324 [20:06<03:43,  4.29s/it]"
     ]
    },
    {
     "name": "stdout",
     "output_type": "stream",
     "text": [
      "{'loss': 3.3069, 'grad_norm': 0.3858455419540405, 'learning_rate': 0.00016049382716049382, 'epoch': 1.68}\n"
     ]
    },
    {
     "name": "stderr",
     "output_type": "stream",
     "text": [
      " 84%|████████▍ | 273/324 [20:10<03:39,  4.31s/it]"
     ]
    },
    {
     "name": "stdout",
     "output_type": "stream",
     "text": [
      "{'loss': 3.2823, 'grad_norm': 0.4291251599788666, 'learning_rate': 0.0001574074074074074, 'epoch': 1.69}\n"
     ]
    },
    {
     "name": "stderr",
     "output_type": "stream",
     "text": [
      " 85%|████████▍ | 274/324 [20:15<03:37,  4.36s/it]"
     ]
    },
    {
     "name": "stdout",
     "output_type": "stream",
     "text": [
      "{'loss': 3.1778, 'grad_norm': 0.3840012550354004, 'learning_rate': 0.00015432098765432098, 'epoch': 1.69}\n"
     ]
    },
    {
     "name": "stderr",
     "output_type": "stream",
     "text": [
      " 85%|████████▍ | 275/324 [20:19<03:36,  4.42s/it]"
     ]
    },
    {
     "name": "stdout",
     "output_type": "stream",
     "text": [
      "{'loss': 3.0974, 'grad_norm': 0.46349623799324036, 'learning_rate': 0.00015123456790123457, 'epoch': 1.7}\n"
     ]
    },
    {
     "name": "stderr",
     "output_type": "stream",
     "text": [
      " 85%|████████▌ | 276/324 [20:24<03:36,  4.50s/it]"
     ]
    },
    {
     "name": "stdout",
     "output_type": "stream",
     "text": [
      "{'loss': 2.8497, 'grad_norm': 0.5362311601638794, 'learning_rate': 0.00014814814814814815, 'epoch': 1.7}\n"
     ]
    },
    {
     "name": "stderr",
     "output_type": "stream",
     "text": [
      " 85%|████████▌ | 277/324 [20:28<03:29,  4.46s/it]"
     ]
    },
    {
     "name": "stdout",
     "output_type": "stream",
     "text": [
      "{'loss': 3.3084, 'grad_norm': 0.4178427457809448, 'learning_rate': 0.00014506172839506173, 'epoch': 1.71}\n"
     ]
    },
    {
     "name": "stderr",
     "output_type": "stream",
     "text": [
      " 86%|████████▌ | 278/324 [20:33<03:22,  4.40s/it]"
     ]
    },
    {
     "name": "stdout",
     "output_type": "stream",
     "text": [
      "{'loss': 3.1881, 'grad_norm': 0.39082229137420654, 'learning_rate': 0.0001419753086419753, 'epoch': 1.72}\n"
     ]
    },
    {
     "name": "stderr",
     "output_type": "stream",
     "text": [
      " 86%|████████▌ | 279/324 [20:37<03:17,  4.39s/it]"
     ]
    },
    {
     "name": "stdout",
     "output_type": "stream",
     "text": [
      "{'loss': 3.3869, 'grad_norm': 0.3934910297393799, 'learning_rate': 0.0001388888888888889, 'epoch': 1.72}\n"
     ]
    },
    {
     "name": "stderr",
     "output_type": "stream",
     "text": [
      " 86%|████████▋ | 280/324 [20:41<03:11,  4.36s/it]"
     ]
    },
    {
     "name": "stdout",
     "output_type": "stream",
     "text": [
      "{'loss': 3.2042, 'grad_norm': 0.5090706944465637, 'learning_rate': 0.00013580246913580247, 'epoch': 1.73}\n"
     ]
    },
    {
     "name": "stderr",
     "output_type": "stream",
     "text": [
      " 87%|████████▋ | 281/324 [20:46<03:06,  4.34s/it]"
     ]
    },
    {
     "name": "stdout",
     "output_type": "stream",
     "text": [
      "{'loss': 3.14, 'grad_norm': 0.4601108729839325, 'learning_rate': 0.00013271604938271605, 'epoch': 1.73}\n"
     ]
    },
    {
     "name": "stderr",
     "output_type": "stream",
     "text": [
      " 87%|████████▋ | 282/324 [20:50<02:59,  4.28s/it]"
     ]
    },
    {
     "name": "stdout",
     "output_type": "stream",
     "text": [
      "{'loss': 3.0426, 'grad_norm': 0.43677279353141785, 'learning_rate': 0.00012962962962962963, 'epoch': 1.74}\n"
     ]
    },
    {
     "name": "stderr",
     "output_type": "stream",
     "text": [
      " 87%|████████▋ | 283/324 [20:54<02:54,  4.26s/it]"
     ]
    },
    {
     "name": "stdout",
     "output_type": "stream",
     "text": [
      "{'loss': 3.2367, 'grad_norm': 0.3812502324581146, 'learning_rate': 0.0001265432098765432, 'epoch': 1.75}\n"
     ]
    },
    {
     "name": "stderr",
     "output_type": "stream",
     "text": [
      " 88%|████████▊ | 284/324 [20:58<02:50,  4.27s/it]"
     ]
    },
    {
     "name": "stdout",
     "output_type": "stream",
     "text": [
      "{'loss': 3.3734, 'grad_norm': 0.41588014364242554, 'learning_rate': 0.0001234567901234568, 'epoch': 1.75}\n"
     ]
    },
    {
     "name": "stderr",
     "output_type": "stream",
     "text": [
      " 88%|████████▊ | 285/324 [21:03<02:46,  4.26s/it]"
     ]
    },
    {
     "name": "stdout",
     "output_type": "stream",
     "text": [
      "{'loss': 3.1167, 'grad_norm': 0.4182097315788269, 'learning_rate': 0.00012037037037037036, 'epoch': 1.76}\n"
     ]
    },
    {
     "name": "stderr",
     "output_type": "stream",
     "text": [
      " 88%|████████▊ | 286/324 [21:07<02:42,  4.27s/it]"
     ]
    },
    {
     "name": "stdout",
     "output_type": "stream",
     "text": [
      "{'loss': 3.0746, 'grad_norm': 0.45900627970695496, 'learning_rate': 0.00011728395061728394, 'epoch': 1.77}\n"
     ]
    },
    {
     "name": "stderr",
     "output_type": "stream",
     "text": [
      " 89%|████████▊ | 287/324 [21:11<02:40,  4.35s/it]"
     ]
    },
    {
     "name": "stdout",
     "output_type": "stream",
     "text": [
      "{'loss': 3.2518, 'grad_norm': 0.39748263359069824, 'learning_rate': 0.00011419753086419752, 'epoch': 1.77}\n"
     ]
    },
    {
     "name": "stderr",
     "output_type": "stream",
     "text": [
      " 89%|████████▉ | 288/324 [21:16<02:36,  4.34s/it]"
     ]
    },
    {
     "name": "stdout",
     "output_type": "stream",
     "text": [
      "{'loss': 3.3183, 'grad_norm': 0.4123506546020508, 'learning_rate': 0.0001111111111111111, 'epoch': 1.78}\n"
     ]
    },
    {
     "name": "stderr",
     "output_type": "stream",
     "text": [
      " 89%|████████▉ | 289/324 [21:20<02:30,  4.29s/it]"
     ]
    },
    {
     "name": "stdout",
     "output_type": "stream",
     "text": [
      "{'loss': 3.2076, 'grad_norm': 0.42554062604904175, 'learning_rate': 0.00010802469135802468, 'epoch': 1.78}\n"
     ]
    },
    {
     "name": "stderr",
     "output_type": "stream",
     "text": [
      " 90%|████████▉ | 290/324 [21:24<02:25,  4.28s/it]"
     ]
    },
    {
     "name": "stdout",
     "output_type": "stream",
     "text": [
      "{'loss': 3.2302, 'grad_norm': 0.45184433460235596, 'learning_rate': 0.00010493827160493826, 'epoch': 1.79}\n"
     ]
    },
    {
     "name": "stderr",
     "output_type": "stream",
     "text": [
      " 90%|████████▉ | 291/324 [21:28<02:20,  4.25s/it]"
     ]
    },
    {
     "name": "stdout",
     "output_type": "stream",
     "text": [
      "{'loss': 3.2205, 'grad_norm': 0.4615213871002197, 'learning_rate': 0.00010185185185185185, 'epoch': 1.8}\n"
     ]
    },
    {
     "name": "stderr",
     "output_type": "stream",
     "text": [
      " 90%|█████████ | 292/324 [21:33<02:15,  4.24s/it]"
     ]
    },
    {
     "name": "stdout",
     "output_type": "stream",
     "text": [
      "{'loss': 3.3296, 'grad_norm': 0.3780171573162079, 'learning_rate': 9.876543209876543e-05, 'epoch': 1.8}\n"
     ]
    },
    {
     "name": "stderr",
     "output_type": "stream",
     "text": [
      " 90%|█████████ | 293/324 [21:37<02:11,  4.23s/it]"
     ]
    },
    {
     "name": "stdout",
     "output_type": "stream",
     "text": [
      "{'loss': 3.2504, 'grad_norm': 0.42634740471839905, 'learning_rate': 9.567901234567901e-05, 'epoch': 1.81}\n"
     ]
    },
    {
     "name": "stderr",
     "output_type": "stream",
     "text": [
      " 91%|█████████ | 294/324 [21:41<02:08,  4.27s/it]"
     ]
    },
    {
     "name": "stdout",
     "output_type": "stream",
     "text": [
      "{'loss': 3.2976, 'grad_norm': 0.48533985018730164, 'learning_rate': 9.259259259259259e-05, 'epoch': 1.81}\n"
     ]
    },
    {
     "name": "stderr",
     "output_type": "stream",
     "text": [
      " 91%|█████████ | 295/324 [21:45<02:03,  4.27s/it]"
     ]
    },
    {
     "name": "stdout",
     "output_type": "stream",
     "text": [
      "{'loss': 3.029, 'grad_norm': 0.42813050746917725, 'learning_rate': 8.950617283950617e-05, 'epoch': 1.82}\n"
     ]
    },
    {
     "name": "stderr",
     "output_type": "stream",
     "text": [
      " 91%|█████████▏| 296/324 [21:50<01:58,  4.24s/it]"
     ]
    },
    {
     "name": "stdout",
     "output_type": "stream",
     "text": [
      "{'loss': 2.9514, 'grad_norm': 0.47097325325012207, 'learning_rate': 8.641975308641975e-05, 'epoch': 1.83}\n"
     ]
    },
    {
     "name": "stderr",
     "output_type": "stream",
     "text": [
      " 92%|█████████▏| 297/324 [21:54<01:53,  4.22s/it]"
     ]
    },
    {
     "name": "stdout",
     "output_type": "stream",
     "text": [
      "{'loss': 3.1741, 'grad_norm': 0.4215584993362427, 'learning_rate': 8.333333333333333e-05, 'epoch': 1.83}\n"
     ]
    },
    {
     "name": "stderr",
     "output_type": "stream",
     "text": [
      " 92%|█████████▏| 298/324 [21:58<01:50,  4.23s/it]"
     ]
    },
    {
     "name": "stdout",
     "output_type": "stream",
     "text": [
      "{'loss': 3.21, 'grad_norm': 0.39618363976478577, 'learning_rate': 8.024691358024691e-05, 'epoch': 1.84}\n"
     ]
    },
    {
     "name": "stderr",
     "output_type": "stream",
     "text": [
      " 92%|█████████▏| 299/324 [22:02<01:45,  4.22s/it]"
     ]
    },
    {
     "name": "stdout",
     "output_type": "stream",
     "text": [
      "{'loss': 3.4332, 'grad_norm': 0.39772212505340576, 'learning_rate': 7.716049382716049e-05, 'epoch': 1.85}\n"
     ]
    },
    {
     "name": "stderr",
     "output_type": "stream",
     "text": [
      " 93%|█████████▎| 300/324 [22:06<01:41,  4.24s/it]"
     ]
    },
    {
     "name": "stdout",
     "output_type": "stream",
     "text": [
      "{'loss': 3.2488, 'grad_norm': 0.3868201971054077, 'learning_rate': 7.407407407407407e-05, 'epoch': 1.85}\n"
     ]
    },
    {
     "name": "stderr",
     "output_type": "stream",
     "text": [
      "                                                 \n",
      " 93%|█████████▎| 300/324 [22:26<01:41,  4.24s/it]"
     ]
    },
    {
     "name": "stdout",
     "output_type": "stream",
     "text": [
      "{'eval_loss': 3.144888401031494, 'eval_runtime': 19.9933, 'eval_samples_per_second': 7.202, 'eval_steps_per_second': 0.9, 'epoch': 1.85}\n"
     ]
    },
    {
     "name": "stderr",
     "output_type": "stream",
     "text": [
      " 93%|█████████▎| 301/324 [22:31<03:55, 10.23s/it]"
     ]
    },
    {
     "name": "stdout",
     "output_type": "stream",
     "text": [
      "{'loss': 3.3476, 'grad_norm': 0.3398517668247223, 'learning_rate': 7.098765432098765e-05, 'epoch': 1.86}\n"
     ]
    },
    {
     "name": "stderr",
     "output_type": "stream",
     "text": [
      " 93%|█████████▎| 302/324 [22:35<03:06,  8.48s/it]"
     ]
    },
    {
     "name": "stdout",
     "output_type": "stream",
     "text": [
      "{'loss': 3.4662, 'grad_norm': 0.45518794655799866, 'learning_rate': 6.790123456790123e-05, 'epoch': 1.86}\n"
     ]
    },
    {
     "name": "stderr",
     "output_type": "stream",
     "text": [
      " 94%|█████████▎| 303/324 [22:39<02:32,  7.25s/it]"
     ]
    },
    {
     "name": "stdout",
     "output_type": "stream",
     "text": [
      "{'loss': 3.1389, 'grad_norm': 0.4134727418422699, 'learning_rate': 6.481481481481482e-05, 'epoch': 1.87}\n"
     ]
    },
    {
     "name": "stderr",
     "output_type": "stream",
     "text": [
      " 94%|█████████▍| 304/324 [22:44<02:07,  6.37s/it]"
     ]
    },
    {
     "name": "stdout",
     "output_type": "stream",
     "text": [
      "{'loss': 3.2105, 'grad_norm': 0.40905117988586426, 'learning_rate': 6.17283950617284e-05, 'epoch': 1.88}\n"
     ]
    },
    {
     "name": "stderr",
     "output_type": "stream",
     "text": [
      " 94%|█████████▍| 305/324 [22:48<01:50,  5.79s/it]"
     ]
    },
    {
     "name": "stdout",
     "output_type": "stream",
     "text": [
      "{'loss': 3.1988, 'grad_norm': 0.44982680678367615, 'learning_rate': 5.864197530864197e-05, 'epoch': 1.88}\n"
     ]
    },
    {
     "name": "stderr",
     "output_type": "stream",
     "text": [
      " 94%|█████████▍| 306/324 [22:53<01:36,  5.37s/it]"
     ]
    },
    {
     "name": "stdout",
     "output_type": "stream",
     "text": [
      "{'loss': 3.28, 'grad_norm': 0.4640218913555145, 'learning_rate': 5.555555555555555e-05, 'epoch': 1.89}\n"
     ]
    },
    {
     "name": "stderr",
     "output_type": "stream",
     "text": [
      " 95%|█████████▍| 307/324 [22:57<01:25,  5.03s/it]"
     ]
    },
    {
     "name": "stdout",
     "output_type": "stream",
     "text": [
      "{'loss': 3.2259, 'grad_norm': 0.4265443980693817, 'learning_rate': 5.246913580246913e-05, 'epoch': 1.9}\n"
     ]
    },
    {
     "name": "stderr",
     "output_type": "stream",
     "text": [
      " 95%|█████████▌| 308/324 [23:01<01:17,  4.85s/it]"
     ]
    },
    {
     "name": "stdout",
     "output_type": "stream",
     "text": [
      "{'loss': 3.1005, 'grad_norm': 0.4336751699447632, 'learning_rate': 4.938271604938271e-05, 'epoch': 1.9}\n"
     ]
    },
    {
     "name": "stderr",
     "output_type": "stream",
     "text": [
      " 95%|█████████▌| 309/324 [23:06<01:09,  4.66s/it]"
     ]
    },
    {
     "name": "stdout",
     "output_type": "stream",
     "text": [
      "{'loss': 3.1976, 'grad_norm': 0.375688761472702, 'learning_rate': 4.6296296296296294e-05, 'epoch': 1.91}\n"
     ]
    },
    {
     "name": "stderr",
     "output_type": "stream",
     "text": [
      " 96%|█████████▌| 310/324 [23:10<01:03,  4.56s/it]"
     ]
    },
    {
     "name": "stdout",
     "output_type": "stream",
     "text": [
      "{'loss': 3.2347, 'grad_norm': 0.45986101031303406, 'learning_rate': 4.3209876543209875e-05, 'epoch': 1.91}\n"
     ]
    },
    {
     "name": "stderr",
     "output_type": "stream",
     "text": [
      " 96%|█████████▌| 311/324 [23:14<00:58,  4.49s/it]"
     ]
    },
    {
     "name": "stdout",
     "output_type": "stream",
     "text": [
      "{'loss': 3.3432, 'grad_norm': 0.4227719008922577, 'learning_rate': 4.0123456790123456e-05, 'epoch': 1.92}\n"
     ]
    },
    {
     "name": "stderr",
     "output_type": "stream",
     "text": [
      " 96%|█████████▋| 312/324 [23:18<00:53,  4.43s/it]"
     ]
    },
    {
     "name": "stdout",
     "output_type": "stream",
     "text": [
      "{'loss': 3.0593, 'grad_norm': 0.41749998927116394, 'learning_rate': 3.7037037037037037e-05, 'epoch': 1.93}\n"
     ]
    },
    {
     "name": "stderr",
     "output_type": "stream",
     "text": [
      " 97%|█████████▋| 313/324 [23:23<00:48,  4.44s/it]"
     ]
    },
    {
     "name": "stdout",
     "output_type": "stream",
     "text": [
      "{'loss': 3.3677, 'grad_norm': 0.3061337172985077, 'learning_rate': 3.395061728395062e-05, 'epoch': 1.93}\n"
     ]
    },
    {
     "name": "stderr",
     "output_type": "stream",
     "text": [
      " 97%|█████████▋| 314/324 [23:27<00:43,  4.39s/it]"
     ]
    },
    {
     "name": "stdout",
     "output_type": "stream",
     "text": [
      "{'loss': 3.0302, 'grad_norm': 0.4175242483615875, 'learning_rate': 3.08641975308642e-05, 'epoch': 1.94}\n"
     ]
    },
    {
     "name": "stderr",
     "output_type": "stream",
     "text": [
      " 97%|█████████▋| 315/324 [23:31<00:39,  4.37s/it]"
     ]
    },
    {
     "name": "stdout",
     "output_type": "stream",
     "text": [
      "{'loss': 3.331, 'grad_norm': 0.4503936171531677, 'learning_rate': 2.7777777777777776e-05, 'epoch': 1.94}\n"
     ]
    },
    {
     "name": "stderr",
     "output_type": "stream",
     "text": [
      " 98%|█████████▊| 316/324 [23:36<00:34,  4.35s/it]"
     ]
    },
    {
     "name": "stdout",
     "output_type": "stream",
     "text": [
      "{'loss': 3.3267, 'grad_norm': 0.3912944197654724, 'learning_rate': 2.4691358024691357e-05, 'epoch': 1.95}\n"
     ]
    },
    {
     "name": "stderr",
     "output_type": "stream",
     "text": [
      " 98%|█████████▊| 317/324 [23:40<00:30,  4.35s/it]"
     ]
    },
    {
     "name": "stdout",
     "output_type": "stream",
     "text": [
      "{'loss': 3.224, 'grad_norm': 0.38885363936424255, 'learning_rate': 2.1604938271604937e-05, 'epoch': 1.96}\n"
     ]
    },
    {
     "name": "stderr",
     "output_type": "stream",
     "text": [
      " 98%|█████████▊| 318/324 [23:44<00:25,  4.31s/it]"
     ]
    },
    {
     "name": "stdout",
     "output_type": "stream",
     "text": [
      "{'loss': 3.3009, 'grad_norm': 0.3792310655117035, 'learning_rate': 1.8518518518518518e-05, 'epoch': 1.96}\n"
     ]
    },
    {
     "name": "stderr",
     "output_type": "stream",
     "text": [
      " 98%|█████████▊| 319/324 [23:49<00:21,  4.33s/it]"
     ]
    },
    {
     "name": "stdout",
     "output_type": "stream",
     "text": [
      "{'loss': 3.2332, 'grad_norm': 0.42466819286346436, 'learning_rate': 1.54320987654321e-05, 'epoch': 1.97}\n"
     ]
    },
    {
     "name": "stderr",
     "output_type": "stream",
     "text": [
      " 99%|█████████▉| 320/324 [23:53<00:17,  4.34s/it]"
     ]
    },
    {
     "name": "stdout",
     "output_type": "stream",
     "text": [
      "{'loss': 3.2347, 'grad_norm': 0.3982114791870117, 'learning_rate': 1.2345679012345678e-05, 'epoch': 1.98}\n"
     ]
    },
    {
     "name": "stderr",
     "output_type": "stream",
     "text": [
      " 99%|█████████▉| 321/324 [23:57<00:12,  4.31s/it]"
     ]
    },
    {
     "name": "stdout",
     "output_type": "stream",
     "text": [
      "{'loss': 3.1996, 'grad_norm': 0.49551624059677124, 'learning_rate': 9.259259259259259e-06, 'epoch': 1.98}\n"
     ]
    },
    {
     "name": "stderr",
     "output_type": "stream",
     "text": [
      " 99%|█████████▉| 322/324 [24:02<00:08,  4.30s/it]"
     ]
    },
    {
     "name": "stdout",
     "output_type": "stream",
     "text": [
      "{'loss': 3.2223, 'grad_norm': 0.42044392228126526, 'learning_rate': 6.172839506172839e-06, 'epoch': 1.99}\n"
     ]
    },
    {
     "name": "stderr",
     "output_type": "stream",
     "text": [
      "100%|█████████▉| 323/324 [24:06<00:04,  4.33s/it]"
     ]
    },
    {
     "name": "stdout",
     "output_type": "stream",
     "text": [
      "{'loss': 3.2383, 'grad_norm': 0.4624844491481781, 'learning_rate': 3.0864197530864196e-06, 'epoch': 1.99}\n"
     ]
    },
    {
     "name": "stderr",
     "output_type": "stream",
     "text": [
      "100%|██████████| 324/324 [24:10<00:00,  4.48s/it]"
     ]
    },
    {
     "name": "stdout",
     "output_type": "stream",
     "text": [
      "{'loss': 3.2056, 'grad_norm': 0.46716541051864624, 'learning_rate': 0.0, 'epoch': 2.0}\n",
      "{'train_runtime': 1463.4788, 'train_samples_per_second': 1.771, 'train_steps_per_second': 0.221, 'train_loss': 3.403447809778614, 'epoch': 2.0}\n"
     ]
    },
    {
     "name": "stderr",
     "output_type": "stream",
     "text": [
      "\n"
     ]
    },
    {
     "data": {
      "text/plain": [
       "TrainOutput(global_step=324, training_loss=3.403447809778614, metrics={'train_runtime': 1463.4788, 'train_samples_per_second': 1.771, 'train_steps_per_second': 0.221, 'total_flos': 679617220313088.0, 'train_loss': 3.403447809778614, 'epoch': 2.0})"
      ]
     },
     "execution_count": 8,
     "metadata": {},
     "output_type": "execute_result"
    },
    {
     "name": "stdout",
     "output_type": "stream",
     "text": [
      "Error in callback <bound method _WandbInit._pause_backend of <wandb.sdk.wandb_init._WandbInit object at 0x000001FFFBA033D0>> (for post_run_cell), with arguments args (<ExecutionResult object at 1fff9abdb50, execution_count=8 error_before_exec=None error_in_exec=None info=<ExecutionInfo object at 1fff9abdb90, raw_cell=\"trainer.train()\" store_history=True silent=False shell_futures=True cell_id=vscode-notebook-cell:/d%3A/Google%20Drive/Other%20computers/My%20laptop/Daten/Hobbys/Informatik/Mashine%20leaning/ThinkingLLMs/finetune_model.ipynb#X12sZmlsZQ%3D%3D> result=TrainOutput(global_step=324, training_loss=3.403447809778614, metrics={'train_runtime': 1463.4788, 'train_samples_per_second': 1.771, 'train_steps_per_second': 0.221, 'total_flos': 679617220313088.0, 'train_loss': 3.403447809778614, 'epoch': 2.0})>,),kwargs {}:\n"
     ]
    },
    {
     "ename": "TypeError",
     "evalue": "_WandbInit._pause_backend() takes 1 positional argument but 2 were given",
     "output_type": "error",
     "traceback": [
      "\u001b[1;31m---------------------------------------------------------------------------\u001b[0m",
      "\u001b[1;31mTypeError\u001b[0m                                 Traceback (most recent call last)",
      "\u001b[1;31mTypeError\u001b[0m: _WandbInit._pause_backend() takes 1 positional argument but 2 were given"
     ]
    }
   ],
   "source": [
    "trainer.train()"
   ]
  },
  {
   "cell_type": "code",
   "execution_count": 9,
   "metadata": {},
   "outputs": [
    {
     "name": "stdout",
     "output_type": "stream",
     "text": [
      "Error in callback <bound method _WandbInit._resume_backend of <wandb.sdk.wandb_init._WandbInit object at 0x000001FFFBA033D0>> (for pre_run_cell), with arguments args (<ExecutionInfo object at 1fffba6bb10, raw_cell=\"# merge adapter weights into model\n",
      "model = model.m..\" store_history=True silent=False shell_futures=True cell_id=vscode-notebook-cell:/d%3A/Google%20Drive/Other%20computers/My%20laptop/Daten/Hobbys/Informatik/Mashine%20leaning/ThinkingLLMs/finetune_model.ipynb#X14sZmlsZQ%3D%3D>,),kwargs {}:\n"
     ]
    },
    {
     "ename": "TypeError",
     "evalue": "_WandbInit._resume_backend() takes 1 positional argument but 2 were given",
     "output_type": "error",
     "traceback": [
      "\u001b[1;31m---------------------------------------------------------------------------\u001b[0m",
      "\u001b[1;31mTypeError\u001b[0m                                 Traceback (most recent call last)",
      "\u001b[1;31mTypeError\u001b[0m: _WandbInit._resume_backend() takes 1 positional argument but 2 were given"
     ]
    },
    {
     "name": "stdout",
     "output_type": "stream",
     "text": [
      "Error in callback <bound method _WandbInit._pause_backend of <wandb.sdk.wandb_init._WandbInit object at 0x000001FFFBA033D0>> (for post_run_cell), with arguments args (<ExecutionResult object at 1fff9a609d0, execution_count=9 error_before_exec=None error_in_exec=None info=<ExecutionInfo object at 1fffba6bb10, raw_cell=\"# merge adapter weights into model\n",
      "model = model.m..\" store_history=True silent=False shell_futures=True cell_id=vscode-notebook-cell:/d%3A/Google%20Drive/Other%20computers/My%20laptop/Daten/Hobbys/Informatik/Mashine%20leaning/ThinkingLLMs/finetune_model.ipynb#X14sZmlsZQ%3D%3D> result=None>,),kwargs {}:\n"
     ]
    },
    {
     "ename": "TypeError",
     "evalue": "_WandbInit._pause_backend() takes 1 positional argument but 2 were given",
     "output_type": "error",
     "traceback": [
      "\u001b[1;31m---------------------------------------------------------------------------\u001b[0m",
      "\u001b[1;31mTypeError\u001b[0m                                 Traceback (most recent call last)",
      "\u001b[1;31mTypeError\u001b[0m: _WandbInit._pause_backend() takes 1 positional argument but 2 were given"
     ]
    }
   ],
   "source": [
    "# merge adapter weights into model\n",
    "model = model.merge_and_unload()"
   ]
  },
  {
   "cell_type": "code",
   "execution_count": 10,
   "metadata": {},
   "outputs": [
    {
     "name": "stdout",
     "output_type": "stream",
     "text": [
      "Error in callback <bound method _WandbInit._resume_backend of <wandb.sdk.wandb_init._WandbInit object at 0x000001FFFBA033D0>> (for pre_run_cell), with arguments args (<ExecutionInfo object at 1fffba03210, raw_cell=\"model.push_to_hub(\"jeggers/galactica-125m-cot\")\" store_history=True silent=False shell_futures=True cell_id=vscode-notebook-cell:/d%3A/Google%20Drive/Other%20computers/My%20laptop/Daten/Hobbys/Informatik/Mashine%20leaning/ThinkingLLMs/finetune_model.ipynb#X15sZmlsZQ%3D%3D>,),kwargs {}:\n"
     ]
    },
    {
     "ename": "TypeError",
     "evalue": "_WandbInit._resume_backend() takes 1 positional argument but 2 were given",
     "output_type": "error",
     "traceback": [
      "\u001b[1;31m---------------------------------------------------------------------------\u001b[0m",
      "\u001b[1;31mTypeError\u001b[0m                                 Traceback (most recent call last)",
      "\u001b[1;31mTypeError\u001b[0m: _WandbInit._resume_backend() takes 1 positional argument but 2 were given"
     ]
    },
    {
     "name": "stderr",
     "output_type": "stream",
     "text": [
      "model.safetensors: 100%|██████████| 500M/500M [01:50<00:00, 4.54MB/s]   \n"
     ]
    },
    {
     "data": {
      "text/plain": [
       "CommitInfo(commit_url='https://huggingface.co/jeggers/galactica-125m-cot/commit/0389aaf062cb8360ebb19f26bf52b16cabaeefff', commit_message='Upload OPTForCausalLM', commit_description='', oid='0389aaf062cb8360ebb19f26bf52b16cabaeefff', pr_url=None, pr_revision=None, pr_num=None)"
      ]
     },
     "execution_count": 10,
     "metadata": {},
     "output_type": "execute_result"
    },
    {
     "name": "stdout",
     "output_type": "stream",
     "text": [
      "Error in callback <bound method _WandbInit._pause_backend of <wandb.sdk.wandb_init._WandbInit object at 0x000001FFFBA033D0>> (for post_run_cell), with arguments args (<ExecutionResult object at 1fff9b03950, execution_count=10 error_before_exec=None error_in_exec=None info=<ExecutionInfo object at 1fffba03210, raw_cell=\"model.push_to_hub(\"jeggers/galactica-125m-cot\")\" store_history=True silent=False shell_futures=True cell_id=vscode-notebook-cell:/d%3A/Google%20Drive/Other%20computers/My%20laptop/Daten/Hobbys/Informatik/Mashine%20leaning/ThinkingLLMs/finetune_model.ipynb#X15sZmlsZQ%3D%3D> result=CommitInfo(commit_url='https://huggingface.co/jeggers/galactica-125m-cot/commit/0389aaf062cb8360ebb19f26bf52b16cabaeefff', commit_message='Upload OPTForCausalLM', commit_description='', oid='0389aaf062cb8360ebb19f26bf52b16cabaeefff', pr_url=None, pr_revision=None, pr_num=None)>,),kwargs {}:\n"
     ]
    },
    {
     "ename": "TypeError",
     "evalue": "_WandbInit._pause_backend() takes 1 positional argument but 2 were given",
     "output_type": "error",
     "traceback": [
      "\u001b[1;31m---------------------------------------------------------------------------\u001b[0m",
      "\u001b[1;31mTypeError\u001b[0m                                 Traceback (most recent call last)",
      "\u001b[1;31mTypeError\u001b[0m: _WandbInit._pause_backend() takes 1 positional argument but 2 were given"
     ]
    }
   ],
   "source": [
    "model.push_to_hub(\"jeggers/galactica-125m-cot\")"
   ]
  },
  {
   "cell_type": "code",
   "execution_count": 17,
   "metadata": {},
   "outputs": [
    {
     "name": "stdout",
     "output_type": "stream",
     "text": [
      "Error in callback <bound method _WandbInit._resume_backend of <wandb.sdk.wandb_init._WandbInit object at 0x000001FFFBA033D0>> (for pre_run_cell), with arguments args (<ExecutionInfo object at 202387f65d0, raw_cell=\"tokenizer.push_to_hub(\"jeggers/galactica-125m-cot\"..\" store_history=True silent=False shell_futures=True cell_id=vscode-notebook-cell:/d%3A/Google%20Drive/Other%20computers/My%20laptop/Daten/Hobbys/Informatik/Mashine%20leaning/ThinkingLLMs/finetune_model.ipynb#X20sZmlsZQ%3D%3D>,),kwargs {}:\n"
     ]
    },
    {
     "ename": "TypeError",
     "evalue": "_WandbInit._resume_backend() takes 1 positional argument but 2 were given",
     "output_type": "error",
     "traceback": [
      "\u001b[1;31m---------------------------------------------------------------------------\u001b[0m",
      "\u001b[1;31mTypeError\u001b[0m                                 Traceback (most recent call last)",
      "\u001b[1;31mTypeError\u001b[0m: _WandbInit._resume_backend() takes 1 positional argument but 2 were given"
     ]
    },
    {
     "name": "stderr",
     "output_type": "stream",
     "text": [
      "c:\\Users\\jorin\\.conda\\envs\\AGI\\Lib\\site-packages\\huggingface_hub\\file_download.py:157: UserWarning: `huggingface_hub` cache-system uses symlinks by default to efficiently store duplicated files but your machine does not support them in C:\\Users\\jorin\\.cache\\huggingface\\hub\\models--jeggers--galactica-125m-cot. Caching files will still work but in a degraded version that might require more space on your disk. This warning can be disabled by setting the `HF_HUB_DISABLE_SYMLINKS_WARNING` environment variable. For more details, see https://huggingface.co/docs/huggingface_hub/how-to-cache#limitations.\n",
      "To support symlinks on Windows, you either need to activate Developer Mode or to run Python as an administrator. In order to see activate developer mode, see this article: https://docs.microsoft.com/en-us/windows/apps/get-started/enable-your-device-for-development\n",
      "  warnings.warn(message)\n"
     ]
    },
    {
     "data": {
      "text/plain": [
       "CommitInfo(commit_url='https://huggingface.co/jeggers/galactica-125m-cot/commit/19b2769c56fc4eef8d1aab2dfaf2a7cf74bb6b3c', commit_message='Upload tokenizer', commit_description='', oid='19b2769c56fc4eef8d1aab2dfaf2a7cf74bb6b3c', pr_url=None, pr_revision=None, pr_num=None)"
      ]
     },
     "execution_count": 17,
     "metadata": {},
     "output_type": "execute_result"
    },
    {
     "name": "stdout",
     "output_type": "stream",
     "text": [
      "Error in callback <bound method _WandbInit._pause_backend of <wandb.sdk.wandb_init._WandbInit object at 0x000001FFFBA033D0>> (for post_run_cell), with arguments args (<ExecutionResult object at 20169d3af90, execution_count=17 error_before_exec=None error_in_exec=None info=<ExecutionInfo object at 202387f65d0, raw_cell=\"tokenizer.push_to_hub(\"jeggers/galactica-125m-cot\"..\" store_history=True silent=False shell_futures=True cell_id=vscode-notebook-cell:/d%3A/Google%20Drive/Other%20computers/My%20laptop/Daten/Hobbys/Informatik/Mashine%20leaning/ThinkingLLMs/finetune_model.ipynb#X20sZmlsZQ%3D%3D> result=CommitInfo(commit_url='https://huggingface.co/jeggers/galactica-125m-cot/commit/19b2769c56fc4eef8d1aab2dfaf2a7cf74bb6b3c', commit_message='Upload tokenizer', commit_description='', oid='19b2769c56fc4eef8d1aab2dfaf2a7cf74bb6b3c', pr_url=None, pr_revision=None, pr_num=None)>,),kwargs {}:\n"
     ]
    },
    {
     "ename": "TypeError",
     "evalue": "_WandbInit._pause_backend() takes 1 positional argument but 2 were given",
     "output_type": "error",
     "traceback": [
      "\u001b[1;31m---------------------------------------------------------------------------\u001b[0m",
      "\u001b[1;31mTypeError\u001b[0m                                 Traceback (most recent call last)",
      "\u001b[1;31mTypeError\u001b[0m: _WandbInit._pause_backend() takes 1 positional argument but 2 were given"
     ]
    }
   ],
   "source": [
    "tokenizer.push_to_hub(\"jeggers/galactica-125m-cot\")"
   ]
  },
  {
   "cell_type": "code",
   "execution_count": 28,
   "metadata": {},
   "outputs": [
    {
     "name": "stdout",
     "output_type": "stream",
     "text": [
      "Error in callback <bound method _WandbInit._resume_backend of <wandb.sdk.wandb_init._WandbInit object at 0x000001FFFBA033D0>> (for pre_run_cell), with arguments args (<ExecutionInfo object at 20238e9c250, raw_cell=\"question = \"Pick the optimal word to complete the ..\" store_history=True silent=False shell_futures=True cell_id=vscode-notebook-cell:/d%3A/Google%20Drive/Other%20computers/My%20laptop/Daten/Hobbys/Informatik/Mashine%20leaning/ThinkingLLMs/finetune_model.ipynb#X16sZmlsZQ%3D%3D>,),kwargs {}:\n"
     ]
    },
    {
     "ename": "TypeError",
     "evalue": "_WandbInit._resume_backend() takes 1 positional argument but 2 were given",
     "output_type": "error",
     "traceback": [
      "\u001b[1;31m---------------------------------------------------------------------------\u001b[0m",
      "\u001b[1;31mTypeError\u001b[0m                                 Traceback (most recent call last)",
      "\u001b[1;31mTypeError\u001b[0m: _WandbInit._resume_backend() takes 1 positional argument but 2 were given"
     ]
    },
    {
     "name": "stdout",
     "output_type": "stream",
     "text": [
      "['Pick the optimal word to complete the phrase: Natalie was trying to fit a prom dress over their client\\'s bust, but struggled to do so because the _ was too big. A: dress B: bust Provide your answer using the letter only. BOT: 1. Attend to the phrase: Natalie was trying to fit a prom dress over her client\\'s bust.\\n2. As the question shows, the word and sentence are separated, the first sentence is a word of length 2.\\n3. The sentence is meant to complete the phrase: \"Try to work out a prom dress on the client\\'s bust.\"\\n4. The word \"B\" must refer to the large bust.\\n5. The sentence points to a large bust.\\n\\nANSWER: B� expendit']\n",
      "tensor([[32893,   286,  2936,  5104,   321,  2856,   286, 20459,    48, 38703,\n",
      "          1069,   435, 13571,   321,  2422,   281,  1928, 35998,   797,   817,\n",
      "         10753,    29,   105,   311,   690,    34,   835, 20633,  1663,   321,\n",
      "           917,   891,  1543,   286,   243,    85,   435,  4606,  6499,    36,\n",
      "           351,    48, 35998,   410,    48,   311,   690, 10564,   573,  5005,\n",
      "          6692,   672,   286, 11905,   869,    36,   410,  4675,    48,   243,\n",
      "            39,    36,  9162,   493,   321,   286, 20459,    48, 38703,  1069,\n",
      "           435, 13571,   321,  2422,   281,  1928, 35998,   797,  2486, 10753,\n",
      "            29,   105,   311,   690,    36,   221,    40,    36,   995,   286,\n",
      "          2882,  1586,    34,   286,  5104,   312,  9553,   417,  6076,    34,\n",
      "           286,   935,  9553,   343,   281,  5104,   299,  1829,   243,    40,\n",
      "            36,   221,    41,    36,   381,  9553,   343, 17107,   321,  2856,\n",
      "           286, 20459,    48,   243,    24,    74,   701,   321,  1032,   758,\n",
      "           281,  1928, 35998,   377,   286, 10753,    29,   105,   311,   690,\n",
      "            36,    24,   221,    42,    36,   381,  5104,   243,    24,    56,\n",
      "            24,  2216,  3553,   321,   286,  1263,   311,   690,    36,   221,\n",
      "            43,    36,   381,  9553,  1939,   321,   281,  1263,   311,   690,\n",
      "            36,   221,   221,  2034, 11677,  1409,    48,   410,   200, 18218]],\n",
      "       device='cuda:0')\n",
      "Error in callback <bound method _WandbInit._pause_backend of <wandb.sdk.wandb_init._WandbInit object at 0x000001FFFBA033D0>> (for post_run_cell), with arguments args (<ExecutionResult object at 20238e9cb90, execution_count=28 error_before_exec=None error_in_exec=None info=<ExecutionInfo object at 20238e9c250, raw_cell=\"question = \"Pick the optimal word to complete the ..\" store_history=True silent=False shell_futures=True cell_id=vscode-notebook-cell:/d%3A/Google%20Drive/Other%20computers/My%20laptop/Daten/Hobbys/Informatik/Mashine%20leaning/ThinkingLLMs/finetune_model.ipynb#X16sZmlsZQ%3D%3D> result=None>,),kwargs {}:\n"
     ]
    },
    {
     "ename": "TypeError",
     "evalue": "_WandbInit._pause_backend() takes 1 positional argument but 2 were given",
     "output_type": "error",
     "traceback": [
      "\u001b[1;31m---------------------------------------------------------------------------\u001b[0m",
      "\u001b[1;31mTypeError\u001b[0m                                 Traceback (most recent call last)",
      "\u001b[1;31mTypeError\u001b[0m: _WandbInit._pause_backend() takes 1 positional argument but 2 were given"
     ]
    }
   ],
   "source": [
    "question = \"Pick the optimal word to complete the phrase: Natalie was trying to fit a prom dress over their client's bust, but struggled to do so because the _ was too big. A: dress B: bust Provide your answer using the letter only.\"\n",
    "inputs = tokenizer(question + \" BOT: \", return_tensors=\"pt\").to(\"cuda\")\n",
    "del inputs[\"token_type_ids\"]\n",
    "out = model.generate(**inputs, max_new_tokens=120, num_return_sequences=1, do_sample=True, temperature=0.8)\n",
    "text = tokenizer.batch_decode(out, skip_special_tokens=True)\n",
    "print(text)\n",
    "print(out)"
   ]
  }
 ],
 "metadata": {
  "kernelspec": {
   "display_name": "AGI",
   "language": "python",
   "name": "python3"
  },
  "language_info": {
   "codemirror_mode": {
    "name": "ipython",
    "version": 3
   },
   "file_extension": ".py",
   "mimetype": "text/x-python",
   "name": "python",
   "nbconvert_exporter": "python",
   "pygments_lexer": "ipython3",
   "version": "3.11.6"
  }
 },
 "nbformat": 4,
 "nbformat_minor": 2
}
