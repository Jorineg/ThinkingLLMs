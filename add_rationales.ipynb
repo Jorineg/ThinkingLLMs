{
 "cells": [
  {
   "cell_type": "code",
   "execution_count": 4,
   "metadata": {},
   "outputs": [
    {
     "name": "stderr",
     "output_type": "stream",
     "text": [
      "c:\\Users\\jorin\\.conda\\envs\\AGI\\Lib\\site-packages\\tqdm\\auto.py:21: TqdmWarning: IProgress not found. Please update jupyter and ipywidgets. See https://ipywidgets.readthedocs.io/en/stable/user_install.html\n",
      "  from .autonotebook import tqdm as notebook_tqdm\n"
     ]
    },
    {
     "data": {
      "text/plain": [
       "True"
      ]
     },
     "execution_count": 4,
     "metadata": {},
     "output_type": "execute_result"
    }
   ],
   "source": [
    "# use anthropic api to generate rationales for dataset\n",
    "from datasets import load_dataset, Dataset\n",
    "from anthropic import Anthropic as Anthropic\n",
    "from dotenv import load_dotenv\n",
    "from tqdm import tqdm\n",
    "import pandas as pd\n",
    "from transformers import AutoTokenizer\n",
    "from openai import OpenAI\n",
    "from os import getenv\n",
    "import json\n",
    "import matplotlib.pyplot as plt\n",
    "\n",
    "# Set the maximum column width to display the full content\n",
    "pd.set_option('display.max_colwidth', None)\n",
    "tqdm.pandas()\n",
    "load_dotenv()"
   ]
  },
  {
   "cell_type": "code",
   "execution_count": 5,
   "metadata": {},
   "outputs": [
    {
     "name": "stderr",
     "output_type": "stream",
     "text": [
      "Downloading readme: 100%|██████████| 6.50k/6.50k [00:00<?, ?B/s]\n",
      "Downloading data: 100%|██████████| 12.8M/12.8M [00:01<00:00, 10.9MB/s]\n",
      "Downloading data: 100%|██████████| 3.33M/3.33M [00:00<00:00, 5.63MB/s]\n",
      "Downloading data: 100%|██████████| 423k/423k [00:00<00:00, 634kB/s]\n",
      "Downloading data: 100%|██████████| 351k/351k [00:00<00:00, 741kB/s]\n",
      "Generating train split: 100%|██████████| 62000/62000 [00:00<00:00, 362054.66 examples/s]\n",
      "Generating finetune split: 100%|██████████| 16000/16000 [00:00<00:00, 410032.96 examples/s]\n",
      "Generating test_in_dist split: 100%|██████████| 2000/2000 [00:00<00:00, 9653173.76 examples/s]\n",
      "Generating test_out_dist split: 100%|██████████| 2731/2731 [00:00<00:00, 392376.40 examples/s]"
     ]
    },
    {
     "name": "stdout",
     "output_type": "stream",
     "text": [
      "Dataset({\n",
      "    features: ['final_input', 'final_target', 'question_id', 'Canary String', 'dataset'],\n",
      "    num_rows: 16000\n",
      "})\n"
     ]
    },
    {
     "name": "stderr",
     "output_type": "stream",
     "text": [
      "\n"
     ]
    }
   ],
   "source": [
    "# client = Anthropic()\n",
    "\n",
    "client = OpenAI(\n",
    "  base_url=\"https://openrouter.ai/api/v1\",\n",
    "  api_key=getenv(\"OPENROUTER_API_KEY\"),\n",
    ")\n",
    "\n",
    "dataset = load_dataset(\"jeggers/CoT-Collection\", split=\"finetune\")\n",
    "print(dataset)\n"
   ]
  },
  {
   "cell_type": "code",
   "execution_count": 6,
   "metadata": {},
   "outputs": [],
   "source": [
    "# keep results in a list in case of interruption or failure\n",
    "results_cache = \"rationales.json\"\n",
    "\n",
    "# read cache if exists\n",
    "try:\n",
    "    with open(results_cache, \"r\") as f:\n",
    "        rationales = json.load(f)\n",
    "except FileNotFoundError:\n",
    "    rationales = {}\n"
   ]
  },
  {
   "cell_type": "code",
   "execution_count": 24,
   "metadata": {},
   "outputs": [],
   "source": [
    "# generation settings\n",
    "max_tokens = 250\n",
    "temperature = 0.0"
   ]
  },
  {
   "cell_type": "code",
   "execution_count": 25,
   "metadata": {},
   "outputs": [],
   "source": [
    "# anthropic api\n",
    "def antropic_api_call(prompt, task):\n",
    "    message = client.messages.create(\n",
    "        model=\"claude-3-5-sonnet-20240620\",\n",
    "        max_tokens=max_tokens,\n",
    "        temperature=temperature,\n",
    "        system=prompt,\n",
    "        messages=[\n",
    "            {\n",
    "                \"role\": \"user\",\n",
    "                \"content\": [\n",
    "                    {\n",
    "                        \"type\": \"text\",\n",
    "                        \"text\": task\n",
    "                    }\n",
    "                ]\n",
    "            }\n",
    "        ]\n",
    "    )\n",
    "    return message.content[0].text"
   ]
  },
  {
   "cell_type": "code",
   "execution_count": 26,
   "metadata": {},
   "outputs": [],
   "source": [
    "# openai api\n",
    "def openai_api_call(prompt, task):\n",
    "    completion = client.chat.completions.create(\n",
    "        model=\"openai/gpt-4o-mini\",\n",
    "        max_tokens=max_tokens,\n",
    "        temperature=temperature,\n",
    "        messages=[\n",
    "            {\n",
    "                \"role\": \"system\",\n",
    "                \"content\": prompt,\n",
    "            },\n",
    "            {\n",
    "                \"role\": \"user\",\n",
    "                \"content\": task,\n",
    "            },\n",
    "        ],\n",
    "    )\n",
    "    return completion.choices[0].message.content"
   ]
  },
  {
   "cell_type": "code",
   "execution_count": 27,
   "metadata": {},
   "outputs": [],
   "source": [
    "anwser_trigger = \"ANSWER: \"\n",
    "prompt = f\"\"\"Think step-by-step to solve the given task.\n",
    "Make your rationale as short and concise as possible.\n",
    "Do not summarize or repeat the task, part of it or your own solution.\n",
    "Don't use 'Let's approach this problem step by step.' or similar phrases.\n",
    "At the end, put '{anwser_trigger}' followed by the answer to the task.\n",
    "Follow the specified format in the task description.\"\"\"\n",
    "\n",
    "\n",
    "def generate_rationale(row):\n",
    "    task, id = row[\"final_input\"], row[\"question_id\"]\n",
    "\n",
    "    # check if rationale already exists\n",
    "    if id in rationales:\n",
    "        return rationales[id]\n",
    "\n",
    "    res = openai_api_call(prompt, task)\n",
    "    rationales[id] = res\n",
    "\n",
    "    # save results to file\n",
    "    with open(results_cache, \"w\") as f:\n",
    "        json.dump(rationales, f)\n",
    "\n",
    "    return res"
   ]
  },
  {
   "cell_type": "code",
   "execution_count": 37,
   "metadata": {},
   "outputs": [
    {
     "name": "stderr",
     "output_type": "stream",
     "text": [
      " 24%|██▍       | 1206/5000 [07:52<4:38:15,  4.40s/it]"
     ]
    }
   ],
   "source": [
    "\n",
    "# test for 10 samples in the dataset\n",
    "df = dataset.select(range(0, 5000)).to_pandas()\n",
    "df['rationale'] = df.progress_apply(generate_rationale, axis=1)"
   ]
  },
  {
   "cell_type": "code",
   "execution_count": 29,
   "metadata": {},
   "outputs": [],
   "source": [
    "# split generation into rationales and answers\n",
    "def split_rationale_answer(x):\n",
    "    if anwser_trigger in x:\n",
    "        return x.split(anwser_trigger)[0], x.split(anwser_trigger)[1]\n",
    "    else:\n",
    "        return x, None\n",
    "    \n",
    "df['rationale'], df['answer'] = zip(*df['rationale'].apply(split_rationale_answer))"
   ]
  },
  {
   "cell_type": "code",
   "execution_count": 34,
   "metadata": {},
   "outputs": [
    {
     "name": "stderr",
     "output_type": "stream",
     "text": [
      "c:\\Users\\jorin\\.conda\\envs\\AGI\\Lib\\site-packages\\huggingface_hub\\file_download.py:1132: FutureWarning: `resume_download` is deprecated and will be removed in version 1.0.0. Downloads always resume when possible. If you want to force a new download, use `force_download=True`.\n",
      "  warnings.warn(\n"
     ]
    },
    {
     "name": "stdout",
     "output_type": "stream",
     "text": [
      "Total samples: 1000\n",
      "Accuracy: 0.482\n",
      "Average rationale length: 97.008\n"
     ]
    },
    {
     "data": {
      "text/plain": [
       "<Axes: ylabel='Frequency'>"
      ]
     },
     "execution_count": 34,
     "metadata": {},
     "output_type": "execute_result"
    },
    {
     "data": {
      "image/png": "[encoded data removed]",
      "text/plain": [
       "<Figure size 2000x1200 with 1 Axes>"
      ]
     },
     "metadata": {},
     "output_type": "display_data"
    }
   ],
   "source": [
    "# add rationale length to the dataframe\n",
    "tokenizer = AutoTokenizer.from_pretrained(\"facebook/galactica-125M\")\n",
    "df['rationale_length'] = df['rationale'].apply(lambda x: len(tokenizer(x)['input_ids']))\n",
    "\n",
    "# add column to check if correct\n",
    "df['correct'] = df['answer'] == df['final_target']\n",
    "\n",
    "# print accuracy\n",
    "print(f\"Total samples: {len(df)}\")\n",
    "print(f\"Accuracy: {df['correct'].mean()}\")\n",
    "print(f\"Average rationale length: {df['rationale_length'].mean()}\")\n",
    "\n",
    "# create histogram of rationale lengths\n",
    "df['rationale_length'][df[\"rationale_length\"]<=max_tokens].plot.hist(bins=60)"
   ]
  },
  {
   "cell_type": "code",
   "execution_count": 35,
   "metadata": {},
   "outputs": [
    {
     "data": {
      "text/html": [
       "<div>\n",
       "<style scoped>\n",
       "    .dataframe tbody tr th:only-of-type {\n",
       "        vertical-align: middle;\n",
       "    }\n",
       "\n",
       "    .dataframe tbody tr th {\n",
       "        vertical-align: top;\n",
       "    }\n",
       "\n",
       "    .dataframe thead th {\n",
       "        text-align: right;\n",
       "    }\n",
       "</style>\n",
       "<table border=\"1\" class=\"dataframe\">\n",
       "  <thead>\n",
       "    <tr style=\"text-align: right;\">\n",
       "      <th></th>\n",
       "      <th>question_id</th>\n",
       "      <th>final_input</th>\n",
       "      <th>rationale</th>\n",
       "      <th>answer</th>\n",
       "      <th>final_target</th>\n",
       "      <th>correct</th>\n",
       "    </tr>\n",
       "  </thead>\n",
       "  <tbody>\n",
       "    <tr>\n",
       "      <th>0</th>\n",
       "      <td>SuperGLUE rte: train#2067</td>\n",
       "      <td>Judge whether the hypothesis is a consequence of the premise. Respond 'entailment' or 'not_entailment'.\\n\\nPremise:\\nThe poll also showed that a higher percentage of Americans (65%) believe that even if the investigation proceedings actually began, Clinton ought not to be removed.\\n\\nHypothesis:\\nAccording to the poll, 65% of Americans believe that Clinton should be removed from office.</td>\n",
       "      <td>The premise states that 65% of Americans believe Clinton ought not to be removed, which directly contradicts the hypothesis that 65% believe he should be removed. \\n\\n</td>\n",
       "      <td>not_entailment</td>\n",
       "      <td>not_entailment</td>\n",
       "      <td>True</td>\n",
       "    </tr>\n",
       "    <tr>\n",
       "      <th>1</th>\n",
       "      <td>ANLI: train#2028</td>\n",
       "      <td>Consider the premise: Making a pizza&lt;br&gt;Last night I wanted to make a pizza for my friends. I went out that day to buy the dough and cheese. While I was making the pizza I dropped the dough on the ground. All my friends were very sad. We had to eat sandwiches instead.\\n\\nAnd the hypothesis: a pizza was made by trump\\n\\nDoes the hypothesis follow from the premise? Answer with 'entailment', 'neutral', or 'contradiction'.</td>\n",
       "      <td>The hypothesis states that a pizza was made by Trump, whereas the premise describes a situation in which the speaker attempted to make a pizza but ended up not being able to because they dropped the dough. Therefore, the hypothesis contradicts the premise.\\n\\n</td>\n",
       "      <td>contradiction</td>\n",
       "      <td>neutral</td>\n",
       "      <td>False</td>\n",
       "    </tr>\n",
       "    <tr>\n",
       "      <th>2</th>\n",
       "      <td>ape210k: train#1916</td>\n",
       "      <td>The first workshop originally planned to produce 2,736 parts in 48 hours, but actually produced 75 parts per hour, how many more parts per hour than the original plan?\\n\\nAnswer should be a number, with no commas and rounded to 4 decimal places if applicable.</td>\n",
       "      <td>First, calculate the planned production rate in parts per hour. \\n\\nOriginal plan for production:\\nTotal parts planned = 2736\\nTotal hours = 48\\n\\nPlanned production rate = Total parts / Total hours\\nPlanned production rate = 2736 / 48 = 57 parts per hour\\n\\nNow, determine the actual production rate:\\nActual production rate = 75 parts per hour\\n\\nNext, find the difference between the actual production rate and the planned production rate:\\nDifference = Actual production rate - Planned production rate\\nDifference = 75 - 57 = 18 parts per hour\\n\\n</td>\n",
       "      <td>18</td>\n",
       "      <td>18</td>\n",
       "      <td>True</td>\n",
       "    </tr>\n",
       "    <tr>\n",
       "      <th>3</th>\n",
       "      <td>ape210k: train#1298</td>\n",
       "      <td>To build a road with a length of 1,800 meters, the full length (2/15) was repaired in the first week, and the full length (3/20) was repaired in the second week. What fraction of the entire project can be completed?\\n\\nRespond with a numerical value, rounded to 4 decimals if needed, without a thousands separator.</td>\n",
       "      <td>First, calculate the total fractions repaired in each week.\\n\\nFor the first week:\\n\\[\\n\\frac{2}{15} \\text{ of } 1800 = 1800 \\times \\frac{2}{15} = 240 \\text{ meters}\\n\\]\\n\\nFor the second week:\\n\\[\\n\\frac{3}{20} \\text{ of } 1800 = 1800 \\times \\frac{3}{20} = 270 \\text{ meters}\\n\\]\\n\\nNow, add the fractions completed in both weeks:\\n\\[\\n\\text{Total length repaired} = 240 + 270 = 510 \\text{ meters}\\n\\]\\n\\nNext, to find the fraction of the entire project completed:\\n\\[\\n\\text{Fraction completed} = \\frac{510}{1800}\\n\\]\\n\\nNow simplify this fraction:\\n\\[\\n\\frac{510}{1800} = \\frac{51}{180} = \\frac{17}{60}\\n\\]\\n\\nTo find the numerical value of this fraction:\\n\\[\\n\\frac{17}{60} \\approx 0.2833\\n\\]\\n\\nThus, the fraction of the entire project that can be completed is:\\n</td>\n",
       "      <td>0.2833</td>\n",
       "      <td>0.7167</td>\n",
       "      <td>False</td>\n",
       "    </tr>\n",
       "    <tr>\n",
       "      <th>4</th>\n",
       "      <td>MathQA: train#2764</td>\n",
       "      <td>Solve this math problem and pick the correct answer from the given options. Reply with the single letter that matches your choice. Problem: find last digits of ( 1023 ^ 3923 ) + ( 3081 ^ 3921 ) Options: a ) 8 , b ) 9 , c ) 10 , d ) 11 , e ) 12</td>\n",
       "      <td>To find the last digit of \\( (1023^{3923}) + (3081^{3921}) \\), we first note that we only need to consider the last digits of the bases since the last digit of a number raised to a power depends only on the last digit of the base itself.\\n\\n1. The last digit of \\( 1023 \\) is \\( 3 \\).\\n2. The last digit of \\( 3081 \\) is \\( 1 \\).\\n\\nNext, we compute the last digits of each term individually.\\n\\nFor \\( 3^{3923} \\):\\n- The last digits of powers of \\( 3 \\) cycle through \\( 3, 9, 7, 1 \\) every 4 terms.\\n- To find the corresponding position in the cycle, we compute \\( 3923 \\mod 4 \\):\\n  - \\( 3923 \\div 4 = 980\\) remainder \\(3\\).\\n- Thus, \\( 3923 \\mod 4 = 3 \\), which corresponds to the third element in the cycle: \\( 3^{3923} \\) ends with \\( 7 \\).\\n\\nFor \\( 1^{3921} \\):\\n- The last digit of \\( 1^{n} \\) is always \\( 1 \\).\\n\\nNow we find the last digit of the sum:\\n- Last digit of \\( (1023^{3923}) + (3081^{3921}) \\) is \\( 7 + 1 = 8 \\).\\n\\nTherefore, the last digit of the entire expression is \\( 8 \\).\\n\\n</td>\n",
       "      <td>a</td>\n",
       "      <td>a</td>\n",
       "      <td>True</td>\n",
       "    </tr>\n",
       "    <tr>\n",
       "      <th>5</th>\n",
       "      <td>ANLI: train#2354</td>\n",
       "      <td>Premise: The Hole&lt;br&gt;Kate couldn't figure out what was going on. There was a hole in her backyard. It got bigger every night! She stayed up late to watch the hole. She saw a dog sneak in and start to dig!\\n\\nHypothesis: The hole was in a neighbor's backyard\\n\\nBased on the premise, does the hypothesis follow?\\nChoose from: 'entailment', 'neutral', or 'contradiction'.</td>\n",
       "      <td>The premise states that the hole is in Kate's backyard, not the neighbor's backyard. Therefore, the hypothesis contradicts the information provided in the premise.\\n\\n</td>\n",
       "      <td>contradiction</td>\n",
       "      <td>contradiction</td>\n",
       "      <td>True</td>\n",
       "    </tr>\n",
       "    <tr>\n",
       "      <th>6</th>\n",
       "      <td>ARC easy: train#1507</td>\n",
       "      <td>Answer the question with the best option from the given options. Answer with only the letter of the correct option.\\n\\nQuestion:\\nJenny's class made an instrument to measure air pressure. The instrument is a\\n\\nOptions:\\nA: thermometer.\\nB: rain gauge.\\nC: barometer.\\nD: wind vane.</td>\n",
       "      <td>C: barometer.  \\n</td>\n",
       "      <td>C</td>\n",
       "      <td>C</td>\n",
       "      <td>True</td>\n",
       "    </tr>\n",
       "    <tr>\n",
       "      <th>7</th>\n",
       "      <td>ANLI: train#781</td>\n",
       "      <td>Premise: The entire Bay Area fell into a drought again during the summer. Thankfully, it's just the most minor stage. But it did happen during our dry season.The abnormally dry pattern spread across all Bay Area neighborhoods during the summer.Looking forward, the drought will accelerate if the wet season is drier than normal like it was last season.\\n\\nHypothesis: The  Bay Area is in Texas.\\n\\nBased on the premise, does the hypothesis follow?\\nChoose from: 'entailment', 'neutral', or 'contradiction'.</td>\n",
       "      <td>The premise discusses a drought specifically in the Bay Area, which is located in California, not Texas. The hypothesis claims that the Bay Area is in Texas, which directly contradicts the information provided. \\n\\n</td>\n",
       "      <td>contradiction</td>\n",
       "      <td>neutral</td>\n",
       "      <td>False</td>\n",
       "    </tr>\n",
       "    <tr>\n",
       "      <th>8</th>\n",
       "      <td>winogrande: train#388</td>\n",
       "      <td>Determine the best choice to complete the sentence: \\n Kevin repaired the wooden  furniture for Kyle last week since _ was an expert carpenter. \\n A: Kevin\\nB: Kyle \\n Answer using just the letter.</td>\n",
       "      <td>A: Kevin  \\n</td>\n",
       "      <td>A</td>\n",
       "      <td>B</td>\n",
       "      <td>False</td>\n",
       "    </tr>\n",
       "    <tr>\n",
       "      <th>9</th>\n",
       "      <td>jeopardy: train#1224</td>\n",
       "      <td>You have a quiz question to answer:\\nCategory: LESSER-KNOWN MUSICALS\\nQuestion: '\"Comin' Uptown\" moved this classic tale to Harlem; it starred Gregory Hines as a slumlord named Scrooge'\\nThe answer should be 3 words long.\\nRemember to include articles where appropriate. Use '&amp;' instead of 'and' if two items are mentioned.</td>\n",
       "      <td>\"Comin' Uptown\" is a musical adaptation of the classic tale \"A Christmas Carol.\" Considering the description, the answer is \"A Christmas Carol.\" \\n\\n</td>\n",
       "      <td>A Christmas Carol</td>\n",
       "      <td>A Christmas Carol</td>\n",
       "      <td>True</td>\n",
       "    </tr>\n",
       "  </tbody>\n",
       "</table>\n",
       "</div>"
      ],
      "text/plain": [
       "                 question_id  \\\n",
       "0  SuperGLUE rte: train#2067   \n",
       "1           ANLI: train#2028   \n",
       "2        ape210k: train#1916   \n",
       "3        ape210k: train#1298   \n",
       "4         MathQA: train#2764   \n",
       "5           ANLI: train#2354   \n",
       "6       ARC easy: train#1507   \n",
       "7            ANLI: train#781   \n",
       "8      winogrande: train#388   \n",
       "9       jeopardy: train#1224   \n",
       "\n",
       "                                                                                                                                                                                                                                                                                                                                                                                                                                                                                                                  final_input  \\\n",
       "0                                                                                                                       Judge whether the hypothesis is a consequence of the premise. Respond 'entailment' or 'not_entailment'.\\n\\nPremise:\\nThe poll also showed that a higher percentage of Americans (65%) believe that even if the investigation proceedings actually began, Clinton ought not to be removed.\\n\\nHypothesis:\\nAccording to the poll, 65% of Americans believe that Clinton should be removed from office.   \n",
       "1                                                                                      Consider the premise: Making a pizza<br>Last night I wanted to make a pizza for my friends. I went out that day to buy the dough and cheese. While I was making the pizza I dropped the dough on the ground. All my friends were very sad. We had to eat sandwiches instead.\\n\\nAnd the hypothesis: a pizza was made by trump\\n\\nDoes the hypothesis follow from the premise? Answer with 'entailment', 'neutral', or 'contradiction'.   \n",
       "2                                                                                                                                                                                                                                                         The first workshop originally planned to produce 2,736 parts in 48 hours, but actually produced 75 parts per hour, how many more parts per hour than the original plan?\\n\\nAnswer should be a number, with no commas and rounded to 4 decimal places if applicable.   \n",
       "3                                                                                                                                                                                                  To build a road with a length of 1,800 meters, the full length (2/15) was repaired in the first week, and the full length (3/20) was repaired in the second week. What fraction of the entire project can be completed?\\n\\nRespond with a numerical value, rounded to 4 decimals if needed, without a thousands separator.   \n",
       "4                                                                                                                                                                                                                                                                         Solve this math problem and pick the correct answer from the given options. Reply with the single letter that matches your choice. Problem: find last digits of ( 1023 ^ 3923 ) + ( 3081 ^ 3921 ) Options: a ) 8 , b ) 9 , c ) 10 , d ) 11 , e ) 12   \n",
       "5                                                                                                                                           Premise: The Hole<br>Kate couldn't figure out what was going on. There was a hole in her backyard. It got bigger every night! She stayed up late to watch the hole. She saw a dog sneak in and start to dig!\\n\\nHypothesis: The hole was in a neighbor's backyard\\n\\nBased on the premise, does the hypothesis follow?\\nChoose from: 'entailment', 'neutral', or 'contradiction'.   \n",
       "6                                                                                                                                                                                                                                  Answer the question with the best option from the given options. Answer with only the letter of the correct option.\\n\\nQuestion:\\nJenny's class made an instrument to measure air pressure. The instrument is a\\n\\nOptions:\\nA: thermometer.\\nB: rain gauge.\\nC: barometer.\\nD: wind vane.   \n",
       "7  Premise: The entire Bay Area fell into a drought again during the summer. Thankfully, it's just the most minor stage. But it did happen during our dry season.The abnormally dry pattern spread across all Bay Area neighborhoods during the summer.Looking forward, the drought will accelerate if the wet season is drier than normal like it was last season.\\n\\nHypothesis: The  Bay Area is in Texas.\\n\\nBased on the premise, does the hypothesis follow?\\nChoose from: 'entailment', 'neutral', or 'contradiction'.   \n",
       "8                                                                                                                                                                                                                                                                                                                       Determine the best choice to complete the sentence: \\n Kevin repaired the wooden  furniture for Kyle last week since _ was an expert carpenter. \\n A: Kevin\\nB: Kyle \\n Answer using just the letter.   \n",
       "9                                                                                                                                                                                         You have a quiz question to answer:\\nCategory: LESSER-KNOWN MUSICALS\\nQuestion: '\"Comin' Uptown\" moved this classic tale to Harlem; it starred Gregory Hines as a slumlord named Scrooge'\\nThe answer should be 3 words long.\\nRemember to include articles where appropriate. Use '&' instead of 'and' if two items are mentioned.   \n",
       "\n",
       "                                                                                                                                                                                                                                                                                                                                                                                                                                                                                                                                                                                                                                                                                                                                                                                                                                                                                                                                                                                                                                         rationale  \\\n",
       "0                                                                                                                                                                                                                                                                                                                                                                                                                                                                                                                                                                                                                                                                                                                                                                                                                                                                          The premise states that 65% of Americans believe Clinton ought not to be removed, which directly contradicts the hypothesis that 65% believe he should be removed. \\n\\n   \n",
       "1                                                                                                                                                                                                                                                                                                                                                                                                                                                                                                                                                                                                                                                                                                                                                                             The hypothesis states that a pizza was made by Trump, whereas the premise describes a situation in which the speaker attempted to make a pizza but ended up not being able to because they dropped the dough. Therefore, the hypothesis contradicts the premise.\\n\\n   \n",
       "2                                                                                                                                                                                                                                                                                                                                                                                                                                                                          First, calculate the planned production rate in parts per hour. \\n\\nOriginal plan for production:\\nTotal parts planned = 2736\\nTotal hours = 48\\n\\nPlanned production rate = Total parts / Total hours\\nPlanned production rate = 2736 / 48 = 57 parts per hour\\n\\nNow, determine the actual production rate:\\nActual production rate = 75 parts per hour\\n\\nNext, find the difference between the actual production rate and the planned production rate:\\nDifference = Actual production rate - Planned production rate\\nDifference = 75 - 57 = 18 parts per hour\\n\\n   \n",
       "3                                                                                                                                                                                                                                                 First, calculate the total fractions repaired in each week.\\n\\nFor the first week:\\n\\[\\n\\frac{2}{15} \\text{ of } 1800 = 1800 \\times \\frac{2}{15} = 240 \\text{ meters}\\n\\]\\n\\nFor the second week:\\n\\[\\n\\frac{3}{20} \\text{ of } 1800 = 1800 \\times \\frac{3}{20} = 270 \\text{ meters}\\n\\]\\n\\nNow, add the fractions completed in both weeks:\\n\\[\\n\\text{Total length repaired} = 240 + 270 = 510 \\text{ meters}\\n\\]\\n\\nNext, to find the fraction of the entire project completed:\\n\\[\\n\\text{Fraction completed} = \\frac{510}{1800}\\n\\]\\n\\nNow simplify this fraction:\\n\\[\\n\\frac{510}{1800} = \\frac{51}{180} = \\frac{17}{60}\\n\\]\\n\\nTo find the numerical value of this fraction:\\n\\[\\n\\frac{17}{60} \\approx 0.2833\\n\\]\\n\\nThus, the fraction of the entire project that can be completed is:\\n   \n",
       "4  To find the last digit of \\( (1023^{3923}) + (3081^{3921}) \\), we first note that we only need to consider the last digits of the bases since the last digit of a number raised to a power depends only on the last digit of the base itself.\\n\\n1. The last digit of \\( 1023 \\) is \\( 3 \\).\\n2. The last digit of \\( 3081 \\) is \\( 1 \\).\\n\\nNext, we compute the last digits of each term individually.\\n\\nFor \\( 3^{3923} \\):\\n- The last digits of powers of \\( 3 \\) cycle through \\( 3, 9, 7, 1 \\) every 4 terms.\\n- To find the corresponding position in the cycle, we compute \\( 3923 \\mod 4 \\):\\n  - \\( 3923 \\div 4 = 980\\) remainder \\(3\\).\\n- Thus, \\( 3923 \\mod 4 = 3 \\), which corresponds to the third element in the cycle: \\( 3^{3923} \\) ends with \\( 7 \\).\\n\\nFor \\( 1^{3921} \\):\\n- The last digit of \\( 1^{n} \\) is always \\( 1 \\).\\n\\nNow we find the last digit of the sum:\\n- Last digit of \\( (1023^{3923}) + (3081^{3921}) \\) is \\( 7 + 1 = 8 \\).\\n\\nTherefore, the last digit of the entire expression is \\( 8 \\).\\n\\n   \n",
       "5                                                                                                                                                                                                                                                                                                                                                                                                                                                                                                                                                                                                                                                                                                                                                                                                                                                                          The premise states that the hole is in Kate's backyard, not the neighbor's backyard. Therefore, the hypothesis contradicts the information provided in the premise.\\n\\n   \n",
       "6                                                                                                                                                                                                                                                                                                                                                                                                                                                                                                                                                                                                                                                                                                                                                                                                                                                                                                                                                                                                                                C: barometer.  \\n   \n",
       "7                                                                                                                                                                                                                                                                                                                                                                                                                                                                                                                                                                                                                                                                                                                                                                                                                          The premise discusses a drought specifically in the Bay Area, which is located in California, not Texas. The hypothesis claims that the Bay Area is in Texas, which directly contradicts the information provided. \\n\\n   \n",
       "8                                                                                                                                                                                                                                                                                                                                                                                                                                                                                                                                                                                                                                                                                                                                                                                                                                                                                                                                                                                                                                     A: Kevin  \\n   \n",
       "9                                                                                                                                                                                                                                                                                                                                                                                                                                                                                                                                                                                                                                                                                                                                                                                                                                                                                            \"Comin' Uptown\" is a musical adaptation of the classic tale \"A Christmas Carol.\" Considering the description, the answer is \"A Christmas Carol.\" \\n\\n   \n",
       "\n",
       "              answer       final_target  correct  \n",
       "0     not_entailment     not_entailment     True  \n",
       "1      contradiction            neutral    False  \n",
       "2                 18                 18     True  \n",
       "3             0.2833             0.7167    False  \n",
       "4                  a                  a     True  \n",
       "5      contradiction      contradiction     True  \n",
       "6                  C                  C     True  \n",
       "7      contradiction            neutral    False  \n",
       "8                  A                  B    False  \n",
       "9  A Christmas Carol  A Christmas Carol     True  "
      ]
     },
     "execution_count": 35,
     "metadata": {},
     "output_type": "execute_result"
    }
   ],
   "source": [
    "# print 10 samples with quetion_id, final_input, rationale, answer, final_target and correct\n",
    "head = df.head(10)\n",
    "head[[\"question_id\", \"final_input\", \"rationale\", \"answer\", \"final_target\", \"correct\"]]"
   ]
  },
  {
   "cell_type": "code",
   "execution_count": 36,
   "metadata": {},
   "outputs": [
    {
     "name": "stdout",
     "output_type": "stream",
     "text": [
      "#samples: 344 of 1000\n"
     ]
    }
   ],
   "source": [
    "# filter for olny correct answers\n",
    "correct = df[df['correct']]\n",
    "\n",
    "# filter for rationale length > 10 tokens and <= max_tokens\n",
    "correct = correct[(correct['rationale_length'] > 10) & (correct['rationale_length'] <= max_tokens)]\n",
    "\n",
    "print(f\"#samples: {len(correct)} of {len(df)}\")"
   ]
  },
  {
   "cell_type": "code",
   "execution_count": 30,
   "metadata": {},
   "outputs": [
    {
     "name": "stderr",
     "output_type": "stream",
     "text": [
      "Creating parquet from Arrow format: 100%|██████████| 1/1 [00:00<00:00, 49.26ba/s]\n",
      "Uploading the dataset shards: 100%|██████████| 1/1 [00:01<00:00,  1.96s/it]\n"
     ]
    },
    {
     "data": {
      "text/plain": [
       "CommitInfo(commit_url='https://huggingface.co/datasets/jeggers/CoT-Collection-Rationales/commit/36f8915bd8199bdb5e2b653b0038812bed966874', commit_message='Upload dataset', commit_description='', oid='36f8915bd8199bdb5e2b653b0038812bed966874', pr_url=None, pr_revision=None, pr_num=None)"
      ]
     },
     "execution_count": 30,
     "metadata": {},
     "output_type": "execute_result"
    }
   ],
   "source": [
    "# to hugggingface dataset\n",
    "filtered_dataset = Dataset.from_pandas(correct)\n",
    "filtered_dataset.push_to_hub(\"jeggers/CoT-Collection-Rationales\")"
   ]
  },
  {
   "cell_type": "markdown",
   "metadata": {},
   "source": [
    "# Clear wrong answers from cache"
   ]
  },
  {
   "cell_type": "code",
   "execution_count": null,
   "metadata": {},
   "outputs": [],
   "source": [
    "### CAUTION: DELETE ALL RATIONALES THAT ARE NOT CORRECT ###\n",
    "### USE ONLY IF YOU ARE SURE ###\n",
    "\n",
    "# load cache and delete instances where answer is not correct\n",
    "with open(results_cache, \"r\") as f:\n",
    "    rationales = json.load(f)\n",
    "\n",
    "for id in list(rationales.keys()):\n",
    "    if id not in correct[\"question_id\"].values:\n",
    "        del rationales[id]\n",
    "\n",
    "# save results to file\n",
    "with open(results_cache, \"w\") as f:\n",
    "    json.dump(rationales, f)"
   ]
  }
 ],
 "metadata": {
  "kernelspec": {
   "display_name": "AGI",
   "language": "python",
   "name": "python3"
  },
  "language_info": {
   "codemirror_mode": {
    "name": "ipython",
    "version": 3
   },
   "file_extension": ".py",
   "mimetype": "text/x-python",
   "name": "python",
   "nbconvert_exporter": "python",
   "pygments_lexer": "ipython3",
   "version": "3.11.6"
  }
 },
 "nbformat": 4,
 "nbformat_minor": 2
}
