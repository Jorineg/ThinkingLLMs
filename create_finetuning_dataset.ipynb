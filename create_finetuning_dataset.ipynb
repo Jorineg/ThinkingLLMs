{
 "cells": [
  {
   "cell_type": "code",
   "execution_count": 8,
   "metadata": {},
   "outputs": [
    {
     "name": "stderr",
     "output_type": "stream",
     "text": [
      "c:\\Users\\jorin\\.conda\\envs\\AGI\\Lib\\site-packages\\huggingface_hub\\file_download.py:1132: FutureWarning: `resume_download` is deprecated and will be removed in version 1.0.0. Downloads always resume when possible. If you want to force a new download, use `force_download=True`.\n",
      "  warnings.warn(\n"
     ]
    }
   ],
   "source": [
    "from datasets import load_dataset, concatenate_datasets\n",
    "from transformers import AutoTokenizer\n",
    "\n",
    "\n",
    "input_column = \"final_input\"\n",
    "output_column = \"final_target\"\n",
    "rationale_column = \"rationale\"\n",
    "\n",
    "max_gen_length = 100\n",
    "tokenizer_name = \"facebook/galactica-125m\"\n",
    "answer_trigger = \"ANSWER: \"\n",
    "cot_trigger = f\"BOT: \"\n",
    "instruction = f\"\"\n",
    "\n",
    "\n",
    "def add_instruction(example):\n",
    "    text = f\"{example[input_column]}\\n{cot_trigger}\"\n",
    "    example[input_column] = text\n",
    "    return example\n",
    "\n",
    "\n",
    "tokenizer = AutoTokenizer.from_pretrained(tokenizer_name)\n",
    "full_dataset = load_dataset(\"jeggers/CoT-Collection\", split=\"train[1500:4000]\")\n",
    "rationale_dataset = load_dataset(\"jeggers/CoT-Collection-Rationales\", split=\"train\")"
   ]
  },
  {
   "cell_type": "code",
   "execution_count": 9,
   "metadata": {},
   "outputs": [
    {
     "name": "stdout",
     "output_type": "stream",
     "text": [
      "Dataset({\n",
      "    features: ['final_input', 'final_target', 'Canary String', 'category', 'original_dataset', 'evaluation_method', 'dataset'],\n",
      "    num_rows: 1651\n",
      "})\n"
     ]
    }
   ],
   "source": [
    "# filter dataset to only inclue inputs <= 150 tokens\n",
    "def batch_filter(batch):\n",
    "    tokenized = tokenizer(batch['final_input'])\n",
    "    return [len(item) <= 150 for item in tokenized['input_ids']]\n",
    "\n",
    "full_dataset = full_dataset.filter(batch_filter, batched=True, batch_size=-1)\n",
    "print(full_dataset)"
   ]
  },
  {
   "cell_type": "code",
   "execution_count": 10,
   "metadata": {},
   "outputs": [
    {
     "name": "stderr",
     "output_type": "stream",
     "text": [
      "Map: 100%|██████████| 1651/1651 [00:00<00:00, 9691.89 examples/s] \n",
      "Map: 100%|██████████| 722/722 [00:00<00:00, 7773.57 examples/s]\n",
      "Map: 100%|██████████| 1651/1651 [00:00<00:00, 12397.76 examples/s]\n",
      "Map: 100%|██████████| 722/722 [00:00<00:00, 6219.23 examples/s]\n",
      "Creating parquet from Arrow format: 100%|██████████| 2/2 [00:00<00:00, 80.96ba/s]\n",
      "Uploading the dataset shards: 100%|██████████| 1/1 [00:01<00:00,  1.36s/it]\n",
      "c:\\Users\\jorin\\.conda\\envs\\AGI\\Lib\\site-packages\\huggingface_hub\\file_download.py:157: UserWarning: `huggingface_hub` cache-system uses symlinks by default to efficiently store duplicated files but your machine does not support them in C:\\Users\\jorin\\.cache\\huggingface\\hub\\datasets--jeggers--CoT-Collection-finetuning. Caching files will still work but in a degraded version that might require more space on your disk. This warning can be disabled by setting the `HF_HUB_DISABLE_SYMLINKS_WARNING` environment variable. For more details, see https://huggingface.co/docs/huggingface_hub/how-to-cache#limitations.\n",
      "To support symlinks on Windows, you either need to activate Developer Mode or to run Python as an administrator. In order to see activate developer mode, see this article: https://docs.microsoft.com/en-us/windows/apps/get-started/enable-your-device-for-development\n",
      "  warnings.warn(message)\n"
     ]
    },
    {
     "data": {
      "text/plain": [
       "CommitInfo(commit_url='https://huggingface.co/datasets/jeggers/CoT-Collection-finetuning/commit/05731665609288487721f5f982679339fe1b3e7a', commit_message='Upload dataset', commit_description='', oid='05731665609288487721f5f982679339fe1b3e7a', pr_url=None, pr_revision=None, pr_num=None)"
      ]
     },
     "execution_count": 10,
     "metadata": {},
     "output_type": "execute_result"
    }
   ],
   "source": [
    "# apply add_instruction to all examples from both datasets\n",
    "# in full_dataset add output column that is answer_trigger + current output column\n",
    "# in rationale_dataset add output column that is rationale + answer_trigger + current output column\n",
    "# select only the input and output columns for both datasets\n",
    "# sample size of rationale_dataset from full_dataset to match\n",
    "# concatenate the two datasets, shuffle, push to huggingface\n",
    "\n",
    "full_dataset = full_dataset.map(add_instruction)\n",
    "rationale_dataset = rationale_dataset.map(add_instruction)\n",
    "\n",
    "full_dataset = full_dataset.map(lambda x: { output_column: answer_trigger + x[output_column]})\n",
    "rationale_dataset = rationale_dataset.map(lambda x: { output_column: x[rationale_column] + answer_trigger + x[output_column]})\n",
    "\n",
    "full_dataset = full_dataset.select_columns([input_column, output_column])\n",
    "rationale_dataset = rationale_dataset.select_columns([input_column, output_column])\n",
    "\n",
    "full_dataset = full_dataset.select(range(len(rationale_dataset)))\n",
    "\n",
    "dataset = concatenate_datasets([full_dataset, rationale_dataset])\n",
    "dataset = dataset.shuffle()\n",
    "\n",
    "dataset.push_to_hub(\"jeggers/CoT-Collection-finetuning\")"
   ]
  }
 ],
 "metadata": {
  "kernelspec": {
   "display_name": "AGI",
   "language": "python",
   "name": "python3"
  },
  "language_info": {
   "codemirror_mode": {
    "name": "ipython",
    "version": 3
   },
   "file_extension": ".py",
   "mimetype": "text/x-python",
   "name": "python",
   "nbconvert_exporter": "python",
   "pygments_lexer": "ipython3",
   "version": "3.11.6"
  }
 },
 "nbformat": 4,
 "nbformat_minor": 2
}
